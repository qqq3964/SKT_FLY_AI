{
 "cells": [
  {
   "cell_type": "markdown",
   "id": "5b02decd-3e61-452f-842e-f26811081761",
   "metadata": {},
   "source": [
    "### KNN iris 2진 분류(Binary Classification)"
   ]
  },
  {
   "cell_type": "code",
   "execution_count": 15,
   "id": "9b9d6315-ef4e-4d23-ae57-7f4fc68c00cc",
   "metadata": {},
   "outputs": [],
   "source": [
    "import pandas as pd\n",
    "import numpy as np\n",
    "import matplotlib.pyplot as plt\n",
    "import seaborn as sns"
   ]
  },
  {
   "cell_type": "markdown",
   "id": "ec41b3ce-5e5b-43b5-bebc-e6c18b42f047",
   "metadata": {},
   "source": [
    "### 데이터 준비"
   ]
  },
  {
   "cell_type": "code",
   "execution_count": 16,
   "id": "1fc7f6fe-00d4-4252-80a7-15f586f44902",
   "metadata": {},
   "outputs": [
    {
     "data": {
      "text/html": [
       "<div>\n",
       "<style scoped>\n",
       "    .dataframe tbody tr th:only-of-type {\n",
       "        vertical-align: middle;\n",
       "    }\n",
       "\n",
       "    .dataframe tbody tr th {\n",
       "        vertical-align: top;\n",
       "    }\n",
       "\n",
       "    .dataframe thead th {\n",
       "        text-align: right;\n",
       "    }\n",
       "</style>\n",
       "<table border=\"1\" class=\"dataframe\">\n",
       "  <thead>\n",
       "    <tr style=\"text-align: right;\">\n",
       "      <th></th>\n",
       "      <th>id</th>\n",
       "      <th>sepallengthcm</th>\n",
       "      <th>sepalwidthcm</th>\n",
       "      <th>petallengthcm</th>\n",
       "      <th>petalwidthcm</th>\n",
       "      <th>species</th>\n",
       "    </tr>\n",
       "  </thead>\n",
       "  <tbody>\n",
       "    <tr>\n",
       "      <th>0</th>\n",
       "      <td>1</td>\n",
       "      <td>5.1</td>\n",
       "      <td>3.5</td>\n",
       "      <td>1.4</td>\n",
       "      <td>0.2</td>\n",
       "      <td>Iris-setosa</td>\n",
       "    </tr>\n",
       "    <tr>\n",
       "      <th>1</th>\n",
       "      <td>2</td>\n",
       "      <td>4.9</td>\n",
       "      <td>3.0</td>\n",
       "      <td>1.4</td>\n",
       "      <td>0.2</td>\n",
       "      <td>Iris-setosa</td>\n",
       "    </tr>\n",
       "    <tr>\n",
       "      <th>2</th>\n",
       "      <td>3</td>\n",
       "      <td>4.7</td>\n",
       "      <td>3.2</td>\n",
       "      <td>1.3</td>\n",
       "      <td>0.2</td>\n",
       "      <td>Iris-setosa</td>\n",
       "    </tr>\n",
       "    <tr>\n",
       "      <th>3</th>\n",
       "      <td>4</td>\n",
       "      <td>4.6</td>\n",
       "      <td>3.1</td>\n",
       "      <td>1.5</td>\n",
       "      <td>0.2</td>\n",
       "      <td>Iris-setosa</td>\n",
       "    </tr>\n",
       "    <tr>\n",
       "      <th>4</th>\n",
       "      <td>5</td>\n",
       "      <td>5.0</td>\n",
       "      <td>3.6</td>\n",
       "      <td>1.4</td>\n",
       "      <td>0.2</td>\n",
       "      <td>Iris-setosa</td>\n",
       "    </tr>\n",
       "  </tbody>\n",
       "</table>\n",
       "</div>"
      ],
      "text/plain": [
       "   id  sepallengthcm  sepalwidthcm  petallengthcm  petalwidthcm      species\n",
       "0   1            5.1           3.5            1.4           0.2  Iris-setosa\n",
       "1   2            4.9           3.0            1.4           0.2  Iris-setosa\n",
       "2   3            4.7           3.2            1.3           0.2  Iris-setosa\n",
       "3   4            4.6           3.1            1.5           0.2  Iris-setosa\n",
       "4   5            5.0           3.6            1.4           0.2  Iris-setosa"
      ]
     },
     "execution_count": 16,
     "metadata": {},
     "output_type": "execute_result"
    }
   ],
   "source": [
    "df = pd.read_csv('iris.csv')\n",
    "df.columns = [i.lower() for i in df.columns]\n",
    "df.head()"
   ]
  },
  {
   "cell_type": "code",
   "execution_count": 17,
   "id": "ad31d132-cd7c-4e2f-a472-28a9bd0bfcd4",
   "metadata": {},
   "outputs": [
    {
     "data": {
      "text/html": [
       "<div>\n",
       "<style scoped>\n",
       "    .dataframe tbody tr th:only-of-type {\n",
       "        vertical-align: middle;\n",
       "    }\n",
       "\n",
       "    .dataframe tbody tr th {\n",
       "        vertical-align: top;\n",
       "    }\n",
       "\n",
       "    .dataframe thead th {\n",
       "        text-align: right;\n",
       "    }\n",
       "</style>\n",
       "<table border=\"1\" class=\"dataframe\">\n",
       "  <thead>\n",
       "    <tr style=\"text-align: right;\">\n",
       "      <th></th>\n",
       "      <th>sepallengthcm</th>\n",
       "      <th>sepalwidthcm</th>\n",
       "      <th>petallengthcm</th>\n",
       "      <th>petalwidthcm</th>\n",
       "      <th>species</th>\n",
       "    </tr>\n",
       "  </thead>\n",
       "  <tbody>\n",
       "    <tr>\n",
       "      <th>0</th>\n",
       "      <td>5.1</td>\n",
       "      <td>3.5</td>\n",
       "      <td>1.4</td>\n",
       "      <td>0.2</td>\n",
       "      <td>Iris-setosa</td>\n",
       "    </tr>\n",
       "    <tr>\n",
       "      <th>1</th>\n",
       "      <td>4.9</td>\n",
       "      <td>3.0</td>\n",
       "      <td>1.4</td>\n",
       "      <td>0.2</td>\n",
       "      <td>Iris-setosa</td>\n",
       "    </tr>\n",
       "    <tr>\n",
       "      <th>2</th>\n",
       "      <td>4.7</td>\n",
       "      <td>3.2</td>\n",
       "      <td>1.3</td>\n",
       "      <td>0.2</td>\n",
       "      <td>Iris-setosa</td>\n",
       "    </tr>\n",
       "    <tr>\n",
       "      <th>3</th>\n",
       "      <td>4.6</td>\n",
       "      <td>3.1</td>\n",
       "      <td>1.5</td>\n",
       "      <td>0.2</td>\n",
       "      <td>Iris-setosa</td>\n",
       "    </tr>\n",
       "    <tr>\n",
       "      <th>4</th>\n",
       "      <td>5.0</td>\n",
       "      <td>3.6</td>\n",
       "      <td>1.4</td>\n",
       "      <td>0.2</td>\n",
       "      <td>Iris-setosa</td>\n",
       "    </tr>\n",
       "  </tbody>\n",
       "</table>\n",
       "</div>"
      ],
      "text/plain": [
       "   sepallengthcm  sepalwidthcm  petallengthcm  petalwidthcm      species\n",
       "0            5.1           3.5            1.4           0.2  Iris-setosa\n",
       "1            4.9           3.0            1.4           0.2  Iris-setosa\n",
       "2            4.7           3.2            1.3           0.2  Iris-setosa\n",
       "3            4.6           3.1            1.5           0.2  Iris-setosa\n",
       "4            5.0           3.6            1.4           0.2  Iris-setosa"
      ]
     },
     "execution_count": 17,
     "metadata": {},
     "output_type": "execute_result"
    }
   ],
   "source": [
    "df = df.drop(labels='id',axis=1)\n",
    "df.head()"
   ]
  },
  {
   "cell_type": "code",
   "execution_count": 18,
   "id": "415c4327-62a4-4ea8-aae9-07ffd0af7535",
   "metadata": {},
   "outputs": [
    {
     "data": {
      "text/plain": [
       "Iris-setosa        50\n",
       "Iris-versicolor    50\n",
       "Iris-virginica     50\n",
       "Name: species, dtype: int64"
      ]
     },
     "execution_count": 18,
     "metadata": {},
     "output_type": "execute_result"
    }
   ],
   "source": [
    "df['species'].value_counts()"
   ]
  },
  {
   "cell_type": "code",
   "execution_count": 19,
   "id": "cf01bb4e-3aac-403b-8073-b5752ed2da8b",
   "metadata": {},
   "outputs": [
    {
     "name": "stdout",
     "output_type": "stream",
     "text": [
      "<class 'pandas.core.frame.DataFrame'>\n",
      "RangeIndex: 150 entries, 0 to 149\n",
      "Data columns (total 5 columns):\n",
      " #   Column         Non-Null Count  Dtype  \n",
      "---  ------         --------------  -----  \n",
      " 0   sepallengthcm  150 non-null    float64\n",
      " 1   sepalwidthcm   150 non-null    float64\n",
      " 2   petallengthcm  150 non-null    float64\n",
      " 3   petalwidthcm   150 non-null    float64\n",
      " 4   species        150 non-null    object \n",
      "dtypes: float64(4), object(1)\n",
      "memory usage: 6.0+ KB\n"
     ]
    },
    {
     "data": {
      "text/html": [
       "<div>\n",
       "<style scoped>\n",
       "    .dataframe tbody tr th:only-of-type {\n",
       "        vertical-align: middle;\n",
       "    }\n",
       "\n",
       "    .dataframe tbody tr th {\n",
       "        vertical-align: top;\n",
       "    }\n",
       "\n",
       "    .dataframe thead th {\n",
       "        text-align: right;\n",
       "    }\n",
       "</style>\n",
       "<table border=\"1\" class=\"dataframe\">\n",
       "  <thead>\n",
       "    <tr style=\"text-align: right;\">\n",
       "      <th></th>\n",
       "      <th>sepallengthcm</th>\n",
       "      <th>sepalwidthcm</th>\n",
       "      <th>petallengthcm</th>\n",
       "      <th>petalwidthcm</th>\n",
       "      <th>species</th>\n",
       "    </tr>\n",
       "  </thead>\n",
       "  <tbody>\n",
       "    <tr>\n",
       "      <th>0</th>\n",
       "      <td>5.1</td>\n",
       "      <td>3.5</td>\n",
       "      <td>1.4</td>\n",
       "      <td>0.2</td>\n",
       "      <td>Iris-setosa</td>\n",
       "    </tr>\n",
       "    <tr>\n",
       "      <th>1</th>\n",
       "      <td>4.9</td>\n",
       "      <td>3.0</td>\n",
       "      <td>1.4</td>\n",
       "      <td>0.2</td>\n",
       "      <td>Iris-setosa</td>\n",
       "    </tr>\n",
       "    <tr>\n",
       "      <th>2</th>\n",
       "      <td>4.7</td>\n",
       "      <td>3.2</td>\n",
       "      <td>1.3</td>\n",
       "      <td>0.2</td>\n",
       "      <td>Iris-setosa</td>\n",
       "    </tr>\n",
       "    <tr>\n",
       "      <th>3</th>\n",
       "      <td>4.6</td>\n",
       "      <td>3.1</td>\n",
       "      <td>1.5</td>\n",
       "      <td>0.2</td>\n",
       "      <td>Iris-setosa</td>\n",
       "    </tr>\n",
       "    <tr>\n",
       "      <th>4</th>\n",
       "      <td>5.0</td>\n",
       "      <td>3.6</td>\n",
       "      <td>1.4</td>\n",
       "      <td>0.2</td>\n",
       "      <td>Iris-setosa</td>\n",
       "    </tr>\n",
       "  </tbody>\n",
       "</table>\n",
       "</div>"
      ],
      "text/plain": [
       "   sepallengthcm  sepalwidthcm  petallengthcm  petalwidthcm      species\n",
       "0            5.1           3.5            1.4           0.2  Iris-setosa\n",
       "1            4.9           3.0            1.4           0.2  Iris-setosa\n",
       "2            4.7           3.2            1.3           0.2  Iris-setosa\n",
       "3            4.6           3.1            1.5           0.2  Iris-setosa\n",
       "4            5.0           3.6            1.4           0.2  Iris-setosa"
      ]
     },
     "execution_count": 19,
     "metadata": {},
     "output_type": "execute_result"
    }
   ],
   "source": [
    "df.info()\n",
    "df.head()"
   ]
  },
  {
   "cell_type": "code",
   "execution_count": 20,
   "id": "d98ebb34-44c2-4315-af03-c3fb2b86f6a1",
   "metadata": {},
   "outputs": [
    {
     "data": {
      "text/html": [
       "<div>\n",
       "<style scoped>\n",
       "    .dataframe tbody tr th:only-of-type {\n",
       "        vertical-align: middle;\n",
       "    }\n",
       "\n",
       "    .dataframe tbody tr th {\n",
       "        vertical-align: top;\n",
       "    }\n",
       "\n",
       "    .dataframe thead th {\n",
       "        text-align: right;\n",
       "    }\n",
       "</style>\n",
       "<table border=\"1\" class=\"dataframe\">\n",
       "  <thead>\n",
       "    <tr style=\"text-align: right;\">\n",
       "      <th></th>\n",
       "      <th>sepallengthcm</th>\n",
       "      <th>sepalwidthcm</th>\n",
       "      <th>petallengthcm</th>\n",
       "      <th>petalwidthcm</th>\n",
       "      <th>species</th>\n",
       "    </tr>\n",
       "  </thead>\n",
       "  <tbody>\n",
       "    <tr>\n",
       "      <th>0</th>\n",
       "      <td>5.1</td>\n",
       "      <td>3.5</td>\n",
       "      <td>1.4</td>\n",
       "      <td>0.2</td>\n",
       "      <td>0</td>\n",
       "    </tr>\n",
       "    <tr>\n",
       "      <th>1</th>\n",
       "      <td>4.9</td>\n",
       "      <td>3.0</td>\n",
       "      <td>1.4</td>\n",
       "      <td>0.2</td>\n",
       "      <td>0</td>\n",
       "    </tr>\n",
       "    <tr>\n",
       "      <th>2</th>\n",
       "      <td>4.7</td>\n",
       "      <td>3.2</td>\n",
       "      <td>1.3</td>\n",
       "      <td>0.2</td>\n",
       "      <td>0</td>\n",
       "    </tr>\n",
       "    <tr>\n",
       "      <th>3</th>\n",
       "      <td>4.6</td>\n",
       "      <td>3.1</td>\n",
       "      <td>1.5</td>\n",
       "      <td>0.2</td>\n",
       "      <td>0</td>\n",
       "    </tr>\n",
       "    <tr>\n",
       "      <th>4</th>\n",
       "      <td>5.0</td>\n",
       "      <td>3.6</td>\n",
       "      <td>1.4</td>\n",
       "      <td>0.2</td>\n",
       "      <td>0</td>\n",
       "    </tr>\n",
       "    <tr>\n",
       "      <th>...</th>\n",
       "      <td>...</td>\n",
       "      <td>...</td>\n",
       "      <td>...</td>\n",
       "      <td>...</td>\n",
       "      <td>...</td>\n",
       "    </tr>\n",
       "    <tr>\n",
       "      <th>145</th>\n",
       "      <td>6.7</td>\n",
       "      <td>3.0</td>\n",
       "      <td>5.2</td>\n",
       "      <td>2.3</td>\n",
       "      <td>2</td>\n",
       "    </tr>\n",
       "    <tr>\n",
       "      <th>146</th>\n",
       "      <td>6.3</td>\n",
       "      <td>2.5</td>\n",
       "      <td>5.0</td>\n",
       "      <td>1.9</td>\n",
       "      <td>2</td>\n",
       "    </tr>\n",
       "    <tr>\n",
       "      <th>147</th>\n",
       "      <td>6.5</td>\n",
       "      <td>3.0</td>\n",
       "      <td>5.2</td>\n",
       "      <td>2.0</td>\n",
       "      <td>2</td>\n",
       "    </tr>\n",
       "    <tr>\n",
       "      <th>148</th>\n",
       "      <td>6.2</td>\n",
       "      <td>3.4</td>\n",
       "      <td>5.4</td>\n",
       "      <td>2.3</td>\n",
       "      <td>2</td>\n",
       "    </tr>\n",
       "    <tr>\n",
       "      <th>149</th>\n",
       "      <td>5.9</td>\n",
       "      <td>3.0</td>\n",
       "      <td>5.1</td>\n",
       "      <td>1.8</td>\n",
       "      <td>2</td>\n",
       "    </tr>\n",
       "  </tbody>\n",
       "</table>\n",
       "<p>150 rows × 5 columns</p>\n",
       "</div>"
      ],
      "text/plain": [
       "     sepallengthcm  sepalwidthcm  petallengthcm  petalwidthcm  species\n",
       "0              5.1           3.5            1.4           0.2        0\n",
       "1              4.9           3.0            1.4           0.2        0\n",
       "2              4.7           3.2            1.3           0.2        0\n",
       "3              4.6           3.1            1.5           0.2        0\n",
       "4              5.0           3.6            1.4           0.2        0\n",
       "..             ...           ...            ...           ...      ...\n",
       "145            6.7           3.0            5.2           2.3        2\n",
       "146            6.3           2.5            5.0           1.9        2\n",
       "147            6.5           3.0            5.2           2.0        2\n",
       "148            6.2           3.4            5.4           2.3        2\n",
       "149            5.9           3.0            5.1           1.8        2\n",
       "\n",
       "[150 rows x 5 columns]"
      ]
     },
     "execution_count": 20,
     "metadata": {},
     "output_type": "execute_result"
    }
   ],
   "source": [
    "# 0 Iris-setosa\n",
    "# 1 Iris-versicolor\n",
    "# 2 Iris-virginica\n",
    "df['species'] = df['species'].map({'Iris-setosa':0,'Iris-versicolor':1,'Iris-virginica':2})\n",
    "df"
   ]
  },
  {
   "cell_type": "code",
   "execution_count": 21,
   "id": "d5d8100a-dc54-4740-99a6-dc67f8b1718b",
   "metadata": {},
   "outputs": [
    {
     "data": {
      "text/plain": [
       "Index(['sepallengthcm', 'sepalwidthcm', 'petallengthcm', 'petalwidthcm',\n",
       "       'species'],\n",
       "      dtype='object')"
      ]
     },
     "execution_count": 21,
     "metadata": {},
     "output_type": "execute_result"
    }
   ],
   "source": [
    "df.columns"
   ]
  },
  {
   "cell_type": "code",
   "execution_count": 22,
   "id": "261b60ef-eb93-4ab6-aebf-57829b8a4c5a",
   "metadata": {},
   "outputs": [
    {
     "data": {
      "text/html": [
       "<div>\n",
       "<style scoped>\n",
       "    .dataframe tbody tr th:only-of-type {\n",
       "        vertical-align: middle;\n",
       "    }\n",
       "\n",
       "    .dataframe tbody tr th {\n",
       "        vertical-align: top;\n",
       "    }\n",
       "\n",
       "    .dataframe thead th {\n",
       "        text-align: right;\n",
       "    }\n",
       "</style>\n",
       "<table border=\"1\" class=\"dataframe\">\n",
       "  <thead>\n",
       "    <tr style=\"text-align: right;\">\n",
       "      <th></th>\n",
       "      <th>sepallengthcm</th>\n",
       "      <th>sepalwidthcm</th>\n",
       "      <th>petallengthcm</th>\n",
       "      <th>petalwidthcm</th>\n",
       "    </tr>\n",
       "  </thead>\n",
       "  <tbody>\n",
       "    <tr>\n",
       "      <th>0</th>\n",
       "      <td>5.1</td>\n",
       "      <td>3.5</td>\n",
       "      <td>1.4</td>\n",
       "      <td>0.2</td>\n",
       "    </tr>\n",
       "    <tr>\n",
       "      <th>1</th>\n",
       "      <td>4.9</td>\n",
       "      <td>3.0</td>\n",
       "      <td>1.4</td>\n",
       "      <td>0.2</td>\n",
       "    </tr>\n",
       "    <tr>\n",
       "      <th>2</th>\n",
       "      <td>4.7</td>\n",
       "      <td>3.2</td>\n",
       "      <td>1.3</td>\n",
       "      <td>0.2</td>\n",
       "    </tr>\n",
       "    <tr>\n",
       "      <th>3</th>\n",
       "      <td>4.6</td>\n",
       "      <td>3.1</td>\n",
       "      <td>1.5</td>\n",
       "      <td>0.2</td>\n",
       "    </tr>\n",
       "    <tr>\n",
       "      <th>4</th>\n",
       "      <td>5.0</td>\n",
       "      <td>3.6</td>\n",
       "      <td>1.4</td>\n",
       "      <td>0.2</td>\n",
       "    </tr>\n",
       "  </tbody>\n",
       "</table>\n",
       "</div>"
      ],
      "text/plain": [
       "   sepallengthcm  sepalwidthcm  petallengthcm  petalwidthcm\n",
       "0            5.1           3.5            1.4           0.2\n",
       "1            4.9           3.0            1.4           0.2\n",
       "2            4.7           3.2            1.3           0.2\n",
       "3            4.6           3.1            1.5           0.2\n",
       "4            5.0           3.6            1.4           0.2"
      ]
     },
     "execution_count": 22,
     "metadata": {},
     "output_type": "execute_result"
    }
   ],
   "source": [
    "X=df.iloc[:,:-1] # 앞에가 row 뒤가 columns\n",
    "y=df.iloc[:,-1]\n",
    "X.head()"
   ]
  },
  {
   "cell_type": "code",
   "execution_count": 23,
   "id": "31369570-0488-4273-9294-b038e60d2c1e",
   "metadata": {},
   "outputs": [
    {
     "data": {
      "text/plain": [
       "((150, 4), (150,))"
      ]
     },
     "execution_count": 23,
     "metadata": {},
     "output_type": "execute_result"
    }
   ],
   "source": [
    "# 2번째방법\n",
    "X=df.drop(['species'],axis=1)\n",
    "y=df.iloc[:,-1]\n",
    "X.shape,y.shape"
   ]
  },
  {
   "cell_type": "markdown",
   "id": "fca0f856-2c83-48f2-9c27-b74a4c0c33e8",
   "metadata": {},
   "source": [
    "### test data 와 validation 분리"
   ]
  },
  {
   "cell_type": "code",
   "execution_count": 24,
   "id": "6200a7e9-47f3-4acd-a18f-548ff71082e7",
   "metadata": {},
   "outputs": [],
   "source": [
    "# !pip install scikit-learn --user"
   ]
  },
  {
   "cell_type": "code",
   "execution_count": 28,
   "id": "d7193c1e-c42d-4142-a4a8-21854c0289de",
   "metadata": {},
   "outputs": [
    {
     "name": "stderr",
     "output_type": "stream",
     "text": [
      "C:\\Users\\007\\AppData\\Local\\Temp\\ipykernel_25516\\3778363878.py:8: FutureWarning: The behavior of `series[i:j]` with an integer-dtype index is deprecated. In a future version, this will be treated as *label-based* indexing, consistent with e.g. `series[i]` lookups. To retain the old behavior, use `series.iloc[i:j]`. To get the future behavior, use `series.loc[i:j]`.\n",
      "  y_train = y[:120]\n",
      "C:\\Users\\007\\AppData\\Local\\Temp\\ipykernel_25516\\3778363878.py:9: FutureWarning: The behavior of `series[i:j]` with an integer-dtype index is deprecated. In a future version, this will be treated as *label-based* indexing, consistent with e.g. `series[i]` lookups. To retain the old behavior, use `series.iloc[i:j]`. To get the future behavior, use `series.loc[i:j]`.\n",
      "  y_test = y[120:]\n"
     ]
    },
    {
     "data": {
      "text/plain": [
       "((120, 4), (30, 4))"
      ]
     },
     "execution_count": 28,
     "metadata": {},
     "output_type": "execute_result"
    }
   ],
   "source": [
    "from sklearn.utils import shuffle\n",
    "# 80 : 20 으로 나누기\n",
    "# sklearn.utils.shuffle(X,y)\n",
    "X,y = shuffle(X,y)\n",
    "\n",
    "X_train = X.iloc[:120,:]\n",
    "X_test = X.iloc[120:,:]\n",
    "y_train = y[:120]\n",
    "y_test = y[120:]\n",
    "X_train.shape,X_test.shape"
   ]
  },
  {
   "cell_type": "code",
   "execution_count": 30,
   "id": "f9597a0a-bcdb-49b5-ab16-c5b38cbd19a1",
   "metadata": {},
   "outputs": [
    {
     "data": {
      "text/plain": [
       "(30, 4)"
      ]
     },
     "execution_count": 30,
     "metadata": {},
     "output_type": "execute_result"
    }
   ],
   "source": [
    "X_test.shape"
   ]
  },
  {
   "cell_type": "markdown",
   "id": "5bb231c5-73f7-4c19-97ed-8a8cc1c8fb37",
   "metadata": {},
   "source": [
    "### 정규화\n",
    "- min,max normalization\n",
    "- standardzation (표준화)\n"
   ]
  },
  {
   "cell_type": "code",
   "execution_count": 31,
   "id": "f8f9cb85-b582-4e5f-b261-8096ad935711",
   "metadata": {},
   "outputs": [
    {
     "name": "stderr",
     "output_type": "stream",
     "text": [
      "C:\\Users\\007\\AppData\\Local\\Temp\\ipykernel_25516\\3861735492.py:3: SettingWithCopyWarning: \n",
      "A value is trying to be set on a copy of a slice from a DataFrame.\n",
      "Try using .loc[row_indexer,col_indexer] = value instead\n",
      "\n",
      "See the caveats in the documentation: https://pandas.pydata.org/pandas-docs/stable/user_guide/indexing.html#returning-a-view-versus-a-copy\n",
      "  X_train[col]=(X_train[col]-X_train[col].mean())/(X_train[col].std())\n"
     ]
    },
    {
     "data": {
      "text/html": [
       "<div>\n",
       "<style scoped>\n",
       "    .dataframe tbody tr th:only-of-type {\n",
       "        vertical-align: middle;\n",
       "    }\n",
       "\n",
       "    .dataframe tbody tr th {\n",
       "        vertical-align: top;\n",
       "    }\n",
       "\n",
       "    .dataframe thead th {\n",
       "        text-align: right;\n",
       "    }\n",
       "</style>\n",
       "<table border=\"1\" class=\"dataframe\">\n",
       "  <thead>\n",
       "    <tr style=\"text-align: right;\">\n",
       "      <th></th>\n",
       "      <th>sepallengthcm</th>\n",
       "      <th>sepalwidthcm</th>\n",
       "      <th>petallengthcm</th>\n",
       "      <th>petalwidthcm</th>\n",
       "    </tr>\n",
       "  </thead>\n",
       "  <tbody>\n",
       "    <tr>\n",
       "      <th>43</th>\n",
       "      <td>-1.006683</td>\n",
       "      <td>1.066615</td>\n",
       "      <td>-1.228638</td>\n",
       "      <td>-0.787294</td>\n",
       "    </tr>\n",
       "    <tr>\n",
       "      <th>18</th>\n",
       "      <td>-0.192810</td>\n",
       "      <td>1.787030</td>\n",
       "      <td>-1.172429</td>\n",
       "      <td>-1.177151</td>\n",
       "    </tr>\n",
       "    <tr>\n",
       "      <th>140</th>\n",
       "      <td>0.969865</td>\n",
       "      <td>0.106061</td>\n",
       "      <td>1.019727</td>\n",
       "      <td>1.551847</td>\n",
       "    </tr>\n",
       "    <tr>\n",
       "      <th>124</th>\n",
       "      <td>0.969865</td>\n",
       "      <td>0.586338</td>\n",
       "      <td>1.075936</td>\n",
       "      <td>1.161990</td>\n",
       "    </tr>\n",
       "    <tr>\n",
       "      <th>23</th>\n",
       "      <td>-0.890415</td>\n",
       "      <td>0.586338</td>\n",
       "      <td>-1.172429</td>\n",
       "      <td>-0.917247</td>\n",
       "    </tr>\n",
       "    <tr>\n",
       "      <th>...</th>\n",
       "      <td>...</td>\n",
       "      <td>...</td>\n",
       "      <td>...</td>\n",
       "      <td>...</td>\n",
       "    </tr>\n",
       "    <tr>\n",
       "      <th>22</th>\n",
       "      <td>-1.471753</td>\n",
       "      <td>1.306753</td>\n",
       "      <td>-1.565893</td>\n",
       "      <td>-1.307103</td>\n",
       "    </tr>\n",
       "    <tr>\n",
       "      <th>42</th>\n",
       "      <td>-1.704288</td>\n",
       "      <td>0.346200</td>\n",
       "      <td>-1.397265</td>\n",
       "      <td>-1.307103</td>\n",
       "    </tr>\n",
       "    <tr>\n",
       "      <th>37</th>\n",
       "      <td>-1.122950</td>\n",
       "      <td>0.106061</td>\n",
       "      <td>-1.284847</td>\n",
       "      <td>-1.437056</td>\n",
       "    </tr>\n",
       "    <tr>\n",
       "      <th>131</th>\n",
       "      <td>2.365075</td>\n",
       "      <td>1.787030</td>\n",
       "      <td>1.469400</td>\n",
       "      <td>1.032038</td>\n",
       "    </tr>\n",
       "    <tr>\n",
       "      <th>28</th>\n",
       "      <td>-0.774148</td>\n",
       "      <td>0.826476</td>\n",
       "      <td>-1.341056</td>\n",
       "      <td>-1.307103</td>\n",
       "    </tr>\n",
       "  </tbody>\n",
       "</table>\n",
       "<p>120 rows × 4 columns</p>\n",
       "</div>"
      ],
      "text/plain": [
       "     sepallengthcm  sepalwidthcm  petallengthcm  petalwidthcm\n",
       "43       -1.006683      1.066615      -1.228638     -0.787294\n",
       "18       -0.192810      1.787030      -1.172429     -1.177151\n",
       "140       0.969865      0.106061       1.019727      1.551847\n",
       "124       0.969865      0.586338       1.075936      1.161990\n",
       "23       -0.890415      0.586338      -1.172429     -0.917247\n",
       "..             ...           ...            ...           ...\n",
       "22       -1.471753      1.306753      -1.565893     -1.307103\n",
       "42       -1.704288      0.346200      -1.397265     -1.307103\n",
       "37       -1.122950      0.106061      -1.284847     -1.437056\n",
       "131       2.365075      1.787030       1.469400      1.032038\n",
       "28       -0.774148      0.826476      -1.341056     -1.307103\n",
       "\n",
       "[120 rows x 4 columns]"
      ]
     },
     "execution_count": 31,
     "metadata": {},
     "output_type": "execute_result"
    }
   ],
   "source": [
    "# train data만 normalization을 해줌 test는 절대 하면 안됨..\n",
    "for col in X_train.columns :\n",
    "    X_train[col]=(X_train[col]-X_train[col].mean())/(X_train[col].std())\n",
    "X_train"
   ]
  },
  {
   "cell_type": "code",
   "execution_count": 32,
   "id": "c863a39d-ecb5-4e4a-8b0d-67243ccc8f9f",
   "metadata": {},
   "outputs": [
    {
     "data": {
      "text/plain": [
       "(numpy.ndarray, numpy.ndarray)"
      ]
     },
     "execution_count": 32,
     "metadata": {},
     "output_type": "execute_result"
    }
   ],
   "source": [
    "X_train\n",
    "X_train = X_train.values\n",
    "y_train = y_train.values\n",
    "type(X_train),type(y_train)"
   ]
  },
  {
   "cell_type": "markdown",
   "id": "7752c8b0-9a7b-4c3a-a939-a202fdc705e7",
   "metadata": {},
   "source": [
    "### 테스트 데이터"
   ]
  },
  {
   "cell_type": "code",
   "execution_count": 33,
   "id": "540e3689-c901-45ba-aee3-d11db2c7c712",
   "metadata": {},
   "outputs": [],
   "source": [
    "def get_iris():\n",
    "    df = pd.read_csv('iris.csv')\n",
    "    # change the name of columns with lower func\n",
    "    df.columns = [i.lower() for i in df.columns]\n",
    "    # drop id\n",
    "    df.drop(['id'],axis=1)\n",
    "    # change y from str to int\n",
    "    df['species'] = df['species'].map({'Iris-setosa':0,'Iris-versicolor':1,'Iris-virginica':2})\n",
    "    # divide X,y\n",
    "    X = df.iloc[:,:-1]\n",
    "    y = df.iloc[:,-1]\n",
    "    # shuffle X,y\n",
    "    X,y = shuffle(X,y)\n",
    "    # train dataset and test dataset 8:2\n",
    "    num = int(150*0.8)\n",
    "    X_train = X.iloc[:num,:]\n",
    "    X_test = X.iloc[num:,:]\n",
    "    y_train = y[num:]\n",
    "    y_test = y[num:]\n",
    "    X_train = X_train.values\n",
    "    y_train = y_train.values\n",
    "    X_test = X_test.values\n",
    "    y_test = y_test.values\n",
    "    return X_train,X_test,y_train,y_test"
   ]
  },
  {
   "cell_type": "code",
   "execution_count": 40,
   "id": "1f5cdbb0-cef4-4322-85ad-0af78990f17f",
   "metadata": {},
   "outputs": [
    {
     "name": "stderr",
     "output_type": "stream",
     "text": [
      "C:\\Users\\007\\AppData\\Local\\Temp\\ipykernel_25516\\4221194153.py:25: FutureWarning: The behavior of `series[i:j]` with an integer-dtype index is deprecated. In a future version, this will be treated as *label-based* indexing, consistent with e.g. `series[i]` lookups. To retain the old behavior, use `series.iloc[i:j]`. To get the future behavior, use `series.loc[i:j]`.\n",
      "  y_train = y[num:]\n",
      "C:\\Users\\007\\AppData\\Local\\Temp\\ipykernel_25516\\4221194153.py:26: FutureWarning: The behavior of `series[i:j]` with an integer-dtype index is deprecated. In a future version, this will be treated as *label-based* indexing, consistent with e.g. `series[i]` lookups. To retain the old behavior, use `series.iloc[i:j]`. To get the future behavior, use `series.loc[i:j]`.\n",
      "  y_test = y[num:]\n"
     ]
    },
    {
     "data": {
      "text/plain": [
       "array([0, 0, 1, 0, 1, 1, 0, 0, 1, 0, 1, 0, 0, 0, 1, 0, 1, 0, 1, 1],\n",
       "      dtype=int64)"
      ]
     },
     "execution_count": 40,
     "metadata": {},
     "output_type": "execute_result"
    }
   ],
   "source": [
    "X_train,X_test,y_train,y_test = get_iris()\n",
    "X_train\n",
    "y_test"
   ]
  },
  {
   "cell_type": "code",
   "execution_count": 41,
   "id": "c94e25db-6af8-45f7-b8a1-40a122277c05",
   "metadata": {},
   "outputs": [],
   "source": [
    "iris = pd.read_csv('iris.csv')"
   ]
  },
  {
   "cell_type": "code",
   "execution_count": 87,
   "id": "d22a35cd-7656-4aa0-a462-e4ba604df4fd",
   "metadata": {},
   "outputs": [],
   "source": [
    "def get_iris():\n",
    "    df = pd.read_csv('iris.csv')\n",
    "    \n",
    "    # change the name of columns with lower func\n",
    "    df.columns = [i.lower() for i in df.columns]\n",
    "    \n",
    "    # drop id\n",
    "    df = df.drop(['id'],axis=1)\n",
    "    df = df.loc[df['species'] != 'Iris-virginica']\n",
    "    \n",
    "    # change y from str to int\n",
    "    df['species'] = df['species'].map({'Iris-setosa':0,'Iris-versicolor':1})\n",
    "    \n",
    "    # divide X,y\n",
    "    X = df.iloc[:,:-1]\n",
    "    y = df.iloc[:,-1]\n",
    "    \n",
    "    # shuffle X,y\n",
    "    X,y = shuffle(X,y)\n",
    "    \n",
    "    # train dataset and test dataset 8:2\n",
    "    num = int(100*0.8)\n",
    "    X_train = X.iloc[:num,:]\n",
    "    X_test = X.iloc[num:,:]\n",
    "    y_train = y[:num]\n",
    "    y_test = y[num:]\n",
    "    for col in X_train.columns:\n",
    "        mu = X_train[col].mean()\n",
    "        std = X_train[col].std()\n",
    "        X_train[col] = (X_train[col] - mu)/std\n",
    "        X_test[col] = (X_test[col] - mu)/std\n",
    "    X_train = X_train.values\n",
    "    y_train = y_train.values\n",
    "    X_test = X_test.values\n",
    "    y_test = y_test.values\n",
    "    return X_train,X_test,y_train,y_test"
   ]
  },
  {
   "cell_type": "code",
   "execution_count": 88,
   "id": "d2652d28-e9e5-4718-a212-1b81675bd84c",
   "metadata": {},
   "outputs": [
    {
     "name": "stderr",
     "output_type": "stream",
     "text": [
      "C:\\Users\\007\\AppData\\Local\\Temp\\ipykernel_25516\\727210414.py:25: FutureWarning: The behavior of `series[i:j]` with an integer-dtype index is deprecated. In a future version, this will be treated as *label-based* indexing, consistent with e.g. `series[i]` lookups. To retain the old behavior, use `series.iloc[i:j]`. To get the future behavior, use `series.loc[i:j]`.\n",
      "  y_train = y[:num]\n",
      "C:\\Users\\007\\AppData\\Local\\Temp\\ipykernel_25516\\727210414.py:26: FutureWarning: The behavior of `series[i:j]` with an integer-dtype index is deprecated. In a future version, this will be treated as *label-based* indexing, consistent with e.g. `series[i]` lookups. To retain the old behavior, use `series.iloc[i:j]`. To get the future behavior, use `series.loc[i:j]`.\n",
      "  y_test = y[num:]\n",
      "C:\\Users\\007\\AppData\\Local\\Temp\\ipykernel_25516\\727210414.py:30: SettingWithCopyWarning: \n",
      "A value is trying to be set on a copy of a slice from a DataFrame.\n",
      "Try using .loc[row_indexer,col_indexer] = value instead\n",
      "\n",
      "See the caveats in the documentation: https://pandas.pydata.org/pandas-docs/stable/user_guide/indexing.html#returning-a-view-versus-a-copy\n",
      "  X_train[col] = (X_train[col] - mu)/std\n",
      "C:\\Users\\007\\AppData\\Local\\Temp\\ipykernel_25516\\727210414.py:31: SettingWithCopyWarning: \n",
      "A value is trying to be set on a copy of a slice from a DataFrame.\n",
      "Try using .loc[row_indexer,col_indexer] = value instead\n",
      "\n",
      "See the caveats in the documentation: https://pandas.pydata.org/pandas-docs/stable/user_guide/indexing.html#returning-a-view-versus-a-copy\n",
      "  X_test[col] = (X_test[col] - mu)/std\n"
     ]
    }
   ],
   "source": [
    "X_train,X_test,y_train,y_test = get_iris()"
   ]
  },
  {
   "cell_type": "code",
   "execution_count": 89,
   "id": "ab47aaa0-18d5-453a-abfd-98aa64f6d46e",
   "metadata": {},
   "outputs": [
    {
     "data": {
      "text/plain": [
       "(80, 4)"
      ]
     },
     "execution_count": 89,
     "metadata": {},
     "output_type": "execute_result"
    }
   ],
   "source": [
    "X_train.shape"
   ]
  },
  {
   "cell_type": "code",
   "execution_count": 84,
   "id": "97ea3012-4234-485f-a0d0-9d01665dd95e",
   "metadata": {},
   "outputs": [
    {
     "data": {
      "text/plain": [
       "array([[ 0.04392496, -1.7733988 ,  0.76202661,  0.8796387 ],\n",
       "       [-1.17833474,  0.27611506, -1.07911151, -1.04116044],\n",
       "       [-0.1088575 ,  0.73156259, -0.80635031, -1.04116044],\n",
       "       [-0.56720489,  0.95928635, -1.01092121, -0.86654234],\n",
       "       [ 1.72453204, -0.17933246,  1.03478782,  1.0542568 ],\n",
       "       [-1.17833474,  0.27611506, -0.87454061, -1.04116044],\n",
       "       [ 0.50227234, -0.86250375,  0.69383631,  0.70502059],\n",
       "       [-0.56720489,  0.50383883, -0.80635031, -0.51730613],\n",
       "       [-0.41442243,  2.32562893, -0.94273091, -1.21577855],\n",
       "       [ 0.96061973, -0.17933246,  1.17116842,  1.0542568 ],\n",
       "       [-0.1088575 ,  1.41473388, -0.94273091, -1.04116044],\n",
       "       [ 1.26618465,  0.50383883,  1.23935872,  1.40349301],\n",
       "       [ 2.18287943,  0.0483913 ,  1.37573932,  1.22887491],\n",
       "       [ 0.80783727, -0.40705623,  1.10297812,  1.22887491],\n",
       "       [-0.71998735,  0.73156259, -0.94273091, -1.04116044],\n",
       "       [-0.71998735,  0.27611506, -1.14730181, -1.04116044],\n",
       "       [-1.02555228, -0.17933246, -1.01092121, -0.86654234],\n",
       "       [-0.71998735,  0.95928635, -0.87454061, -0.34268803],\n",
       "       [ 1.41896712,  0.27611506,  1.10297812,  1.22887491],\n",
       "       [-0.56720489,  0.95928635, -1.01092121, -1.04116044],\n",
       "       [ 1.26618465, -1.31795128,  1.37573932,  1.22887491],\n",
       "       [-1.3311172 ,  0.27611506, -1.01092121, -1.04116044],\n",
       "       [-0.71998735,  1.18701011, -1.01092121, -1.04116044],\n",
       "       [-0.1088575 ,  1.8701814 , -1.07911151, -0.69192424],\n",
       "       [-0.56720489,  1.64245764, -0.94273091, -0.86654234],\n",
       "       [-0.71998735,  0.95928635, -1.07911151, -0.86654234],\n",
       "       [ 0.34948988, -0.63477999,  0.83021692,  0.8796387 ],\n",
       "       [ 0.65505481, -0.17933246,  0.89840722,  1.22887491],\n",
       "       [ 1.41896712, -0.40705623,  0.96659752,  0.8796387 ],\n",
       "       [-0.71998735, -1.7733988 ,  0.28469451,  0.35578439],\n",
       "       [ 0.50227234, -1.09022752,  0.76202661,  0.70502059],\n",
       "       [ 0.04392496, -1.09022752,  1.03478782,  0.70502059],\n",
       "       [-0.87276981,  0.0483913 , -0.94273091, -1.21577855],\n",
       "       [ 1.72453204, -0.40705623,  1.17116842,  0.8796387 ],\n",
       "       [ 1.11340219, -0.40705623,  0.96659752,  0.8796387 ],\n",
       "       [-1.3311172 ,  0.0483913 , -0.94273091, -1.04116044],\n",
       "       [-0.71998735, -2.45657009,  0.42107511,  0.35578439],\n",
       "       [-0.56720489,  0.73156259, -0.94273091, -1.04116044],\n",
       "       [ 0.04392496, -1.54567504,  0.62564601,  0.53040249],\n",
       "       [ 0.96061973, -0.63477999,  1.23935872,  0.70502059],\n",
       "       [ 0.34948988, -0.17933246,  0.89840722,  0.70502059],\n",
       "       [-0.56720489,  1.41473388, -0.94273091, -0.69192424],\n",
       "       [ 0.96061973, -0.40705623,  1.23935872,  1.0542568 ],\n",
       "       [ 0.80783727,  0.73156259,  1.10297812,  1.40349301],\n",
       "       [-0.71998735, -0.17933246, -0.87454061, -1.04116044],\n",
       "       [ 2.33566189,  0.27611506,  1.23935872,  1.0542568 ],\n",
       "       [ 0.34948988,  1.64245764, -0.80635031, -0.86654234],\n",
       "       [-1.02555228,  0.73156259, -0.66996971, -1.04116044],\n",
       "       [-1.78946459, -0.17933246, -1.21549212, -1.21577855],\n",
       "       [ 1.8773145 ,  0.0483913 ,  1.03478782,  1.0542568 ],\n",
       "       [-0.71998735,  0.50383883, -1.01092121, -1.04116044],\n",
       "       [-0.71998735,  0.73156259, -0.87454061, -0.69192424],\n",
       "       [ 1.26618465, -1.7733988 ,  1.03478782,  0.8796387 ],\n",
       "       [ 0.96061973, -0.63477999,  0.76202661,  0.8796387 ],\n",
       "       [-0.41442243,  0.95928635, -0.94273091, -1.04116044],\n",
       "       [-1.48389966, -1.7733988 , -1.07911151, -0.86654234],\n",
       "       [ 0.34948988, -0.63477999,  1.10297812,  0.8796387 ],\n",
       "       [-0.56720489, -1.31795128,  0.0801236 ,  0.53040249],\n",
       "       [-1.3311172 ,  0.73156259, -1.01092121, -0.86654234],\n",
       "       [ 0.34948988, -0.40705623,  0.89840722,  0.8796387 ],\n",
       "       [ 0.19670742, -0.17933246,  1.10297812,  1.22887491],\n",
       "       [ 1.8773145 , -0.17933246,  1.44392962,  1.57811111],\n",
       "       [-0.41442243,  0.73156259, -1.01092121, -1.04116044],\n",
       "       [ 0.80783727, -2.00112257,  0.76202661,  0.35578439],\n",
       "       [-0.87276981, -0.17933246, -1.01092121, -1.04116044],\n",
       "       [ 0.04392496, -1.31795128,  0.76202661,  0.8796387 ],\n",
       "       [ 1.11340219, -2.00112257,  1.10297812,  1.22887491],\n",
       "       [-0.41442243, -0.86250375,  0.69383631,  1.0542568 ],\n",
       "       [-0.1088575 ,  0.73156259, -0.94273091, -0.69192424],\n",
       "       [-0.1088575 , -0.17933246,  1.10297812,  1.22887491],\n",
       "       [ 1.8773145 ,  0.0483913 ,  1.23935872,  1.22887491],\n",
       "       [-0.87276981,  0.0483913 , -0.94273091, -1.21577855],\n",
       "       [-0.56720489,  1.64245764, -0.87454061, -1.04116044],\n",
       "       [-1.3311172 ,  1.18701011, -1.28368242, -1.04116044],\n",
       "       [ 0.19670742, -0.40705623,  0.48926541,  0.8796387 ],\n",
       "       [-0.26163997,  1.41473388, -0.94273091, -1.04116044],\n",
       "       [-1.02555228,  0.0483913 , -0.87454061, -1.04116044],\n",
       "       [-1.63668213, -0.17933246, -1.07911151, -1.04116044],\n",
       "       [ 0.80783727, -0.86250375,  1.51211993,  1.40349301],\n",
       "       [-1.02555228,  0.73156259, -0.87454061, -1.04116044]])"
      ]
     },
     "execution_count": 84,
     "metadata": {},
     "output_type": "execute_result"
    }
   ],
   "source": [
    "X_train"
   ]
  },
  {
   "cell_type": "code",
   "execution_count": 67,
   "id": "85def907-4f3d-4e5a-866c-0ea2b85e8d58",
   "metadata": {},
   "outputs": [],
   "source": [
    "# def get_iris(mode=None):\n",
    "#     iris = pd.read_csv('iris.csv')\n",
    "#     df = iris.drop(['Id'], axis=1).copy()\n",
    "#     df.columns = ['sepal_length', 'sepal_width', 'petal_length', 'petal_width', 'species']\n",
    "   \n",
    "#     if(mode == 'bin'):\n",
    "#         df = df.loc[df['species'] != 'Iris-virginica']\n",
    "       \n",
    "#     df['species']= df['species'].map({\n",
    "#         'Iris-setosa':0,\n",
    "#         'Iris-versicolor':1,\n",
    "#         'Iris-virginica':2\n",
    "#     })\n",
    "#     X = df.drop(['species'], axis=1)\n",
    "#     y= df['species']\n",
    "\n",
    "#     X, y = shuffle(X, y)\n",
    "#     num = int(len(y)*0.8)\n",
    "   \n",
    "#     X_train = X.iloc[:num,:]    \n",
    "#     X_test = X.iloc[num:,:]      \n",
    "#     y_train = y.iloc[:num]        \n",
    "#     y_test  = y.iloc[num:]      \n",
    "   \n",
    "#     for col in X_train.columns:\n",
    "#         mu = X_train[col].mean()\n",
    "#         std = X_train[col].std()\n",
    "#         X_train[col] = (X_train[col] - mu)/std\n",
    "#         X_test[col] = (X_test[col] - mu)/std\n",
    "    \n",
    "#     return X_train, X_test, y_train, y_test"
   ]
  },
  {
   "cell_type": "code",
   "execution_count": 91,
   "id": "b0e97d23-bc84-4ed7-bdf7-f81c6d41fc5e",
   "metadata": {},
   "outputs": [
    {
     "name": "stdout",
     "output_type": "stream",
     "text": [
      "(80, 4) (20, 4)\n",
      "(80,) (20,)\n"
     ]
    },
    {
     "name": "stderr",
     "output_type": "stream",
     "text": [
      "C:\\Users\\007\\AppData\\Local\\Temp\\ipykernel_25516\\727210414.py:25: FutureWarning: The behavior of `series[i:j]` with an integer-dtype index is deprecated. In a future version, this will be treated as *label-based* indexing, consistent with e.g. `series[i]` lookups. To retain the old behavior, use `series.iloc[i:j]`. To get the future behavior, use `series.loc[i:j]`.\n",
      "  y_train = y[:num]\n",
      "C:\\Users\\007\\AppData\\Local\\Temp\\ipykernel_25516\\727210414.py:26: FutureWarning: The behavior of `series[i:j]` with an integer-dtype index is deprecated. In a future version, this will be treated as *label-based* indexing, consistent with e.g. `series[i]` lookups. To retain the old behavior, use `series.iloc[i:j]`. To get the future behavior, use `series.loc[i:j]`.\n",
      "  y_test = y[num:]\n",
      "C:\\Users\\007\\AppData\\Local\\Temp\\ipykernel_25516\\727210414.py:30: SettingWithCopyWarning: \n",
      "A value is trying to be set on a copy of a slice from a DataFrame.\n",
      "Try using .loc[row_indexer,col_indexer] = value instead\n",
      "\n",
      "See the caveats in the documentation: https://pandas.pydata.org/pandas-docs/stable/user_guide/indexing.html#returning-a-view-versus-a-copy\n",
      "  X_train[col] = (X_train[col] - mu)/std\n",
      "C:\\Users\\007\\AppData\\Local\\Temp\\ipykernel_25516\\727210414.py:31: SettingWithCopyWarning: \n",
      "A value is trying to be set on a copy of a slice from a DataFrame.\n",
      "Try using .loc[row_indexer,col_indexer] = value instead\n",
      "\n",
      "See the caveats in the documentation: https://pandas.pydata.org/pandas-docs/stable/user_guide/indexing.html#returning-a-view-versus-a-copy\n",
      "  X_test[col] = (X_test[col] - mu)/std\n"
     ]
    },
    {
     "data": {
      "text/plain": [
       "array([[ 0.88661468, -0.43164888,  1.24892823,  1.08809468],\n",
       "       [-0.62251669,  1.51077108, -0.67779301, -0.68476834],\n",
       "       [ 0.73570154,  0.64747332,  1.11130528,  1.44266728],\n",
       "       [-0.92434296,  0.        , -0.9530389 , -1.21662725],\n",
       "       [ 0.88661468, -0.64747332,  0.76724792,  0.91080838],\n",
       "       [ 0.28296213, -1.0791222 ,  0.42319056,  0.37894947],\n",
       "       [-0.62251669,  0.86329776, -1.02185037, -1.03934094],\n",
       "       [ 1.49026722, -0.64747332,  1.18011675,  1.26538098],\n",
       "       [ 1.33935409,  0.21582444,  1.11130528,  1.26538098],\n",
       "       [-0.77342982,  0.64747332, -0.9530389 , -1.03934094],\n",
       "       [ 0.43387527,  1.94241996, -1.15947331, -1.03934094],\n",
       "       [-1.37708237,  1.0791222 , -1.29709626, -1.03934094],\n",
       "       [-1.67890864, -0.21582444, -1.09066184, -1.03934094],\n",
       "       [ 0.13204899, -0.21582444,  0.83605939,  0.91080838],\n",
       "       [-1.22616923,  0.21582444, -0.88422742, -1.03934094],\n",
       "       [-1.37708237,  0.64747332, -1.02185037, -0.86205464],\n",
       "       [-0.92434296, -1.51077108,  0.28556761,  0.37894947],\n",
       "       [ 0.13204899, -1.29494664,  0.69843645,  0.55623577],\n",
       "       [-0.62251669,  0.43164888, -0.81541595, -0.50748204],\n",
       "       [ 1.18844095, -1.29494664,  1.38655117,  1.26538098],\n",
       "       [-0.47160355, -0.86329776,  0.69843645,  1.08809468],\n",
       "       [ 0.28296213, -0.43164888,  0.90487086,  0.91080838],\n",
       "       [ 0.73570154, -0.43164888,  1.11130528,  1.26538098],\n",
       "       [ 0.28296213, -0.21582444,  0.90487086,  0.73352207],\n",
       "       [-0.01886414,  0.86329776, -1.09066184, -1.03934094],\n",
       "       [-0.62251669,  0.64747332, -0.9530389 , -1.03934094],\n",
       "       [ 0.43387527, -1.0791222 ,  0.76724792,  0.73352207],\n",
       "       [ 0.43387527, -0.86329776,  0.69843645,  0.73352207],\n",
       "       [-1.37708237,  0.        , -0.9530389 , -1.03934094],\n",
       "       [ 1.18844095,  0.43164888,  1.24892823,  1.44266728],\n",
       "       [-0.47160355,  0.64747332, -1.02185037, -1.03934094],\n",
       "       [-0.62251669,  0.86329776, -1.02185037, -0.86205464],\n",
       "       [-0.77342982,  0.43164888, -1.02185037, -1.03934094],\n",
       "       [-0.16977728, -0.21582444,  1.11130528,  1.26538098],\n",
       "       [-1.0752561 ,  0.64747332, -0.88422742, -1.03934094],\n",
       "       [-0.47160355,  0.86329776, -0.9530389 , -1.03934094],\n",
       "       [-0.92434296, -0.21582444, -1.02185037, -1.03934094],\n",
       "       [ 2.24483291,  0.21582444,  1.24892823,  1.08809468],\n",
       "       [-0.16977728,  1.29494664, -0.9530389 , -1.03934094],\n",
       "       [ 2.09391977,  0.        ,  1.38655117,  1.26538098],\n",
       "       [ 1.18844095, -1.72659552,  1.04249381,  0.91080838],\n",
       "       [-0.77342982,  0.21582444, -1.15947331, -1.03934094],\n",
       "       [ 0.28296213,  1.51077108, -0.81541595, -0.86205464],\n",
       "       [ 1.33935409, -0.43164888,  0.97368234,  0.91080838],\n",
       "       [ 1.64118036, -0.43164888,  1.18011675,  0.91080838],\n",
       "       [-0.01886414, -1.51077108,  0.62962497,  0.55623577],\n",
       "       [ 0.73570154, -0.86329776,  1.52417412,  1.44266728],\n",
       "       [ 1.03752781, -0.43164888,  0.97368234,  0.91080838],\n",
       "       [ 1.7920935 ,  0.        ,  1.04249381,  1.08809468],\n",
       "       [-1.52799551, -1.72659552, -1.09066184, -0.86205464],\n",
       "       [-0.77342982,  0.86329776, -0.88422742, -0.33019574],\n",
       "       [-0.77342982,  0.64747332, -0.88422742, -0.68476834],\n",
       "       [-0.62251669,  1.51077108, -0.9530389 , -0.86205464],\n",
       "       [ 0.73570154, -1.94241996,  0.76724792,  0.37894947],\n",
       "       [ 0.5847884 , -0.21582444,  0.90487086,  1.26538098],\n",
       "       [ 1.64118036, -0.21582444,  1.04249381,  1.08809468],\n",
       "       [-1.0752561 , -0.21582444, -1.02185037, -0.86205464],\n",
       "       [-0.01886414, -1.0791222 ,  1.04249381,  0.73352207],\n",
       "       [-0.16977728,  0.64747332, -0.81541595, -1.03934094],\n",
       "       [ 0.43387527, -0.86329776,  0.83605939,  0.37894947],\n",
       "       [-0.01886414, -1.29494664,  0.76724792,  0.91080838],\n",
       "       [ 1.7920935 , -0.21582444,  1.45536265,  1.61995358],\n",
       "       [-0.16977728,  0.64747332, -0.9530389 , -0.68476834],\n",
       "       [-0.62251669,  1.51077108, -0.88422742, -1.03934094],\n",
       "       [-0.77342982, -1.72659552,  0.28556761,  0.37894947],\n",
       "       [-0.92434296,  0.        , -0.9530389 , -1.21662725],\n",
       "       [-0.16977728,  1.72659552, -1.09066184, -0.68476834],\n",
       "       [-0.77342982, -2.37406883,  0.42319056,  0.37894947],\n",
       "       [ 1.94300663, -0.64747332,  1.3177397 ,  1.08809468],\n",
       "       [-0.77342982, -0.21582444, -0.88422742, -1.03934094],\n",
       "       [ 1.7920935 ,  0.        ,  1.24892823,  1.26538098],\n",
       "       [ 0.88661468, -0.21582444,  1.18011675,  1.08809468],\n",
       "       [-1.0752561 ,  0.64747332, -0.67779301, -1.03934094],\n",
       "       [-0.47160355,  2.15824439, -0.9530389 , -1.21662725],\n",
       "       [-1.37708237,  0.21582444, -1.02185037, -1.03934094],\n",
       "       [-1.67890864, -0.43164888, -1.02185037, -1.03934094],\n",
       "       [ 0.13204899, -0.86329776,  0.90487086,  0.91080838],\n",
       "       [-1.0752561 , -0.21582444, -1.02185037, -1.21662725],\n",
       "       [-0.01886414,  2.37406883, -1.02185037, -1.03934094],\n",
       "       [-0.16977728,  1.72659552, -0.81541595, -0.68476834]])"
      ]
     },
     "execution_count": 91,
     "metadata": {},
     "output_type": "execute_result"
    }
   ],
   "source": [
    "X_train,X_test,y_train,y_test = get_iris()\n",
    "print(X_train.shape, X_test.shape)\n",
    "print(y_train.shape, y_test.shape)\n",
    "X_train"
   ]
  },
  {
   "cell_type": "markdown",
   "id": "281f7f75-6451-4b6e-b943-e993600e5056",
   "metadata": {},
   "source": [
    "### 학습"
   ]
  },
  {
   "cell_type": "code",
   "execution_count": 92,
   "id": "366c5773-57ec-421c-b12c-81a59673befa",
   "metadata": {},
   "outputs": [
    {
     "data": {
      "text/html": [
       "<style>#sk-container-id-4 {color: black;background-color: white;}#sk-container-id-4 pre{padding: 0;}#sk-container-id-4 div.sk-toggleable {background-color: white;}#sk-container-id-4 label.sk-toggleable__label {cursor: pointer;display: block;width: 100%;margin-bottom: 0;padding: 0.3em;box-sizing: border-box;text-align: center;}#sk-container-id-4 label.sk-toggleable__label-arrow:before {content: \"▸\";float: left;margin-right: 0.25em;color: #696969;}#sk-container-id-4 label.sk-toggleable__label-arrow:hover:before {color: black;}#sk-container-id-4 div.sk-estimator:hover label.sk-toggleable__label-arrow:before {color: black;}#sk-container-id-4 div.sk-toggleable__content {max-height: 0;max-width: 0;overflow: hidden;text-align: left;background-color: #f0f8ff;}#sk-container-id-4 div.sk-toggleable__content pre {margin: 0.2em;color: black;border-radius: 0.25em;background-color: #f0f8ff;}#sk-container-id-4 input.sk-toggleable__control:checked~div.sk-toggleable__content {max-height: 200px;max-width: 100%;overflow: auto;}#sk-container-id-4 input.sk-toggleable__control:checked~label.sk-toggleable__label-arrow:before {content: \"▾\";}#sk-container-id-4 div.sk-estimator input.sk-toggleable__control:checked~label.sk-toggleable__label {background-color: #d4ebff;}#sk-container-id-4 div.sk-label input.sk-toggleable__control:checked~label.sk-toggleable__label {background-color: #d4ebff;}#sk-container-id-4 input.sk-hidden--visually {border: 0;clip: rect(1px 1px 1px 1px);clip: rect(1px, 1px, 1px, 1px);height: 1px;margin: -1px;overflow: hidden;padding: 0;position: absolute;width: 1px;}#sk-container-id-4 div.sk-estimator {font-family: monospace;background-color: #f0f8ff;border: 1px dotted black;border-radius: 0.25em;box-sizing: border-box;margin-bottom: 0.5em;}#sk-container-id-4 div.sk-estimator:hover {background-color: #d4ebff;}#sk-container-id-4 div.sk-parallel-item::after {content: \"\";width: 100%;border-bottom: 1px solid gray;flex-grow: 1;}#sk-container-id-4 div.sk-label:hover label.sk-toggleable__label {background-color: #d4ebff;}#sk-container-id-4 div.sk-serial::before {content: \"\";position: absolute;border-left: 1px solid gray;box-sizing: border-box;top: 0;bottom: 0;left: 50%;z-index: 0;}#sk-container-id-4 div.sk-serial {display: flex;flex-direction: column;align-items: center;background-color: white;padding-right: 0.2em;padding-left: 0.2em;position: relative;}#sk-container-id-4 div.sk-item {position: relative;z-index: 1;}#sk-container-id-4 div.sk-parallel {display: flex;align-items: stretch;justify-content: center;background-color: white;position: relative;}#sk-container-id-4 div.sk-item::before, #sk-container-id-4 div.sk-parallel-item::before {content: \"\";position: absolute;border-left: 1px solid gray;box-sizing: border-box;top: 0;bottom: 0;left: 50%;z-index: -1;}#sk-container-id-4 div.sk-parallel-item {display: flex;flex-direction: column;z-index: 1;position: relative;background-color: white;}#sk-container-id-4 div.sk-parallel-item:first-child::after {align-self: flex-end;width: 50%;}#sk-container-id-4 div.sk-parallel-item:last-child::after {align-self: flex-start;width: 50%;}#sk-container-id-4 div.sk-parallel-item:only-child::after {width: 0;}#sk-container-id-4 div.sk-dashed-wrapped {border: 1px dashed gray;margin: 0 0.4em 0.5em 0.4em;box-sizing: border-box;padding-bottom: 0.4em;background-color: white;}#sk-container-id-4 div.sk-label label {font-family: monospace;font-weight: bold;display: inline-block;line-height: 1.2em;}#sk-container-id-4 div.sk-label-container {text-align: center;}#sk-container-id-4 div.sk-container {/* jupyter's `normalize.less` sets `[hidden] { display: none; }` but bootstrap.min.css set `[hidden] { display: none !important; }` so we also need the `!important` here to be able to override the default hidden behavior on the sphinx rendered scikit-learn.org. See: https://github.com/scikit-learn/scikit-learn/issues/21755 */display: inline-block !important;position: relative;}#sk-container-id-4 div.sk-text-repr-fallback {display: none;}</style><div id=\"sk-container-id-4\" class=\"sk-top-container\"><div class=\"sk-text-repr-fallback\"><pre>KNeighborsClassifier()</pre><b>In a Jupyter environment, please rerun this cell to show the HTML representation or trust the notebook. <br />On GitHub, the HTML representation is unable to render, please try loading this page with nbviewer.org.</b></div><div class=\"sk-container\" hidden><div class=\"sk-item\"><div class=\"sk-estimator sk-toggleable\"><input class=\"sk-toggleable__control sk-hidden--visually\" id=\"sk-estimator-id-4\" type=\"checkbox\" checked><label for=\"sk-estimator-id-4\" class=\"sk-toggleable__label sk-toggleable__label-arrow\">KNeighborsClassifier</label><div class=\"sk-toggleable__content\"><pre>KNeighborsClassifier()</pre></div></div></div></div></div>"
      ],
      "text/plain": [
       "KNeighborsClassifier()"
      ]
     },
     "execution_count": 92,
     "metadata": {},
     "output_type": "execute_result"
    }
   ],
   "source": [
    "from sklearn.neighbors import KNeighborsClassifier\n",
    "\n",
    "clf = KNeighborsClassifier()\n",
    "clf.fit(X_train,y_train)"
   ]
  },
  {
   "cell_type": "code",
   "execution_count": 93,
   "id": "77e6213b-6aa1-4bed-8b22-bb4c933c89fc",
   "metadata": {},
   "outputs": [
    {
     "data": {
      "text/plain": [
       "1.0"
      ]
     },
     "execution_count": 93,
     "metadata": {},
     "output_type": "execute_result"
    }
   ],
   "source": [
    "# 테스트\n",
    "clf.score(X_test,y_test)"
   ]
  },
  {
   "cell_type": "code",
   "execution_count": 94,
   "id": "4cba6aee-ebf7-4831-b740-b6289ff5c4fc",
   "metadata": {},
   "outputs": [
    {
     "data": {
      "text/plain": [
       "array([0, 1, 1, 0, 0, 1, 0, 1, 0, 0, 1, 1, 1, 0, 1, 1, 0, 1, 0, 0],\n",
       "      dtype=int64)"
      ]
     },
     "execution_count": 94,
     "metadata": {},
     "output_type": "execute_result"
    }
   ],
   "source": [
    "# 예측\n",
    "y_pred = clf.predict(X_test)\n",
    "y_pred"
   ]
  },
  {
   "cell_type": "code",
   "execution_count": 95,
   "id": "2f41d9e9-c037-4781-bb6c-58860e359f28",
   "metadata": {},
   "outputs": [
    {
     "data": {
      "text/plain": [
       "1.0"
      ]
     },
     "execution_count": 95,
     "metadata": {},
     "output_type": "execute_result"
    }
   ],
   "source": [
    "# y_pred, y_test 정확도 계산\n",
    "(y_pred == y_test).sum()/len(y_test) # 정확도"
   ]
  },
  {
   "cell_type": "code",
   "execution_count": 96,
   "id": "19b30502-a896-4585-bb44-6d85591e47e3",
   "metadata": {},
   "outputs": [],
   "source": [
    "from sklearn.metrics import accuracy_score,precision_score,recall_score\n",
    "\n",
    "def print_score(y_true, y_pred):\n",
    "    # 정확도\n",
    "    acc = accuracy_score(y_true, y_pred)\n",
    "    # 정밀도\n",
    "    pre = precision_score(y_true, y_pred)\n",
    "    # 재현율\n",
    "    rec = recall_score(y_true, y_pred)\n",
    "\n",
    "    print('accuracy:', acc)\n",
    "    print('precision:', pre)\n",
    "    print('recall:', pre)"
   ]
  },
  {
   "cell_type": "code",
   "execution_count": 97,
   "id": "f10138dd-d379-4d1a-8761-04d53ff407b9",
   "metadata": {},
   "outputs": [
    {
     "name": "stdout",
     "output_type": "stream",
     "text": [
      "accuracy: 1.0\n",
      "precision: 1.0\n",
      "recall: 1.0\n"
     ]
    }
   ],
   "source": [
    "print_score(y_test,y_pred)"
   ]
  },
  {
   "cell_type": "code",
   "execution_count": 99,
   "id": "22c52b42-1274-4d2b-a643-e70112aba09f",
   "metadata": {},
   "outputs": [
    {
     "data": {
      "text/plain": [
       "array([[10,  0],\n",
       "       [ 0, 10]], dtype=int64)"
      ]
     },
     "execution_count": 99,
     "metadata": {},
     "output_type": "execute_result"
    }
   ],
   "source": [
    "from sklearn.metrics import confusion_matrix\n",
    "\n",
    "cfm = confusion_matrix(y_test, y_pred)\n",
    "cfm"
   ]
  },
  {
   "cell_type": "code",
   "execution_count": 100,
   "id": "17f65400-03fe-4eb4-bff0-c7bf4c367fb4",
   "metadata": {},
   "outputs": [
    {
     "data": {
      "image/png": "[encoded data removed]",
      "text/plain": [
       "<Figure size 300x300 with 1 Axes>"
      ]
     },
     "metadata": {},
     "output_type": "display_data"
    }
   ],
   "source": [
    "plt.figure(figsize=(3, 3))\n",
    "sns.heatmap(cfm, annot=True, cbar=False)\n",
    "plt.xlabel('Predicted Class')\n",
    "plt.ylabel('True Class')\n",
    "plt.show() "
   ]
  },
  {
   "cell_type": "code",
   "execution_count": null,
   "id": "f2ff1236-39ed-4ec1-b114-cfd86350d10a",
   "metadata": {},
   "outputs": [],
   "source": []
  }
 ],
 "metadata": {
  "kernelspec": {
   "display_name": "flyai",
   "language": "python",
   "name": "flyai"
  },
  "language_info": {
   "codemirror_mode": {
    "name": "ipython",
    "version": 3
   },
   "file_extension": ".py",
   "mimetype": "text/x-python",
   "name": "python",
   "nbconvert_exporter": "python",
   "pygments_lexer": "ipython3",
   "version": "3.8.0"
  }
 },
 "nbformat": 4,
 "nbformat_minor": 5
}
