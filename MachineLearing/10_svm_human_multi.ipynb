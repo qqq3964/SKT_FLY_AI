{
 "cells": [
  {
   "cell_type": "code",
   "execution_count": 36,
   "id": "55b6aa0c-5ece-4cab-8fcc-67644eee0ba4",
   "metadata": {},
   "outputs": [],
   "source": [
    "# !gdown https://drive.google.com/uc?id=1ypa5iZ1dLDO-zGRO_yDXrJnMvjRGUG4v"
   ]
  },
  {
   "cell_type": "code",
   "execution_count": 1,
   "id": "7c1d2a2e-9291-45f9-be74-4dec50646363",
   "metadata": {},
   "outputs": [],
   "source": [
    "import numpy as np\n",
    "import pandas as pd"
   ]
  },
  {
   "cell_type": "code",
   "execution_count": 29,
   "id": "a9dd455f-44a4-42b1-af71-f64f8b477e1b",
   "metadata": {},
   "outputs": [
    {
     "data": {
      "text/plain": [
       "(2947, 563)"
      ]
     },
     "execution_count": 29,
     "metadata": {},
     "output_type": "execute_result"
    }
   ],
   "source": [
    "human = pd.read_csv('./HumanActivityRecognition/train.csv')\n",
    "human_test = pd.read_csv('./HumanActivityRecognition/test.csv')\n",
    "human_test.shape"
   ]
  },
  {
   "cell_type": "markdown",
   "id": "b7a8ed40-a397-4775-b965-ba97529f3158",
   "metadata": {
    "tags": []
   },
   "source": [
    "### 데이터 준비\n",
    "- 결측치\n",
    "- 중복치\n",
    "- X,y 분리\n",
    "- y를 encoding\n",
    "\n",
    "- scailing (표준 정규화)\n",
    "- GridSearchCV : best model 찾기\n",
    "- 테스트 파일 읽어서, score 계산하기"
   ]
  },
  {
   "cell_type": "markdown",
   "id": "6428800b-313d-4be5-aca9-771863455d76",
   "metadata": {
    "tags": []
   },
   "source": [
    "### Data Information"
   ]
  },
  {
   "cell_type": "code",
   "execution_count": 3,
   "id": "a502a50c-99c7-403a-9190-5edca55d343e",
   "metadata": {},
   "outputs": [
    {
     "name": "stdout",
     "output_type": "stream",
     "text": [
      "<class 'pandas.core.frame.DataFrame'>\n",
      "RangeIndex: 7352 entries, 0 to 7351\n",
      "Columns: 563 entries, tBodyAcc-mean()-X to Activity\n",
      "dtypes: float64(561), int64(1), object(1)\n",
      "memory usage: 31.6+ MB\n"
     ]
    }
   ],
   "source": [
    "human.info()"
   ]
  },
  {
   "cell_type": "code",
   "execution_count": 4,
   "id": "b4347ecf-d50d-4279-9845-6ac93b77e1ae",
   "metadata": {},
   "outputs": [
    {
     "data": {
      "text/plain": [
       "Index(['tBodyAcc-mean()-X', 'tBodyAcc-mean()-Y', 'tBodyAcc-mean()-Z',\n",
       "       'tBodyAcc-std()-X', 'tBodyAcc-std()-Y', 'tBodyAcc-std()-Z',\n",
       "       'tBodyAcc-mad()-X', 'tBodyAcc-mad()-Y', 'tBodyAcc-mad()-Z',\n",
       "       'tBodyAcc-max()-X',\n",
       "       ...\n",
       "       'fBodyBodyGyroJerkMag-kurtosis()', 'angle(tBodyAccMean,gravity)',\n",
       "       'angle(tBodyAccJerkMean),gravityMean)',\n",
       "       'angle(tBodyGyroMean,gravityMean)',\n",
       "       'angle(tBodyGyroJerkMean,gravityMean)', 'angle(X,gravityMean)',\n",
       "       'angle(Y,gravityMean)', 'angle(Z,gravityMean)', 'subject', 'Activity'],\n",
       "      dtype='object', length=563)"
      ]
     },
     "execution_count": 4,
     "metadata": {},
     "output_type": "execute_result"
    }
   ],
   "source": [
    "human.columns"
   ]
  },
  {
   "cell_type": "code",
   "execution_count": 5,
   "id": "0079cc36-fda5-44b0-a120-797afa75da86",
   "metadata": {},
   "outputs": [
    {
     "data": {
      "text/plain": [
       "tBodyAcc-mean()-X       0\n",
       "tBodyAcc-mean()-Y       0\n",
       "tBodyAcc-mean()-Z       0\n",
       "tBodyAcc-std()-X        0\n",
       "tBodyAcc-std()-Y        0\n",
       "                       ..\n",
       "angle(X,gravityMean)    0\n",
       "angle(Y,gravityMean)    0\n",
       "angle(Z,gravityMean)    0\n",
       "subject                 0\n",
       "Activity                0\n",
       "Length: 563, dtype: int64"
      ]
     },
     "execution_count": 5,
     "metadata": {},
     "output_type": "execute_result"
    }
   ],
   "source": [
    "# no NaN\n",
    "human.isna().sum()"
   ]
  },
  {
   "cell_type": "code",
   "execution_count": 6,
   "id": "804d120b-93e0-4210-b74a-3d7bfba9a45d",
   "metadata": {},
   "outputs": [
    {
     "data": {
      "text/plain": [
       "LAYING                1407\n",
       "STANDING              1374\n",
       "SITTING               1286\n",
       "WALKING               1226\n",
       "WALKING_UPSTAIRS      1073\n",
       "WALKING_DOWNSTAIRS     986\n",
       "Name: Activity, dtype: int64"
      ]
     },
     "execution_count": 6,
     "metadata": {},
     "output_type": "execute_result"
    }
   ],
   "source": [
    "human['Activity'].value_counts()"
   ]
  },
  {
   "cell_type": "code",
   "execution_count": 31,
   "id": "d7be5c43-ae00-4097-aa2e-646c7e6ffaad",
   "metadata": {},
   "outputs": [
    {
     "data": {
      "text/plain": [
       "(2947, 563)"
      ]
     },
     "execution_count": 31,
     "metadata": {},
     "output_type": "execute_result"
    }
   ],
   "source": [
    "df = human.copy()\n",
    "df_test = human_test.copy()\n",
    "df_test.shape"
   ]
  },
  {
   "cell_type": "code",
   "execution_count": 8,
   "id": "786800b4-05fb-4c26-83db-8d7113f8b933",
   "metadata": {},
   "outputs": [
    {
     "data": {
      "text/plain": [
       "25    409\n",
       "21    408\n",
       "26    392\n",
       "30    383\n",
       "28    382\n",
       "27    376\n",
       "23    372\n",
       "17    368\n",
       "16    366\n",
       "19    360\n",
       "1     347\n",
       "29    344\n",
       "3     341\n",
       "15    328\n",
       "6     325\n",
       "14    323\n",
       "22    321\n",
       "11    316\n",
       "7     308\n",
       "5     302\n",
       "8     281\n",
       "Name: subject, dtype: int64"
      ]
     },
     "execution_count": 8,
     "metadata": {},
     "output_type": "execute_result"
    }
   ],
   "source": [
    "df['subject'].value_counts()"
   ]
  },
  {
   "cell_type": "markdown",
   "id": "aebe78b0-65c6-4463-882c-6c4a1a266d8f",
   "metadata": {
    "tags": []
   },
   "source": [
    "### Data Processing"
   ]
  },
  {
   "cell_type": "code",
   "execution_count": 33,
   "id": "cde318d9-c0ad-4199-b03d-5aef6a8e22b5",
   "metadata": {},
   "outputs": [
    {
     "name": "stdout",
     "output_type": "stream",
     "text": [
      "(2947, 562) (2947,)\n"
     ]
    }
   ],
   "source": [
    "X_train = df.iloc[:,:-1]\n",
    "X_test = df_test.iloc[:,:-1]\n",
    "y_train = df.iloc[:,-1]\n",
    "y_test = df_test.iloc[:,-1]\n",
    "\n",
    "print(X_test.shape,y_test.shape)"
   ]
  },
  {
   "cell_type": "markdown",
   "id": "bb8e9962-d14a-4e86-83ff-2821f1282264",
   "metadata": {
    "tags": []
   },
   "source": [
    "### Encoding Processing"
   ]
  },
  {
   "cell_type": "code",
   "execution_count": 34,
   "id": "ee1d7523-58ad-4e2a-b1af-b1e950c6699d",
   "metadata": {},
   "outputs": [
    {
     "data": {
      "text/plain": [
       "0    1407\n",
       "1    1374\n",
       "2    1286\n",
       "3    1226\n",
       "4    1073\n",
       "5     986\n",
       "Name: Activate, dtype: int64"
      ]
     },
     "execution_count": 34,
     "metadata": {},
     "output_type": "execute_result"
    }
   ],
   "source": [
    "df['Activate']=df['Activity'].map({'LAYING':0,'STANDING':1,\n",
    "                    'SITTING':2,'WALKING':3,\n",
    "                   'WALKING_UPSTAIRS':4,'WALKING_DOWNSTAIRS':5})\n",
    "df_test['Activate']=df_test['Activity'].map({'LAYING':0,'STANDING':1,\n",
    "                    'SITTING':2,'WALKING':3,\n",
    "                   'WALKING_UPSTAIRS':4,'WALKING_DOWNSTAIRS':5})\n",
    "df['Activate'].value_counts()"
   ]
  },
  {
   "cell_type": "markdown",
   "id": "b807335f-c1b9-43b8-8824-3c88591ba379",
   "metadata": {
    "tags": []
   },
   "source": [
    "### Standard normalization"
   ]
  },
  {
   "cell_type": "code",
   "execution_count": 35,
   "id": "afb63f25-cc32-4871-a19b-9aab8bd21f3e",
   "metadata": {},
   "outputs": [],
   "source": [
    "from sklearn.preprocessing import StandardScaler\n",
    "scaler = StandardScaler()\n",
    "scaler.fit(X_train)\n",
    "X_train = scaler.transform(X_train)\n",
    "y_train = y_train.values"
   ]
  },
  {
   "cell_type": "code",
   "execution_count": 36,
   "id": "b805c64e-1e57-49fb-b0b3-6f12ba9184fb",
   "metadata": {},
   "outputs": [
    {
     "name": "stdout",
     "output_type": "stream",
     "text": [
      "<class 'numpy.ndarray'> <class 'numpy.ndarray'>\n"
     ]
    }
   ],
   "source": [
    "print(type(X_train),type(y_train))"
   ]
  },
  {
   "cell_type": "markdown",
   "id": "28f1cd9f-db29-43bc-aeea-e8bedb39a0d5",
   "metadata": {},
   "source": [
    "### Estimate"
   ]
  },
  {
   "cell_type": "code",
   "execution_count": 130,
   "id": "fc97e407-09c6-4dc1-839e-8bb562fcaefa",
   "metadata": {},
   "outputs": [],
   "source": [
    "# GridSearch\n",
    "\n",
    "# grid search 할때 민테 param_range 범위를 설정을 크게하면 잘못서칭가능서있음\n",
    "# 적은 폭으로 하면 밑에 range가 폭임 적은폭으로하면 그렇게된다.\n",
    "param_range = [0.001,0.01,0.1,1,10,100,1000]\n",
    "\n",
    "params = [\n",
    "    {\n",
    "        'C' : param_range,\n",
    "        'gamma' : param_range,\n",
    "        'kernel' : ['rbf']\n",
    "    },\n",
    "    {\n",
    "        'C' : param_range,\n",
    "        'kernel' : ['linear']\n",
    "    },\n",
    "    {\n",
    "        'C' : param_range,\n",
    "        'degree' : [2,3], \n",
    "        'kernel' : ['poly']\n",
    "    }\n",
    "]"
   ]
  },
  {
   "cell_type": "code",
   "execution_count": 14,
   "id": "760aa048-dc8b-46db-9af3-916a3c00eef7",
   "metadata": {},
   "outputs": [
    {
     "ename": "NameError",
     "evalue": "name 'params' is not defined",
     "output_type": "error",
     "traceback": [
      "\u001b[1;31m---------------------------------------------------------------------------\u001b[0m",
      "\u001b[1;31mNameError\u001b[0m                                 Traceback (most recent call last)",
      "Cell \u001b[1;32mIn[14], line 6\u001b[0m\n\u001b[0;32m      2\u001b[0m \u001b[38;5;28;01mfrom\u001b[39;00m \u001b[38;5;21;01msklearn\u001b[39;00m\u001b[38;5;21;01m.\u001b[39;00m\u001b[38;5;21;01msvm\u001b[39;00m \u001b[38;5;28;01mimport\u001b[39;00m SVC\n\u001b[0;32m      4\u001b[0m clf \u001b[38;5;241m=\u001b[39m SVC(random_state\u001b[38;5;241m=\u001b[39m\u001b[38;5;241m2022\u001b[39m)\n\u001b[0;32m      5\u001b[0m gs \u001b[38;5;241m=\u001b[39m GridSearchCV(estimator \u001b[38;5;241m=\u001b[39m clf,\n\u001b[1;32m----> 6\u001b[0m                   param_grid \u001b[38;5;241m=\u001b[39m \u001b[43mparams\u001b[49m,\n\u001b[0;32m      7\u001b[0m                   scoring \u001b[38;5;241m=\u001b[39m \u001b[38;5;124m'\u001b[39m\u001b[38;5;124maccuracy\u001b[39m\u001b[38;5;124m'\u001b[39m,\n\u001b[0;32m      8\u001b[0m                   cv \u001b[38;5;241m=\u001b[39m \u001b[38;5;241m3\u001b[39m,\n\u001b[0;32m      9\u001b[0m                   n_jobs \u001b[38;5;241m=\u001b[39m \u001b[38;5;241m-\u001b[39m\u001b[38;5;241m1\u001b[39m,\n\u001b[0;32m     10\u001b[0m                   verbose \u001b[38;5;241m=\u001b[39m \u001b[38;5;241m3\u001b[39m\n\u001b[0;32m     11\u001b[0m                  )\n\u001b[0;32m     12\u001b[0m gs\u001b[38;5;241m.\u001b[39mfit(X_train,y_train)\n",
      "\u001b[1;31mNameError\u001b[0m: name 'params' is not defined"
     ]
    }
   ],
   "source": [
    "from sklearn.model_selection import GridSearchCV\n",
    "from sklearn.svm import SVC\n",
    "\n",
    "clf = SVC(random_state=2022)\n",
    "gs = GridSearchCV(estimator = clf,\n",
    "                  param_grid = params,\n",
    "                  scoring = 'accuracy',\n",
    "                  cv = 3,\n",
    "                  n_jobs = -1,\n",
    "                  verbose = 3\n",
    "                 )\n",
    "gs.fit(X_train,y_train)"
   ]
  },
  {
   "cell_type": "code",
   "execution_count": 58,
   "id": "c5c7dff5-c4fb-4cba-80af-8b3f4d17c82d",
   "metadata": {},
   "outputs": [],
   "source": [
    "# 여기서 GridSearch 를 다시 또 해야한다.\n",
    "gs.best_estimator_"
   ]
  },
  {
   "cell_type": "code",
   "execution_count": 59,
   "id": "7c9c54ea-31c6-486a-a897-f9b8efd5dd6d",
   "metadata": {},
   "outputs": [],
   "source": [
    "gs.best_score_"
   ]
  },
  {
   "cell_type": "code",
   "execution_count": 60,
   "id": "f3a2978a-4b09-46c5-a39f-79304ec532ca",
   "metadata": {},
   "outputs": [],
   "source": [
    "gs.best_params_"
   ]
  },
  {
   "cell_type": "markdown",
   "id": "2a075adc-88c1-4c65-8461-43b5d478d6b8",
   "metadata": {},
   "source": [
    "### test"
   ]
  },
  {
   "cell_type": "code",
   "execution_count": 37,
   "id": "44ae982c-b9d9-4619-8af3-092481d3a2a4",
   "metadata": {},
   "outputs": [
    {
     "data": {
      "text/html": [
       "<style>#sk-container-id-2 {color: black;background-color: white;}#sk-container-id-2 pre{padding: 0;}#sk-container-id-2 div.sk-toggleable {background-color: white;}#sk-container-id-2 label.sk-toggleable__label {cursor: pointer;display: block;width: 100%;margin-bottom: 0;padding: 0.3em;box-sizing: border-box;text-align: center;}#sk-container-id-2 label.sk-toggleable__label-arrow:before {content: \"▸\";float: left;margin-right: 0.25em;color: #696969;}#sk-container-id-2 label.sk-toggleable__label-arrow:hover:before {color: black;}#sk-container-id-2 div.sk-estimator:hover label.sk-toggleable__label-arrow:before {color: black;}#sk-container-id-2 div.sk-toggleable__content {max-height: 0;max-width: 0;overflow: hidden;text-align: left;background-color: #f0f8ff;}#sk-container-id-2 div.sk-toggleable__content pre {margin: 0.2em;color: black;border-radius: 0.25em;background-color: #f0f8ff;}#sk-container-id-2 input.sk-toggleable__control:checked~div.sk-toggleable__content {max-height: 200px;max-width: 100%;overflow: auto;}#sk-container-id-2 input.sk-toggleable__control:checked~label.sk-toggleable__label-arrow:before {content: \"▾\";}#sk-container-id-2 div.sk-estimator input.sk-toggleable__control:checked~label.sk-toggleable__label {background-color: #d4ebff;}#sk-container-id-2 div.sk-label input.sk-toggleable__control:checked~label.sk-toggleable__label {background-color: #d4ebff;}#sk-container-id-2 input.sk-hidden--visually {border: 0;clip: rect(1px 1px 1px 1px);clip: rect(1px, 1px, 1px, 1px);height: 1px;margin: -1px;overflow: hidden;padding: 0;position: absolute;width: 1px;}#sk-container-id-2 div.sk-estimator {font-family: monospace;background-color: #f0f8ff;border: 1px dotted black;border-radius: 0.25em;box-sizing: border-box;margin-bottom: 0.5em;}#sk-container-id-2 div.sk-estimator:hover {background-color: #d4ebff;}#sk-container-id-2 div.sk-parallel-item::after {content: \"\";width: 100%;border-bottom: 1px solid gray;flex-grow: 1;}#sk-container-id-2 div.sk-label:hover label.sk-toggleable__label {background-color: #d4ebff;}#sk-container-id-2 div.sk-serial::before {content: \"\";position: absolute;border-left: 1px solid gray;box-sizing: border-box;top: 0;bottom: 0;left: 50%;z-index: 0;}#sk-container-id-2 div.sk-serial {display: flex;flex-direction: column;align-items: center;background-color: white;padding-right: 0.2em;padding-left: 0.2em;position: relative;}#sk-container-id-2 div.sk-item {position: relative;z-index: 1;}#sk-container-id-2 div.sk-parallel {display: flex;align-items: stretch;justify-content: center;background-color: white;position: relative;}#sk-container-id-2 div.sk-item::before, #sk-container-id-2 div.sk-parallel-item::before {content: \"\";position: absolute;border-left: 1px solid gray;box-sizing: border-box;top: 0;bottom: 0;left: 50%;z-index: -1;}#sk-container-id-2 div.sk-parallel-item {display: flex;flex-direction: column;z-index: 1;position: relative;background-color: white;}#sk-container-id-2 div.sk-parallel-item:first-child::after {align-self: flex-end;width: 50%;}#sk-container-id-2 div.sk-parallel-item:last-child::after {align-self: flex-start;width: 50%;}#sk-container-id-2 div.sk-parallel-item:only-child::after {width: 0;}#sk-container-id-2 div.sk-dashed-wrapped {border: 1px dashed gray;margin: 0 0.4em 0.5em 0.4em;box-sizing: border-box;padding-bottom: 0.4em;background-color: white;}#sk-container-id-2 div.sk-label label {font-family: monospace;font-weight: bold;display: inline-block;line-height: 1.2em;}#sk-container-id-2 div.sk-label-container {text-align: center;}#sk-container-id-2 div.sk-container {/* jupyter's `normalize.less` sets `[hidden] { display: none; }` but bootstrap.min.css set `[hidden] { display: none !important; }` so we also need the `!important` here to be able to override the default hidden behavior on the sphinx rendered scikit-learn.org. See: https://github.com/scikit-learn/scikit-learn/issues/21755 */display: inline-block !important;position: relative;}#sk-container-id-2 div.sk-text-repr-fallback {display: none;}</style><div id=\"sk-container-id-2\" class=\"sk-top-container\"><div class=\"sk-text-repr-fallback\"><pre>SVC(C=0.1, kernel=&#x27;linear&#x27;, random_state=2022)</pre><b>In a Jupyter environment, please rerun this cell to show the HTML representation or trust the notebook. <br />On GitHub, the HTML representation is unable to render, please try loading this page with nbviewer.org.</b></div><div class=\"sk-container\" hidden><div class=\"sk-item\"><div class=\"sk-estimator sk-toggleable\"><input class=\"sk-toggleable__control sk-hidden--visually\" id=\"sk-estimator-id-2\" type=\"checkbox\" checked><label for=\"sk-estimator-id-2\" class=\"sk-toggleable__label sk-toggleable__label-arrow\">SVC</label><div class=\"sk-toggleable__content\"><pre>SVC(C=0.1, kernel=&#x27;linear&#x27;, random_state=2022)</pre></div></div></div></div></div>"
      ],
      "text/plain": [
       "SVC(C=0.1, kernel='linear', random_state=2022)"
      ]
     },
     "execution_count": 37,
     "metadata": {},
     "output_type": "execute_result"
    }
   ],
   "source": [
    "clf = SVC(C= 0.1, kernel='linear',random_state = 2022)\n",
    "clf.fit(X_train,y_train)"
   ]
  },
  {
   "cell_type": "code",
   "execution_count": 55,
   "id": "6eb4c321-0fb5-4ffe-8953-f136a5d24d10",
   "metadata": {},
   "outputs": [],
   "source": [
    "scaler = StandardScaler()\n",
    "scaler.fit(X_test)\n",
    "X_test = scaler.transform(X_test)\n",
    "# y_test = y_test.values"
   ]
  },
  {
   "cell_type": "code",
   "execution_count": 23,
   "id": "aa7b0921-811e-46b6-804b-8c4243aa54c5",
   "metadata": {},
   "outputs": [],
   "source": [
    "# Random Forest\n",
    "# Xgboost\n",
    "# light GBM"
   ]
  },
  {
   "cell_type": "code",
   "execution_count": 56,
   "id": "120ce792-9a48-4e3e-94e4-f18185f94e07",
   "metadata": {},
   "outputs": [
    {
     "data": {
      "text/plain": [
       "2.484862176942412e-17"
      ]
     },
     "execution_count": 56,
     "metadata": {},
     "output_type": "execute_result"
    }
   ],
   "source": [
    "X_test.mean()"
   ]
  },
  {
   "cell_type": "code",
   "execution_count": 57,
   "id": "79839558-68f6-4353-afed-1d75138d8907",
   "metadata": {},
   "outputs": [
    {
     "data": {
      "text/plain": [
       "(2947, 562)"
      ]
     },
     "execution_count": 57,
     "metadata": {},
     "output_type": "execute_result"
    }
   ],
   "source": [
    "X_test.shape"
   ]
  },
  {
   "cell_type": "code",
   "execution_count": 58,
   "id": "4965c144-30ce-4b09-bac5-e520fb45d304",
   "metadata": {},
   "outputs": [],
   "source": [
    "y_pred = clf.predict(X_test)"
   ]
  },
  {
   "cell_type": "code",
   "execution_count": 59,
   "id": "24667b4b-287f-4cc1-a0da-ad90ee1c0b0c",
   "metadata": {},
   "outputs": [],
   "source": [
    "import myutils as my"
   ]
  },
  {
   "cell_type": "code",
   "execution_count": 60,
   "id": "f33016a8-c83c-45d4-aa3e-2d892e54df2e",
   "metadata": {},
   "outputs": [
    {
     "name": "stdout",
     "output_type": "stream",
     "text": [
      "accuracy: 0.9650492025788938\n",
      "precision: 0.9652460401923605\n",
      "recall: 0.9652460401923605\n"
     ]
    }
   ],
   "source": [
    "my.print_score(y_test,y_pred,average='weighted')"
   ]
  },
  {
   "cell_type": "code",
   "execution_count": 61,
   "id": "8248bccd-c7b2-4b18-9aa4-9b9550896afc",
   "metadata": {},
   "outputs": [
    {
     "data": {
      "image/png": "[encoded data removed]",
      "text/plain": [
       "<Figure size 300x300 with 1 Axes>"
      ]
     },
     "metadata": {},
     "output_type": "display_data"
    }
   ],
   "source": [
    "my.plot_confusion_matrix(y_test, y_pred)"
   ]
  },
  {
   "cell_type": "code",
   "execution_count": null,
   "id": "afb957c8-eb5a-4132-a9c8-090125c971b5",
   "metadata": {},
   "outputs": [],
   "source": []
  }
 ],
 "metadata": {
  "kernelspec": {
   "display_name": "flyai",
   "language": "python",
   "name": "flyai"
  },
  "language_info": {
   "codemirror_mode": {
    "name": "ipython",
    "version": 3
   },
   "file_extension": ".py",
   "mimetype": "text/x-python",
   "name": "python",
   "nbconvert_exporter": "python",
   "pygments_lexer": "ipython3",
   "version": "3.8.0"
  }
 },
 "nbformat": 4,
 "nbformat_minor": 5
}
