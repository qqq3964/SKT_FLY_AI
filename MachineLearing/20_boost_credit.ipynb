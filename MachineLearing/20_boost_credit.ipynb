{
 "cells": [
  {
   "cell_type": "markdown",
   "id": "e2c8756d-88d2-4d0c-adc9-3e6e0beb9d3d",
   "metadata": {},
   "source": [
    "# Credit Card Fraud Detection\n",
    "---"
   ]
  },
  {
   "cell_type": "code",
   "execution_count": 57,
   "id": "17db74f9-ffbd-4dc5-8ac3-1f25c48b3951",
   "metadata": {},
   "outputs": [],
   "source": [
    "import numpy as np\n",
    "import pandas as pd\n",
    "import matplotlib.pyplot as plt\n",
    "import seaborn as sns\n",
    "import myutils as my"
   ]
  },
  {
   "cell_type": "markdown",
   "id": "91d0d34a-a678-421d-a556-232d9d6ca8cb",
   "metadata": {},
   "source": [
    "### 데이터 전처리"
   ]
  },
  {
   "cell_type": "code",
   "execution_count": 58,
   "id": "d652e577-10a7-41f5-b972-07cee509afb8",
   "metadata": {},
   "outputs": [],
   "source": [
    "credit = pd.read_csv('data/creditcard.csv')"
   ]
  },
  {
   "cell_type": "code",
   "execution_count": 59,
   "id": "0e8750f5-d81b-4af1-ac73-4402dd7e9e12",
   "metadata": {},
   "outputs": [
    {
     "data": {
      "text/html": [
       "<div>\n",
       "<style scoped>\n",
       "    .dataframe tbody tr th:only-of-type {\n",
       "        vertical-align: middle;\n",
       "    }\n",
       "\n",
       "    .dataframe tbody tr th {\n",
       "        vertical-align: top;\n",
       "    }\n",
       "\n",
       "    .dataframe thead th {\n",
       "        text-align: right;\n",
       "    }\n",
       "</style>\n",
       "<table border=\"1\" class=\"dataframe\">\n",
       "  <thead>\n",
       "    <tr style=\"text-align: right;\">\n",
       "      <th></th>\n",
       "      <th>Time</th>\n",
       "      <th>V1</th>\n",
       "      <th>V2</th>\n",
       "      <th>V3</th>\n",
       "      <th>V4</th>\n",
       "      <th>V5</th>\n",
       "      <th>V6</th>\n",
       "      <th>V7</th>\n",
       "      <th>V8</th>\n",
       "      <th>V9</th>\n",
       "      <th>...</th>\n",
       "      <th>V21</th>\n",
       "      <th>V22</th>\n",
       "      <th>V23</th>\n",
       "      <th>V24</th>\n",
       "      <th>V25</th>\n",
       "      <th>V26</th>\n",
       "      <th>V27</th>\n",
       "      <th>V28</th>\n",
       "      <th>Amount</th>\n",
       "      <th>Class</th>\n",
       "    </tr>\n",
       "  </thead>\n",
       "  <tbody>\n",
       "    <tr>\n",
       "      <th>0</th>\n",
       "      <td>0.0</td>\n",
       "      <td>-1.359807</td>\n",
       "      <td>-0.072781</td>\n",
       "      <td>2.536347</td>\n",
       "      <td>1.378155</td>\n",
       "      <td>-0.338321</td>\n",
       "      <td>0.462388</td>\n",
       "      <td>0.239599</td>\n",
       "      <td>0.098698</td>\n",
       "      <td>0.363787</td>\n",
       "      <td>...</td>\n",
       "      <td>-0.018307</td>\n",
       "      <td>0.277838</td>\n",
       "      <td>-0.110474</td>\n",
       "      <td>0.066928</td>\n",
       "      <td>0.128539</td>\n",
       "      <td>-0.189115</td>\n",
       "      <td>0.133558</td>\n",
       "      <td>-0.021053</td>\n",
       "      <td>149.62</td>\n",
       "      <td>0</td>\n",
       "    </tr>\n",
       "    <tr>\n",
       "      <th>1</th>\n",
       "      <td>0.0</td>\n",
       "      <td>1.191857</td>\n",
       "      <td>0.266151</td>\n",
       "      <td>0.166480</td>\n",
       "      <td>0.448154</td>\n",
       "      <td>0.060018</td>\n",
       "      <td>-0.082361</td>\n",
       "      <td>-0.078803</td>\n",
       "      <td>0.085102</td>\n",
       "      <td>-0.255425</td>\n",
       "      <td>...</td>\n",
       "      <td>-0.225775</td>\n",
       "      <td>-0.638672</td>\n",
       "      <td>0.101288</td>\n",
       "      <td>-0.339846</td>\n",
       "      <td>0.167170</td>\n",
       "      <td>0.125895</td>\n",
       "      <td>-0.008983</td>\n",
       "      <td>0.014724</td>\n",
       "      <td>2.69</td>\n",
       "      <td>0</td>\n",
       "    </tr>\n",
       "    <tr>\n",
       "      <th>2</th>\n",
       "      <td>1.0</td>\n",
       "      <td>-1.358354</td>\n",
       "      <td>-1.340163</td>\n",
       "      <td>1.773209</td>\n",
       "      <td>0.379780</td>\n",
       "      <td>-0.503198</td>\n",
       "      <td>1.800499</td>\n",
       "      <td>0.791461</td>\n",
       "      <td>0.247676</td>\n",
       "      <td>-1.514654</td>\n",
       "      <td>...</td>\n",
       "      <td>0.247998</td>\n",
       "      <td>0.771679</td>\n",
       "      <td>0.909412</td>\n",
       "      <td>-0.689281</td>\n",
       "      <td>-0.327642</td>\n",
       "      <td>-0.139097</td>\n",
       "      <td>-0.055353</td>\n",
       "      <td>-0.059752</td>\n",
       "      <td>378.66</td>\n",
       "      <td>0</td>\n",
       "    </tr>\n",
       "    <tr>\n",
       "      <th>3</th>\n",
       "      <td>1.0</td>\n",
       "      <td>-0.966272</td>\n",
       "      <td>-0.185226</td>\n",
       "      <td>1.792993</td>\n",
       "      <td>-0.863291</td>\n",
       "      <td>-0.010309</td>\n",
       "      <td>1.247203</td>\n",
       "      <td>0.237609</td>\n",
       "      <td>0.377436</td>\n",
       "      <td>-1.387024</td>\n",
       "      <td>...</td>\n",
       "      <td>-0.108300</td>\n",
       "      <td>0.005274</td>\n",
       "      <td>-0.190321</td>\n",
       "      <td>-1.175575</td>\n",
       "      <td>0.647376</td>\n",
       "      <td>-0.221929</td>\n",
       "      <td>0.062723</td>\n",
       "      <td>0.061458</td>\n",
       "      <td>123.50</td>\n",
       "      <td>0</td>\n",
       "    </tr>\n",
       "    <tr>\n",
       "      <th>4</th>\n",
       "      <td>2.0</td>\n",
       "      <td>-1.158233</td>\n",
       "      <td>0.877737</td>\n",
       "      <td>1.548718</td>\n",
       "      <td>0.403034</td>\n",
       "      <td>-0.407193</td>\n",
       "      <td>0.095921</td>\n",
       "      <td>0.592941</td>\n",
       "      <td>-0.270533</td>\n",
       "      <td>0.817739</td>\n",
       "      <td>...</td>\n",
       "      <td>-0.009431</td>\n",
       "      <td>0.798278</td>\n",
       "      <td>-0.137458</td>\n",
       "      <td>0.141267</td>\n",
       "      <td>-0.206010</td>\n",
       "      <td>0.502292</td>\n",
       "      <td>0.219422</td>\n",
       "      <td>0.215153</td>\n",
       "      <td>69.99</td>\n",
       "      <td>0</td>\n",
       "    </tr>\n",
       "  </tbody>\n",
       "</table>\n",
       "<p>5 rows × 31 columns</p>\n",
       "</div>"
      ],
      "text/plain": [
       "   Time        V1        V2        V3        V4        V5        V6        V7  \\\n",
       "0   0.0 -1.359807 -0.072781  2.536347  1.378155 -0.338321  0.462388  0.239599   \n",
       "1   0.0  1.191857  0.266151  0.166480  0.448154  0.060018 -0.082361 -0.078803   \n",
       "2   1.0 -1.358354 -1.340163  1.773209  0.379780 -0.503198  1.800499  0.791461   \n",
       "3   1.0 -0.966272 -0.185226  1.792993 -0.863291 -0.010309  1.247203  0.237609   \n",
       "4   2.0 -1.158233  0.877737  1.548718  0.403034 -0.407193  0.095921  0.592941   \n",
       "\n",
       "         V8        V9  ...       V21       V22       V23       V24       V25  \\\n",
       "0  0.098698  0.363787  ... -0.018307  0.277838 -0.110474  0.066928  0.128539   \n",
       "1  0.085102 -0.255425  ... -0.225775 -0.638672  0.101288 -0.339846  0.167170   \n",
       "2  0.247676 -1.514654  ...  0.247998  0.771679  0.909412 -0.689281 -0.327642   \n",
       "3  0.377436 -1.387024  ... -0.108300  0.005274 -0.190321 -1.175575  0.647376   \n",
       "4 -0.270533  0.817739  ... -0.009431  0.798278 -0.137458  0.141267 -0.206010   \n",
       "\n",
       "        V26       V27       V28  Amount  Class  \n",
       "0 -0.189115  0.133558 -0.021053  149.62      0  \n",
       "1  0.125895 -0.008983  0.014724    2.69      0  \n",
       "2 -0.139097 -0.055353 -0.059752  378.66      0  \n",
       "3 -0.221929  0.062723  0.061458  123.50      0  \n",
       "4  0.502292  0.219422  0.215153   69.99      0  \n",
       "\n",
       "[5 rows x 31 columns]"
      ]
     },
     "execution_count": 59,
     "metadata": {},
     "output_type": "execute_result"
    }
   ],
   "source": [
    "df = credit\n",
    "df.head()"
   ]
  },
  {
   "cell_type": "code",
   "execution_count": 60,
   "id": "54c1ceb8-278b-4154-9257-e0fcae540c0b",
   "metadata": {},
   "outputs": [
    {
     "name": "stdout",
     "output_type": "stream",
     "text": [
      "<class 'pandas.core.frame.DataFrame'>\n",
      "RangeIndex: 284807 entries, 0 to 284806\n",
      "Data columns (total 31 columns):\n",
      " #   Column  Non-Null Count   Dtype  \n",
      "---  ------  --------------   -----  \n",
      " 0   Time    284807 non-null  float64\n",
      " 1   V1      284807 non-null  float64\n",
      " 2   V2      284807 non-null  float64\n",
      " 3   V3      284807 non-null  float64\n",
      " 4   V4      284807 non-null  float64\n",
      " 5   V5      284807 non-null  float64\n",
      " 6   V6      284807 non-null  float64\n",
      " 7   V7      284807 non-null  float64\n",
      " 8   V8      284807 non-null  float64\n",
      " 9   V9      284807 non-null  float64\n",
      " 10  V10     284807 non-null  float64\n",
      " 11  V11     284807 non-null  float64\n",
      " 12  V12     284807 non-null  float64\n",
      " 13  V13     284807 non-null  float64\n",
      " 14  V14     284807 non-null  float64\n",
      " 15  V15     284807 non-null  float64\n",
      " 16  V16     284807 non-null  float64\n",
      " 17  V17     284807 non-null  float64\n",
      " 18  V18     284807 non-null  float64\n",
      " 19  V19     284807 non-null  float64\n",
      " 20  V20     284807 non-null  float64\n",
      " 21  V21     284807 non-null  float64\n",
      " 22  V22     284807 non-null  float64\n",
      " 23  V23     284807 non-null  float64\n",
      " 24  V24     284807 non-null  float64\n",
      " 25  V25     284807 non-null  float64\n",
      " 26  V26     284807 non-null  float64\n",
      " 27  V27     284807 non-null  float64\n",
      " 28  V28     284807 non-null  float64\n",
      " 29  Amount  284807 non-null  float64\n",
      " 30  Class   284807 non-null  int64  \n",
      "dtypes: float64(30), int64(1)\n",
      "memory usage: 67.4 MB\n"
     ]
    }
   ],
   "source": [
    "df.info()"
   ]
  },
  {
   "cell_type": "code",
   "execution_count": 61,
   "id": "d8eb6f69-6f5b-43a4-ae74-fadd11143fe3",
   "metadata": {},
   "outputs": [
    {
     "data": {
      "text/plain": [
       "0    0.998273\n",
       "1    0.001727\n",
       "Name: Class, dtype: float64"
      ]
     },
     "execution_count": 61,
     "metadata": {},
     "output_type": "execute_result"
    }
   ],
   "source": [
    "# df['Class'].value_counts()\n",
    "# normalize 하면 percentage로 보여준다.\n",
    "df['Class'].value_counts(normalize=True)"
   ]
  },
  {
   "cell_type": "code",
   "execution_count": 62,
   "id": "b652d503-db3b-4607-be15-6e99fdcaeb03",
   "metadata": {},
   "outputs": [
    {
     "data": {
      "text/plain": [
       "<AxesSubplot: xlabel='Class', ylabel='count'>"
      ]
     },
     "execution_count": 62,
     "metadata": {},
     "output_type": "execute_result"
    },
    {
     "data": {
      "image/png": "[encoded data removed]",
      "text/plain": [
       "<Figure size 640x480 with 1 Axes>"
      ]
     },
     "metadata": {},
     "output_type": "display_data"
    }
   ],
   "source": [
    "sns.countplot(x=df['Class'])"
   ]
  },
  {
   "cell_type": "code",
   "execution_count": 63,
   "id": "0040c083-9c09-405d-98a8-57bb4bc0c23e",
   "metadata": {},
   "outputs": [
    {
     "data": {
      "text/plain": [
       "((284807, 29), (284807,))"
      ]
     },
     "execution_count": 63,
     "metadata": {},
     "output_type": "execute_result"
    }
   ],
   "source": [
    "# divide\n",
    "X = df.drop(['Time','Class'],axis=1)\n",
    "y = df['Class']\n",
    "X.shape,y.shape"
   ]
  },
  {
   "cell_type": "code",
   "execution_count": 64,
   "id": "0a8f2914-b404-48d5-b0fd-0349c2ea7412",
   "metadata": {},
   "outputs": [
    {
     "data": {
      "text/plain": [
       "((227845, 29), (56962, 29))"
      ]
     },
     "execution_count": 64,
     "metadata": {},
     "output_type": "execute_result"
    }
   ],
   "source": [
    "from sklearn.model_selection import train_test_split\n",
    "\n",
    "X_train,X_test,y_train,y_test = train_test_split(X,y,\n",
    "                                                random_state=2022,\n",
    "                                                stratify=y,\n",
    "                                                 test_size=0.2\n",
    "                                                )\n",
    "X_train.shape,X_test.shape"
   ]
  },
  {
   "cell_type": "code",
   "execution_count": 65,
   "id": "d26f1c38-5b66-431f-a99b-b3779e98f7e4",
   "metadata": {},
   "outputs": [
    {
     "data": {
      "text/plain": [
       "(227845,)"
      ]
     },
     "execution_count": 65,
     "metadata": {},
     "output_type": "execute_result"
    }
   ],
   "source": [
    "# 1-dimension\n",
    "X_train['Amount'].shape"
   ]
  },
  {
   "cell_type": "code",
   "execution_count": 66,
   "id": "0c7aacfc-c3a3-4f1a-8bb9-3a344c9c2b43",
   "metadata": {},
   "outputs": [],
   "source": [
    "# standard 는 z표준화이다. \n",
    "from sklearn.preprocessing import RobustScaler\n",
    "\n",
    "scaler = RobustScaler()\n",
    "# 2차원으로 차원을 맞춰줘요 fit_transform이 된다.\n",
    "amount = scaler.fit_transform(X_train['Amount'].values.reshape(-1,1))"
   ]
  },
  {
   "cell_type": "code",
   "execution_count": 67,
   "id": "f0d1311f-1d84-4bf2-a54a-f7a37ae5508a",
   "metadata": {},
   "outputs": [],
   "source": [
    "X_train['Amount'] = amount"
   ]
  },
  {
   "cell_type": "code",
   "execution_count": 93,
   "id": "21ff94bc-6cea-4d50-b64d-391bed42908f",
   "metadata": {},
   "outputs": [
    {
     "data": {
      "text/html": [
       "<div>\n",
       "<style scoped>\n",
       "    .dataframe tbody tr th:only-of-type {\n",
       "        vertical-align: middle;\n",
       "    }\n",
       "\n",
       "    .dataframe tbody tr th {\n",
       "        vertical-align: top;\n",
       "    }\n",
       "\n",
       "    .dataframe thead th {\n",
       "        text-align: right;\n",
       "    }\n",
       "</style>\n",
       "<table border=\"1\" class=\"dataframe\">\n",
       "  <thead>\n",
       "    <tr style=\"text-align: right;\">\n",
       "      <th></th>\n",
       "      <th>V1</th>\n",
       "      <th>V2</th>\n",
       "      <th>V3</th>\n",
       "      <th>V4</th>\n",
       "      <th>V5</th>\n",
       "      <th>V6</th>\n",
       "      <th>V7</th>\n",
       "      <th>V8</th>\n",
       "      <th>V9</th>\n",
       "      <th>V10</th>\n",
       "      <th>...</th>\n",
       "      <th>V20</th>\n",
       "      <th>V21</th>\n",
       "      <th>V22</th>\n",
       "      <th>V23</th>\n",
       "      <th>V24</th>\n",
       "      <th>V25</th>\n",
       "      <th>V26</th>\n",
       "      <th>V27</th>\n",
       "      <th>V28</th>\n",
       "      <th>Amount</th>\n",
       "    </tr>\n",
       "  </thead>\n",
       "  <tbody>\n",
       "    <tr>\n",
       "      <th>180622</th>\n",
       "      <td>1.979681</td>\n",
       "      <td>-0.474765</td>\n",
       "      <td>-0.590701</td>\n",
       "      <td>0.177380</td>\n",
       "      <td>-0.240664</td>\n",
       "      <td>0.431618</td>\n",
       "      <td>-0.764432</td>\n",
       "      <td>0.208290</td>\n",
       "      <td>1.222522</td>\n",
       "      <td>-0.005470</td>\n",
       "      <td>...</td>\n",
       "      <td>-0.157936</td>\n",
       "      <td>0.205647</td>\n",
       "      <td>0.781997</td>\n",
       "      <td>0.075669</td>\n",
       "      <td>0.220107</td>\n",
       "      <td>-0.034573</td>\n",
       "      <td>-0.233996</td>\n",
       "      <td>0.032740</td>\n",
       "      <td>-0.044631</td>\n",
       "      <td>-0.167903</td>\n",
       "    </tr>\n",
       "    <tr>\n",
       "      <th>55978</th>\n",
       "      <td>0.964175</td>\n",
       "      <td>-1.052088</td>\n",
       "      <td>-0.017591</td>\n",
       "      <td>-0.492805</td>\n",
       "      <td>-1.165913</td>\n",
       "      <td>-1.021734</td>\n",
       "      <td>0.003150</td>\n",
       "      <td>-0.192763</td>\n",
       "      <td>-1.259083</td>\n",
       "      <td>0.778697</td>\n",
       "      <td>...</td>\n",
       "      <td>-0.133142</td>\n",
       "      <td>-0.630779</td>\n",
       "      <td>-1.947002</td>\n",
       "      <td>0.138484</td>\n",
       "      <td>0.481624</td>\n",
       "      <td>-0.177094</td>\n",
       "      <td>0.576203</td>\n",
       "      <td>-0.123411</td>\n",
       "      <td>0.033147</td>\n",
       "      <td>2.616622</td>\n",
       "    </tr>\n",
       "    <tr>\n",
       "      <th>262061</th>\n",
       "      <td>-0.867775</td>\n",
       "      <td>0.546923</td>\n",
       "      <td>0.245089</td>\n",
       "      <td>-0.903494</td>\n",
       "      <td>2.815045</td>\n",
       "      <td>4.141723</td>\n",
       "      <td>0.438113</td>\n",
       "      <td>1.061168</td>\n",
       "      <td>-0.596154</td>\n",
       "      <td>-0.837835</td>\n",
       "      <td>...</td>\n",
       "      <td>0.100236</td>\n",
       "      <td>0.081071</td>\n",
       "      <td>0.033550</td>\n",
       "      <td>-0.292623</td>\n",
       "      <td>0.670734</td>\n",
       "      <td>0.861808</td>\n",
       "      <td>-0.515053</td>\n",
       "      <td>0.056489</td>\n",
       "      <td>0.061340</td>\n",
       "      <td>0.601791</td>\n",
       "    </tr>\n",
       "    <tr>\n",
       "      <th>191188</th>\n",
       "      <td>0.786440</td>\n",
       "      <td>0.627927</td>\n",
       "      <td>0.189040</td>\n",
       "      <td>0.972690</td>\n",
       "      <td>0.604452</td>\n",
       "      <td>-0.588146</td>\n",
       "      <td>1.478182</td>\n",
       "      <td>-1.433454</td>\n",
       "      <td>0.350121</td>\n",
       "      <td>1.595765</td>\n",
       "      <td>...</td>\n",
       "      <td>0.418000</td>\n",
       "      <td>0.265309</td>\n",
       "      <td>1.655252</td>\n",
       "      <td>-0.402629</td>\n",
       "      <td>0.216880</td>\n",
       "      <td>-0.306025</td>\n",
       "      <td>1.210782</td>\n",
       "      <td>-1.207652</td>\n",
       "      <td>-0.967302</td>\n",
       "      <td>0.039877</td>\n",
       "    </tr>\n",
       "    <tr>\n",
       "      <th>268272</th>\n",
       "      <td>1.933397</td>\n",
       "      <td>-0.260520</td>\n",
       "      <td>-0.473325</td>\n",
       "      <td>1.512736</td>\n",
       "      <td>-0.322205</td>\n",
       "      <td>-0.080908</td>\n",
       "      <td>-0.312499</td>\n",
       "      <td>0.071308</td>\n",
       "      <td>1.361587</td>\n",
       "      <td>0.009141</td>\n",
       "      <td>...</td>\n",
       "      <td>-0.334131</td>\n",
       "      <td>-0.551011</td>\n",
       "      <td>-1.349955</td>\n",
       "      <td>0.398574</td>\n",
       "      <td>-0.531820</td>\n",
       "      <td>-0.319016</td>\n",
       "      <td>-1.074591</td>\n",
       "      <td>0.048692</td>\n",
       "      <td>-0.035306</td>\n",
       "      <td>-0.058206</td>\n",
       "    </tr>\n",
       "    <tr>\n",
       "      <th>...</th>\n",
       "      <td>...</td>\n",
       "      <td>...</td>\n",
       "      <td>...</td>\n",
       "      <td>...</td>\n",
       "      <td>...</td>\n",
       "      <td>...</td>\n",
       "      <td>...</td>\n",
       "      <td>...</td>\n",
       "      <td>...</td>\n",
       "      <td>...</td>\n",
       "      <td>...</td>\n",
       "      <td>...</td>\n",
       "      <td>...</td>\n",
       "      <td>...</td>\n",
       "      <td>...</td>\n",
       "      <td>...</td>\n",
       "      <td>...</td>\n",
       "      <td>...</td>\n",
       "      <td>...</td>\n",
       "      <td>...</td>\n",
       "      <td>...</td>\n",
       "    </tr>\n",
       "    <tr>\n",
       "      <th>80530</th>\n",
       "      <td>-0.881069</td>\n",
       "      <td>-0.781485</td>\n",
       "      <td>0.080529</td>\n",
       "      <td>-3.451610</td>\n",
       "      <td>0.872340</td>\n",
       "      <td>3.484037</td>\n",
       "      <td>-1.288272</td>\n",
       "      <td>1.374577</td>\n",
       "      <td>-2.441680</td>\n",
       "      <td>0.489493</td>\n",
       "      <td>...</td>\n",
       "      <td>-0.108762</td>\n",
       "      <td>0.127439</td>\n",
       "      <td>0.243141</td>\n",
       "      <td>-0.051868</td>\n",
       "      <td>0.986093</td>\n",
       "      <td>0.221627</td>\n",
       "      <td>-0.184973</td>\n",
       "      <td>-0.021020</td>\n",
       "      <td>0.010340</td>\n",
       "      <td>0.797677</td>\n",
       "    </tr>\n",
       "    <tr>\n",
       "      <th>247532</th>\n",
       "      <td>-1.191586</td>\n",
       "      <td>0.254653</td>\n",
       "      <td>1.198377</td>\n",
       "      <td>-2.408086</td>\n",
       "      <td>-0.953886</td>\n",
       "      <td>0.921060</td>\n",
       "      <td>-1.187719</td>\n",
       "      <td>1.059878</td>\n",
       "      <td>0.423681</td>\n",
       "      <td>0.291503</td>\n",
       "      <td>...</td>\n",
       "      <td>0.226456</td>\n",
       "      <td>0.137332</td>\n",
       "      <td>0.592430</td>\n",
       "      <td>-0.157397</td>\n",
       "      <td>0.078194</td>\n",
       "      <td>-0.108729</td>\n",
       "      <td>-0.287664</td>\n",
       "      <td>0.498682</td>\n",
       "      <td>0.264822</td>\n",
       "      <td>-0.279698</td>\n",
       "    </tr>\n",
       "    <tr>\n",
       "      <th>135761</th>\n",
       "      <td>-1.148252</td>\n",
       "      <td>0.511381</td>\n",
       "      <td>0.891353</td>\n",
       "      <td>-0.434903</td>\n",
       "      <td>0.578820</td>\n",
       "      <td>-0.184769</td>\n",
       "      <td>0.408490</td>\n",
       "      <td>-1.138738</td>\n",
       "      <td>0.805643</td>\n",
       "      <td>0.124250</td>\n",
       "      <td>...</td>\n",
       "      <td>-0.401465</td>\n",
       "      <td>0.373786</td>\n",
       "      <td>-0.689279</td>\n",
       "      <td>0.451708</td>\n",
       "      <td>-0.442165</td>\n",
       "      <td>-1.070208</td>\n",
       "      <td>-0.127763</td>\n",
       "      <td>0.027261</td>\n",
       "      <td>0.088082</td>\n",
       "      <td>-0.027984</td>\n",
       "    </tr>\n",
       "    <tr>\n",
       "      <th>273792</th>\n",
       "      <td>1.940035</td>\n",
       "      <td>-0.646947</td>\n",
       "      <td>-0.304405</td>\n",
       "      <td>0.281822</td>\n",
       "      <td>-1.024825</td>\n",
       "      <td>-0.710335</td>\n",
       "      <td>-0.678226</td>\n",
       "      <td>-0.014725</td>\n",
       "      <td>1.698491</td>\n",
       "      <td>-0.186593</td>\n",
       "      <td>...</td>\n",
       "      <td>-0.231831</td>\n",
       "      <td>0.182409</td>\n",
       "      <td>0.665687</td>\n",
       "      <td>0.128453</td>\n",
       "      <td>0.058553</td>\n",
       "      <td>-0.221864</td>\n",
       "      <td>0.123801</td>\n",
       "      <td>0.003305</td>\n",
       "      <td>-0.039673</td>\n",
       "      <td>0.181335</td>\n",
       "    </tr>\n",
       "    <tr>\n",
       "      <th>107343</th>\n",
       "      <td>-1.885353</td>\n",
       "      <td>-0.148091</td>\n",
       "      <td>0.671590</td>\n",
       "      <td>-1.262493</td>\n",
       "      <td>-2.420723</td>\n",
       "      <td>-0.400083</td>\n",
       "      <td>-1.532033</td>\n",
       "      <td>1.143913</td>\n",
       "      <td>-2.823083</td>\n",
       "      <td>0.570026</td>\n",
       "      <td>...</td>\n",
       "      <td>-0.448185</td>\n",
       "      <td>0.270386</td>\n",
       "      <td>0.698535</td>\n",
       "      <td>-0.071735</td>\n",
       "      <td>0.457876</td>\n",
       "      <td>-0.450757</td>\n",
       "      <td>-0.093429</td>\n",
       "      <td>-0.384341</td>\n",
       "      <td>-0.161409</td>\n",
       "      <td>0.783685</td>\n",
       "    </tr>\n",
       "  </tbody>\n",
       "</table>\n",
       "<p>227845 rows × 29 columns</p>\n",
       "</div>"
      ],
      "text/plain": [
       "              V1        V2        V3        V4        V5        V6        V7  \\\n",
       "180622  1.979681 -0.474765 -0.590701  0.177380 -0.240664  0.431618 -0.764432   \n",
       "55978   0.964175 -1.052088 -0.017591 -0.492805 -1.165913 -1.021734  0.003150   \n",
       "262061 -0.867775  0.546923  0.245089 -0.903494  2.815045  4.141723  0.438113   \n",
       "191188  0.786440  0.627927  0.189040  0.972690  0.604452 -0.588146  1.478182   \n",
       "268272  1.933397 -0.260520 -0.473325  1.512736 -0.322205 -0.080908 -0.312499   \n",
       "...          ...       ...       ...       ...       ...       ...       ...   \n",
       "80530  -0.881069 -0.781485  0.080529 -3.451610  0.872340  3.484037 -1.288272   \n",
       "247532 -1.191586  0.254653  1.198377 -2.408086 -0.953886  0.921060 -1.187719   \n",
       "135761 -1.148252  0.511381  0.891353 -0.434903  0.578820 -0.184769  0.408490   \n",
       "273792  1.940035 -0.646947 -0.304405  0.281822 -1.024825 -0.710335 -0.678226   \n",
       "107343 -1.885353 -0.148091  0.671590 -1.262493 -2.420723 -0.400083 -1.532033   \n",
       "\n",
       "              V8        V9       V10  ...       V20       V21       V22  \\\n",
       "180622  0.208290  1.222522 -0.005470  ... -0.157936  0.205647  0.781997   \n",
       "55978  -0.192763 -1.259083  0.778697  ... -0.133142 -0.630779 -1.947002   \n",
       "262061  1.061168 -0.596154 -0.837835  ...  0.100236  0.081071  0.033550   \n",
       "191188 -1.433454  0.350121  1.595765  ...  0.418000  0.265309  1.655252   \n",
       "268272  0.071308  1.361587  0.009141  ... -0.334131 -0.551011 -1.349955   \n",
       "...          ...       ...       ...  ...       ...       ...       ...   \n",
       "80530   1.374577 -2.441680  0.489493  ... -0.108762  0.127439  0.243141   \n",
       "247532  1.059878  0.423681  0.291503  ...  0.226456  0.137332  0.592430   \n",
       "135761 -1.138738  0.805643  0.124250  ... -0.401465  0.373786 -0.689279   \n",
       "273792 -0.014725  1.698491 -0.186593  ... -0.231831  0.182409  0.665687   \n",
       "107343  1.143913 -2.823083  0.570026  ... -0.448185  0.270386  0.698535   \n",
       "\n",
       "             V23       V24       V25       V26       V27       V28    Amount  \n",
       "180622  0.075669  0.220107 -0.034573 -0.233996  0.032740 -0.044631 -0.167903  \n",
       "55978   0.138484  0.481624 -0.177094  0.576203 -0.123411  0.033147  2.616622  \n",
       "262061 -0.292623  0.670734  0.861808 -0.515053  0.056489  0.061340  0.601791  \n",
       "191188 -0.402629  0.216880 -0.306025  1.210782 -1.207652 -0.967302  0.039877  \n",
       "268272  0.398574 -0.531820 -0.319016 -1.074591  0.048692 -0.035306 -0.058206  \n",
       "...          ...       ...       ...       ...       ...       ...       ...  \n",
       "80530  -0.051868  0.986093  0.221627 -0.184973 -0.021020  0.010340  0.797677  \n",
       "247532 -0.157397  0.078194 -0.108729 -0.287664  0.498682  0.264822 -0.279698  \n",
       "135761  0.451708 -0.442165 -1.070208 -0.127763  0.027261  0.088082 -0.027984  \n",
       "273792  0.128453  0.058553 -0.221864  0.123801  0.003305 -0.039673  0.181335  \n",
       "107343 -0.071735  0.457876 -0.450757 -0.093429 -0.384341 -0.161409  0.783685  \n",
       "\n",
       "[227845 rows x 29 columns]"
      ]
     },
     "execution_count": 93,
     "metadata": {},
     "output_type": "execute_result"
    }
   ],
   "source": [
    "X_train"
   ]
  },
  {
   "cell_type": "code",
   "execution_count": 69,
   "id": "3cd25d5d-8a1a-43e2-920f-d377dfcba131",
   "metadata": {},
   "outputs": [
    {
     "name": "stdout",
     "output_type": "stream",
     "text": [
      "Collecting imbalanced-learn\n",
      "  Downloading imbalanced_learn-0.10.1-py3-none-any.whl (226 kB)\n",
      "     ------------------------------------- 226.0/226.0 kB 14.4 MB/s eta 0:00:00\n",
      "Requirement already satisfied: numpy>=1.17.3 in c:\\users\\007\\anaconda3\\envs\\flyai\\lib\\site-packages (from imbalanced-learn) (1.21.0)\n",
      "Requirement already satisfied: threadpoolctl>=2.0.0 in c:\\users\\007\\appdata\\roaming\\python\\python38\\site-packages (from imbalanced-learn) (3.1.0)\n",
      "Requirement already satisfied: joblib>=1.1.1 in c:\\users\\007\\appdata\\roaming\\python\\python38\\site-packages (from imbalanced-learn) (1.2.0)\n",
      "Requirement already satisfied: scikit-learn>=1.0.2 in c:\\users\\007\\appdata\\roaming\\python\\python38\\site-packages (from imbalanced-learn) (1.2.0)\n",
      "Requirement already satisfied: scipy>=1.3.2 in c:\\users\\007\\appdata\\roaming\\python\\python38\\site-packages (from imbalanced-learn) (1.9.3)\n",
      "Installing collected packages: imbalanced-learn\n",
      "Successfully installed imbalanced-learn-0.10.1\n"
     ]
    }
   ],
   "source": [
    "# !pip install imbalanced-learn"
   ]
  },
  {
   "cell_type": "code",
   "execution_count": 72,
   "id": "3e695961-0b1e-4642-8c5a-78d2e50b120b",
   "metadata": {},
   "outputs": [],
   "source": [
    "from imblearn.over_sampling import SMOTE\n",
    "\n",
    "# smote는 upsampling 하기위해서 비율이 안맞아서 데이터 증강기법 (적은 데이터 주변에 값들과의 유사도로 비슷하게 upsampling함 )\n",
    "smote = SMOTE(k_neighbors=5)\n",
    "X_train_o,y_train_o = smote.fit_resample(X_train,y_train)"
   ]
  },
  {
   "cell_type": "code",
   "execution_count": 76,
   "id": "c241883f-10a3-467d-920f-a85cbf3a1361",
   "metadata": {},
   "outputs": [
    {
     "data": {
      "text/plain": [
       "0    227451\n",
       "1    227451\n",
       "Name: Class, dtype: int64"
      ]
     },
     "execution_count": 76,
     "metadata": {},
     "output_type": "execute_result"
    }
   ],
   "source": [
    "y_train_o.value_counts()"
   ]
  },
  {
   "cell_type": "code",
   "execution_count": 77,
   "id": "82e5d9e4-5cb4-408d-b57d-e83c7b7b37c4",
   "metadata": {},
   "outputs": [
    {
     "data": {
      "text/plain": [
       "0    227451\n",
       "1       394\n",
       "Name: Class, dtype: int64"
      ]
     },
     "execution_count": 77,
     "metadata": {},
     "output_type": "execute_result"
    }
   ],
   "source": [
    "y_train.value_counts()"
   ]
  },
  {
   "cell_type": "markdown",
   "id": "a6dbf199-1490-4447-b555-94f182306bd8",
   "metadata": {},
   "source": [
    "### 학습 xgboost"
   ]
  },
  {
   "cell_type": "code",
   "execution_count": 80,
   "id": "1409140b-de6c-45a9-9419-d60caaf5c981",
   "metadata": {},
   "outputs": [
    {
     "name": "stdout",
     "output_type": "stream",
     "text": [
      "Requirement already satisfied: xgboost in c:\\users\\007\\anaconda3\\envs\\flyai\\lib\\site-packages (1.7.2)\n",
      "Requirement already satisfied: numpy in c:\\users\\007\\anaconda3\\envs\\flyai\\lib\\site-packages (from xgboost) (1.21.0)\n",
      "Requirement already satisfied: scipy in c:\\users\\007\\appdata\\roaming\\python\\python38\\site-packages (from xgboost) (1.9.3)\n"
     ]
    }
   ],
   "source": [
    "# !pip install xgboost --user"
   ]
  },
  {
   "cell_type": "code",
   "execution_count": 120,
   "id": "e44646bf-e33d-4de3-ac33-39841b493b2e",
   "metadata": {},
   "outputs": [
    {
     "name": "stdout",
     "output_type": "stream",
     "text": [
      "CPU times: total: 14min 11s\n",
      "Wall time: 1min 47s\n"
     ]
    },
    {
     "data": {
      "text/html": [
       "<style>#sk-container-id-5 {color: black;background-color: white;}#sk-container-id-5 pre{padding: 0;}#sk-container-id-5 div.sk-toggleable {background-color: white;}#sk-container-id-5 label.sk-toggleable__label {cursor: pointer;display: block;width: 100%;margin-bottom: 0;padding: 0.3em;box-sizing: border-box;text-align: center;}#sk-container-id-5 label.sk-toggleable__label-arrow:before {content: \"▸\";float: left;margin-right: 0.25em;color: #696969;}#sk-container-id-5 label.sk-toggleable__label-arrow:hover:before {color: black;}#sk-container-id-5 div.sk-estimator:hover label.sk-toggleable__label-arrow:before {color: black;}#sk-container-id-5 div.sk-toggleable__content {max-height: 0;max-width: 0;overflow: hidden;text-align: left;background-color: #f0f8ff;}#sk-container-id-5 div.sk-toggleable__content pre {margin: 0.2em;color: black;border-radius: 0.25em;background-color: #f0f8ff;}#sk-container-id-5 input.sk-toggleable__control:checked~div.sk-toggleable__content {max-height: 200px;max-width: 100%;overflow: auto;}#sk-container-id-5 input.sk-toggleable__control:checked~label.sk-toggleable__label-arrow:before {content: \"▾\";}#sk-container-id-5 div.sk-estimator input.sk-toggleable__control:checked~label.sk-toggleable__label {background-color: #d4ebff;}#sk-container-id-5 div.sk-label input.sk-toggleable__control:checked~label.sk-toggleable__label {background-color: #d4ebff;}#sk-container-id-5 input.sk-hidden--visually {border: 0;clip: rect(1px 1px 1px 1px);clip: rect(1px, 1px, 1px, 1px);height: 1px;margin: -1px;overflow: hidden;padding: 0;position: absolute;width: 1px;}#sk-container-id-5 div.sk-estimator {font-family: monospace;background-color: #f0f8ff;border: 1px dotted black;border-radius: 0.25em;box-sizing: border-box;margin-bottom: 0.5em;}#sk-container-id-5 div.sk-estimator:hover {background-color: #d4ebff;}#sk-container-id-5 div.sk-parallel-item::after {content: \"\";width: 100%;border-bottom: 1px solid gray;flex-grow: 1;}#sk-container-id-5 div.sk-label:hover label.sk-toggleable__label {background-color: #d4ebff;}#sk-container-id-5 div.sk-serial::before {content: \"\";position: absolute;border-left: 1px solid gray;box-sizing: border-box;top: 0;bottom: 0;left: 50%;z-index: 0;}#sk-container-id-5 div.sk-serial {display: flex;flex-direction: column;align-items: center;background-color: white;padding-right: 0.2em;padding-left: 0.2em;position: relative;}#sk-container-id-5 div.sk-item {position: relative;z-index: 1;}#sk-container-id-5 div.sk-parallel {display: flex;align-items: stretch;justify-content: center;background-color: white;position: relative;}#sk-container-id-5 div.sk-item::before, #sk-container-id-5 div.sk-parallel-item::before {content: \"\";position: absolute;border-left: 1px solid gray;box-sizing: border-box;top: 0;bottom: 0;left: 50%;z-index: -1;}#sk-container-id-5 div.sk-parallel-item {display: flex;flex-direction: column;z-index: 1;position: relative;background-color: white;}#sk-container-id-5 div.sk-parallel-item:first-child::after {align-self: flex-end;width: 50%;}#sk-container-id-5 div.sk-parallel-item:last-child::after {align-self: flex-start;width: 50%;}#sk-container-id-5 div.sk-parallel-item:only-child::after {width: 0;}#sk-container-id-5 div.sk-dashed-wrapped {border: 1px dashed gray;margin: 0 0.4em 0.5em 0.4em;box-sizing: border-box;padding-bottom: 0.4em;background-color: white;}#sk-container-id-5 div.sk-label label {font-family: monospace;font-weight: bold;display: inline-block;line-height: 1.2em;}#sk-container-id-5 div.sk-label-container {text-align: center;}#sk-container-id-5 div.sk-container {/* jupyter's `normalize.less` sets `[hidden] { display: none; }` but bootstrap.min.css set `[hidden] { display: none !important; }` so we also need the `!important` here to be able to override the default hidden behavior on the sphinx rendered scikit-learn.org. See: https://github.com/scikit-learn/scikit-learn/issues/21755 */display: inline-block !important;position: relative;}#sk-container-id-5 div.sk-text-repr-fallback {display: none;}</style><div id=\"sk-container-id-5\" class=\"sk-top-container\"><div class=\"sk-text-repr-fallback\"><pre>XGBClassifier(base_score=0.5, booster=&#x27;gbtree&#x27;, callbacks=None,\n",
       "              colsample_bylevel=1, colsample_bynode=1, colsample_bytree=1,\n",
       "              early_stopping_rounds=None, enable_categorical=False,\n",
       "              eval_metric=None, feature_types=None, gamma=0, gpu_id=-1,\n",
       "              grow_policy=&#x27;depthwise&#x27;, importance_type=None,\n",
       "              interaction_constraints=&#x27;&#x27;, learning_rate=0.1, max_bin=256,\n",
       "              max_cat_threshold=64, max_cat_to_onehot=4, max_delta_step=0,\n",
       "              max_depth=4, max_leaves=0, min_child_weight=1, missing=nan,\n",
       "              monotone_constraints=&#x27;()&#x27;, n_estimators=300, n_jobs=0,\n",
       "              num_parallel_tree=1, predictor=&#x27;auto&#x27;, random_state=2022, ...)</pre><b>In a Jupyter environment, please rerun this cell to show the HTML representation or trust the notebook. <br />On GitHub, the HTML representation is unable to render, please try loading this page with nbviewer.org.</b></div><div class=\"sk-container\" hidden><div class=\"sk-item\"><div class=\"sk-estimator sk-toggleable\"><input class=\"sk-toggleable__control sk-hidden--visually\" id=\"sk-estimator-id-5\" type=\"checkbox\" checked><label for=\"sk-estimator-id-5\" class=\"sk-toggleable__label sk-toggleable__label-arrow\">XGBClassifier</label><div class=\"sk-toggleable__content\"><pre>XGBClassifier(base_score=0.5, booster=&#x27;gbtree&#x27;, callbacks=None,\n",
       "              colsample_bylevel=1, colsample_bynode=1, colsample_bytree=1,\n",
       "              early_stopping_rounds=None, enable_categorical=False,\n",
       "              eval_metric=None, feature_types=None, gamma=0, gpu_id=-1,\n",
       "              grow_policy=&#x27;depthwise&#x27;, importance_type=None,\n",
       "              interaction_constraints=&#x27;&#x27;, learning_rate=0.1, max_bin=256,\n",
       "              max_cat_threshold=64, max_cat_to_onehot=4, max_delta_step=0,\n",
       "              max_depth=4, max_leaves=0, min_child_weight=1, missing=nan,\n",
       "              monotone_constraints=&#x27;()&#x27;, n_estimators=300, n_jobs=0,\n",
       "              num_parallel_tree=1, predictor=&#x27;auto&#x27;, random_state=2022, ...)</pre></div></div></div></div></div>"
      ],
      "text/plain": [
       "XGBClassifier(base_score=0.5, booster='gbtree', callbacks=None,\n",
       "              colsample_bylevel=1, colsample_bynode=1, colsample_bytree=1,\n",
       "              early_stopping_rounds=None, enable_categorical=False,\n",
       "              eval_metric=None, feature_types=None, gamma=0, gpu_id=-1,\n",
       "              grow_policy='depthwise', importance_type=None,\n",
       "              interaction_constraints='', learning_rate=0.1, max_bin=256,\n",
       "              max_cat_threshold=64, max_cat_to_onehot=4, max_delta_step=0,\n",
       "              max_depth=4, max_leaves=0, min_child_weight=1, missing=nan,\n",
       "              monotone_constraints='()', n_estimators=300, n_jobs=0,\n",
       "              num_parallel_tree=1, predictor='auto', random_state=2022, ...)"
      ]
     },
     "execution_count": 120,
     "metadata": {},
     "output_type": "execute_result"
    }
   ],
   "source": [
    "%%time\n",
    "# 시간 측정을위해서\n",
    "from xgboost import XGBClassifier\n",
    "\n",
    "clf = XGBClassifier(n_estimators=300,max_depth=4,\n",
    "                   learning_rate=0.1,random_state=2022)\n",
    "clf.fit(X_train_o,y_train_o)"
   ]
  },
  {
   "cell_type": "code",
   "execution_count": 94,
   "id": "f44dee29-e91b-44bd-9aa1-37c6390a8e05",
   "metadata": {},
   "outputs": [
    {
     "data": {
      "text/html": [
       "<div>\n",
       "<style scoped>\n",
       "    .dataframe tbody tr th:only-of-type {\n",
       "        vertical-align: middle;\n",
       "    }\n",
       "\n",
       "    .dataframe tbody tr th {\n",
       "        vertical-align: top;\n",
       "    }\n",
       "\n",
       "    .dataframe thead th {\n",
       "        text-align: right;\n",
       "    }\n",
       "</style>\n",
       "<table border=\"1\" class=\"dataframe\">\n",
       "  <thead>\n",
       "    <tr style=\"text-align: right;\">\n",
       "      <th></th>\n",
       "      <th>V1</th>\n",
       "      <th>V2</th>\n",
       "      <th>V3</th>\n",
       "      <th>V4</th>\n",
       "      <th>V5</th>\n",
       "      <th>V6</th>\n",
       "      <th>V7</th>\n",
       "      <th>V8</th>\n",
       "      <th>V9</th>\n",
       "      <th>V10</th>\n",
       "      <th>...</th>\n",
       "      <th>V20</th>\n",
       "      <th>V21</th>\n",
       "      <th>V22</th>\n",
       "      <th>V23</th>\n",
       "      <th>V24</th>\n",
       "      <th>V25</th>\n",
       "      <th>V26</th>\n",
       "      <th>V27</th>\n",
       "      <th>V28</th>\n",
       "      <th>Amount</th>\n",
       "    </tr>\n",
       "  </thead>\n",
       "  <tbody>\n",
       "    <tr>\n",
       "      <th>121002</th>\n",
       "      <td>1.157704</td>\n",
       "      <td>-0.020413</td>\n",
       "      <td>0.540405</td>\n",
       "      <td>0.526964</td>\n",
       "      <td>-0.552838</td>\n",
       "      <td>-0.372640</td>\n",
       "      <td>-0.279520</td>\n",
       "      <td>0.205396</td>\n",
       "      <td>0.136519</td>\n",
       "      <td>0.130197</td>\n",
       "      <td>...</td>\n",
       "      <td>-0.276268</td>\n",
       "      <td>-0.192598</td>\n",
       "      <td>-0.679603</td>\n",
       "      <td>0.207854</td>\n",
       "      <td>0.152210</td>\n",
       "      <td>0.004783</td>\n",
       "      <td>0.102326</td>\n",
       "      <td>-0.032086</td>\n",
       "      <td>0.002299</td>\n",
       "      <td>-0.311599</td>\n",
       "    </tr>\n",
       "    <tr>\n",
       "      <th>216521</th>\n",
       "      <td>-0.404421</td>\n",
       "      <td>0.366393</td>\n",
       "      <td>-1.150455</td>\n",
       "      <td>-2.277320</td>\n",
       "      <td>0.586791</td>\n",
       "      <td>1.475169</td>\n",
       "      <td>-0.272959</td>\n",
       "      <td>-0.019309</td>\n",
       "      <td>-1.290670</td>\n",
       "      <td>0.132322</td>\n",
       "      <td>...</td>\n",
       "      <td>-0.451834</td>\n",
       "      <td>0.997096</td>\n",
       "      <td>0.253282</td>\n",
       "      <td>0.138702</td>\n",
       "      <td>-0.976291</td>\n",
       "      <td>-0.306908</td>\n",
       "      <td>-0.228876</td>\n",
       "      <td>-0.160772</td>\n",
       "      <td>-0.111737</td>\n",
       "      <td>-0.301709</td>\n",
       "    </tr>\n",
       "    <tr>\n",
       "      <th>150118</th>\n",
       "      <td>-0.289846</td>\n",
       "      <td>1.152603</td>\n",
       "      <td>0.478215</td>\n",
       "      <td>-0.040639</td>\n",
       "      <td>-0.249299</td>\n",
       "      <td>-0.104353</td>\n",
       "      <td>-0.649508</td>\n",
       "      <td>0.510048</td>\n",
       "      <td>1.977639</td>\n",
       "      <td>-1.395155</td>\n",
       "      <td>...</td>\n",
       "      <td>-0.024020</td>\n",
       "      <td>0.189220</td>\n",
       "      <td>0.869876</td>\n",
       "      <td>0.138094</td>\n",
       "      <td>0.518423</td>\n",
       "      <td>-1.061113</td>\n",
       "      <td>-0.439537</td>\n",
       "      <td>0.200779</td>\n",
       "      <td>0.175796</td>\n",
       "      <td>-0.311523</td>\n",
       "    </tr>\n",
       "    <tr>\n",
       "      <th>203778</th>\n",
       "      <td>-2.030093</td>\n",
       "      <td>0.345846</td>\n",
       "      <td>0.746014</td>\n",
       "      <td>-2.343634</td>\n",
       "      <td>-0.955053</td>\n",
       "      <td>-0.419706</td>\n",
       "      <td>-0.421727</td>\n",
       "      <td>0.864594</td>\n",
       "      <td>-1.053731</td>\n",
       "      <td>-0.422690</td>\n",
       "      <td>...</td>\n",
       "      <td>0.173443</td>\n",
       "      <td>0.000094</td>\n",
       "      <td>-0.260096</td>\n",
       "      <td>-0.341505</td>\n",
       "      <td>-0.657792</td>\n",
       "      <td>0.610696</td>\n",
       "      <td>-0.334069</td>\n",
       "      <td>0.232105</td>\n",
       "      <td>-0.096292</td>\n",
       "      <td>-0.292409</td>\n",
       "    </tr>\n",
       "    <tr>\n",
       "      <th>29682</th>\n",
       "      <td>1.184526</td>\n",
       "      <td>-0.089540</td>\n",
       "      <td>-1.364255</td>\n",
       "      <td>-0.011424</td>\n",
       "      <td>2.198789</td>\n",
       "      <td>3.312844</td>\n",
       "      <td>-0.281292</td>\n",
       "      <td>0.748873</td>\n",
       "      <td>-0.160359</td>\n",
       "      <td>0.046857</td>\n",
       "      <td>...</td>\n",
       "      <td>0.103031</td>\n",
       "      <td>0.010714</td>\n",
       "      <td>-0.207277</td>\n",
       "      <td>-0.187719</td>\n",
       "      <td>1.007072</td>\n",
       "      <td>0.825912</td>\n",
       "      <td>-0.319210</td>\n",
       "      <td>0.005011</td>\n",
       "      <td>0.023955</td>\n",
       "      <td>-0.299453</td>\n",
       "    </tr>\n",
       "    <tr>\n",
       "      <th>...</th>\n",
       "      <td>...</td>\n",
       "      <td>...</td>\n",
       "      <td>...</td>\n",
       "      <td>...</td>\n",
       "      <td>...</td>\n",
       "      <td>...</td>\n",
       "      <td>...</td>\n",
       "      <td>...</td>\n",
       "      <td>...</td>\n",
       "      <td>...</td>\n",
       "      <td>...</td>\n",
       "      <td>...</td>\n",
       "      <td>...</td>\n",
       "      <td>...</td>\n",
       "      <td>...</td>\n",
       "      <td>...</td>\n",
       "      <td>...</td>\n",
       "      <td>...</td>\n",
       "      <td>...</td>\n",
       "      <td>...</td>\n",
       "      <td>...</td>\n",
       "    </tr>\n",
       "    <tr>\n",
       "      <th>277469</th>\n",
       "      <td>-0.773938</td>\n",
       "      <td>1.684254</td>\n",
       "      <td>-1.493845</td>\n",
       "      <td>-0.643244</td>\n",
       "      <td>0.604296</td>\n",
       "      <td>-0.596425</td>\n",
       "      <td>0.322689</td>\n",
       "      <td>0.729164</td>\n",
       "      <td>-0.295081</td>\n",
       "      <td>-1.005077</td>\n",
       "      <td>...</td>\n",
       "      <td>0.005142</td>\n",
       "      <td>-0.318788</td>\n",
       "      <td>-0.917498</td>\n",
       "      <td>0.111312</td>\n",
       "      <td>0.005145</td>\n",
       "      <td>-0.213267</td>\n",
       "      <td>0.155678</td>\n",
       "      <td>0.103442</td>\n",
       "      <td>-0.009161</td>\n",
       "      <td>-0.308465</td>\n",
       "    </tr>\n",
       "    <tr>\n",
       "      <th>120949</th>\n",
       "      <td>-1.883748</td>\n",
       "      <td>1.714312</td>\n",
       "      <td>0.443865</td>\n",
       "      <td>-1.395517</td>\n",
       "      <td>0.125632</td>\n",
       "      <td>1.306742</td>\n",
       "      <td>-0.769184</td>\n",
       "      <td>-2.794748</td>\n",
       "      <td>0.416504</td>\n",
       "      <td>0.551514</td>\n",
       "      <td>...</td>\n",
       "      <td>-0.308327</td>\n",
       "      <td>2.854313</td>\n",
       "      <td>-1.309944</td>\n",
       "      <td>0.316527</td>\n",
       "      <td>-1.365734</td>\n",
       "      <td>-0.013210</td>\n",
       "      <td>1.016587</td>\n",
       "      <td>0.613965</td>\n",
       "      <td>0.241380</td>\n",
       "      <td>-0.306728</td>\n",
       "    </tr>\n",
       "    <tr>\n",
       "      <th>92090</th>\n",
       "      <td>-0.396557</td>\n",
       "      <td>0.937644</td>\n",
       "      <td>1.227198</td>\n",
       "      <td>-0.337199</td>\n",
       "      <td>0.334340</td>\n",
       "      <td>-0.108206</td>\n",
       "      <td>0.555300</td>\n",
       "      <td>0.163111</td>\n",
       "      <td>-0.518462</td>\n",
       "      <td>-0.127601</td>\n",
       "      <td>...</td>\n",
       "      <td>0.101717</td>\n",
       "      <td>-0.236531</td>\n",
       "      <td>-0.677936</td>\n",
       "      <td>-0.128637</td>\n",
       "      <td>-0.530933</td>\n",
       "      <td>-0.131652</td>\n",
       "      <td>0.106795</td>\n",
       "      <td>0.256715</td>\n",
       "      <td>0.101271</td>\n",
       "      <td>-0.311229</td>\n",
       "    </tr>\n",
       "    <tr>\n",
       "      <th>92950</th>\n",
       "      <td>-3.462311</td>\n",
       "      <td>-0.096620</td>\n",
       "      <td>1.020814</td>\n",
       "      <td>-1.823767</td>\n",
       "      <td>-0.448109</td>\n",
       "      <td>1.242731</td>\n",
       "      <td>-0.343334</td>\n",
       "      <td>0.829338</td>\n",
       "      <td>1.593236</td>\n",
       "      <td>-1.390266</td>\n",
       "      <td>...</td>\n",
       "      <td>-1.059902</td>\n",
       "      <td>0.257933</td>\n",
       "      <td>1.220334</td>\n",
       "      <td>-0.237416</td>\n",
       "      <td>-0.889829</td>\n",
       "      <td>0.308296</td>\n",
       "      <td>-0.601925</td>\n",
       "      <td>-1.191032</td>\n",
       "      <td>-0.142231</td>\n",
       "      <td>-0.298772</td>\n",
       "    </tr>\n",
       "    <tr>\n",
       "      <th>97985</th>\n",
       "      <td>-2.696305</td>\n",
       "      <td>-6.184770</td>\n",
       "      <td>-0.575271</td>\n",
       "      <td>4.346267</td>\n",
       "      <td>-2.801744</td>\n",
       "      <td>1.406487</td>\n",
       "      <td>1.760722</td>\n",
       "      <td>-0.113772</td>\n",
       "      <td>0.031225</td>\n",
       "      <td>-0.317242</td>\n",
       "      <td>...</td>\n",
       "      <td>3.771378</td>\n",
       "      <td>1.312993</td>\n",
       "      <td>-0.371991</td>\n",
       "      <td>-1.856861</td>\n",
       "      <td>0.461230</td>\n",
       "      <td>-0.182206</td>\n",
       "      <td>0.011315</td>\n",
       "      <td>-0.321521</td>\n",
       "      <td>0.357660</td>\n",
       "      <td>0.069442</td>\n",
       "    </tr>\n",
       "  </tbody>\n",
       "</table>\n",
       "<p>56962 rows × 29 columns</p>\n",
       "</div>"
      ],
      "text/plain": [
       "              V1        V2        V3        V4        V5        V6        V7  \\\n",
       "121002  1.157704 -0.020413  0.540405  0.526964 -0.552838 -0.372640 -0.279520   \n",
       "216521 -0.404421  0.366393 -1.150455 -2.277320  0.586791  1.475169 -0.272959   \n",
       "150118 -0.289846  1.152603  0.478215 -0.040639 -0.249299 -0.104353 -0.649508   \n",
       "203778 -2.030093  0.345846  0.746014 -2.343634 -0.955053 -0.419706 -0.421727   \n",
       "29682   1.184526 -0.089540 -1.364255 -0.011424  2.198789  3.312844 -0.281292   \n",
       "...          ...       ...       ...       ...       ...       ...       ...   \n",
       "277469 -0.773938  1.684254 -1.493845 -0.643244  0.604296 -0.596425  0.322689   \n",
       "120949 -1.883748  1.714312  0.443865 -1.395517  0.125632  1.306742 -0.769184   \n",
       "92090  -0.396557  0.937644  1.227198 -0.337199  0.334340 -0.108206  0.555300   \n",
       "92950  -3.462311 -0.096620  1.020814 -1.823767 -0.448109  1.242731 -0.343334   \n",
       "97985  -2.696305 -6.184770 -0.575271  4.346267 -2.801744  1.406487  1.760722   \n",
       "\n",
       "              V8        V9       V10  ...       V20       V21       V22  \\\n",
       "121002  0.205396  0.136519  0.130197  ... -0.276268 -0.192598 -0.679603   \n",
       "216521 -0.019309 -1.290670  0.132322  ... -0.451834  0.997096  0.253282   \n",
       "150118  0.510048  1.977639 -1.395155  ... -0.024020  0.189220  0.869876   \n",
       "203778  0.864594 -1.053731 -0.422690  ...  0.173443  0.000094 -0.260096   \n",
       "29682   0.748873 -0.160359  0.046857  ...  0.103031  0.010714 -0.207277   \n",
       "...          ...       ...       ...  ...       ...       ...       ...   \n",
       "277469  0.729164 -0.295081 -1.005077  ...  0.005142 -0.318788 -0.917498   \n",
       "120949 -2.794748  0.416504  0.551514  ... -0.308327  2.854313 -1.309944   \n",
       "92090   0.163111 -0.518462 -0.127601  ...  0.101717 -0.236531 -0.677936   \n",
       "92950   0.829338  1.593236 -1.390266  ... -1.059902  0.257933  1.220334   \n",
       "97985  -0.113772  0.031225 -0.317242  ...  3.771378  1.312993 -0.371991   \n",
       "\n",
       "             V23       V24       V25       V26       V27       V28    Amount  \n",
       "121002  0.207854  0.152210  0.004783  0.102326 -0.032086  0.002299 -0.311599  \n",
       "216521  0.138702 -0.976291 -0.306908 -0.228876 -0.160772 -0.111737 -0.301709  \n",
       "150118  0.138094  0.518423 -1.061113 -0.439537  0.200779  0.175796 -0.311523  \n",
       "203778 -0.341505 -0.657792  0.610696 -0.334069  0.232105 -0.096292 -0.292409  \n",
       "29682  -0.187719  1.007072  0.825912 -0.319210  0.005011  0.023955 -0.299453  \n",
       "...          ...       ...       ...       ...       ...       ...       ...  \n",
       "277469  0.111312  0.005145 -0.213267  0.155678  0.103442 -0.009161 -0.308465  \n",
       "120949  0.316527 -1.365734 -0.013210  1.016587  0.613965  0.241380 -0.306728  \n",
       "92090  -0.128637 -0.530933 -0.131652  0.106795  0.256715  0.101271 -0.311229  \n",
       "92950  -0.237416 -0.889829  0.308296 -0.601925 -1.191032 -0.142231 -0.298772  \n",
       "97985  -1.856861  0.461230 -0.182206  0.011315 -0.321521  0.357660  0.069442  \n",
       "\n",
       "[56962 rows x 29 columns]"
      ]
     },
     "execution_count": 94,
     "metadata": {},
     "output_type": "execute_result"
    }
   ],
   "source": [
    "### 테스트 data scaler\n",
    "amount = scaler.transform(X_test['Amount'].values.reshape(-1,1))\n",
    "X_test['Amount'] = amount\n",
    "X_test"
   ]
  },
  {
   "cell_type": "code",
   "execution_count": 96,
   "id": "382c0545-2830-43f6-8e94-681d59983cf5",
   "metadata": {},
   "outputs": [
    {
     "name": "stdout",
     "output_type": "stream",
     "text": [
      "accuracy: 0.9982619992275552\n",
      "precision: 0.49710982658959535\n",
      "recall: 0.49710982658959535\n"
     ]
    }
   ],
   "source": [
    "y_pred = clf.predict(X_test)\n",
    "my.print_score(y_test,y_pred)"
   ]
  },
  {
   "cell_type": "code",
   "execution_count": 98,
   "id": "55180d0c-174d-4e06-a314-bd5f42f6c43f",
   "metadata": {},
   "outputs": [
    {
     "data": {
      "image/png": "[encoded data removed]",
      "text/plain": [
       "<Figure size 300x300 with 1 Axes>"
      ]
     },
     "metadata": {},
     "output_type": "display_data"
    }
   ],
   "source": [
    "# 정확도는 너무 높은데 precision 이랑 recall이 낮은 이유는 데이터 자체가 0이 엄청많아서 그런것이다. 결국 데이터 부족으로 인한 결과이다.\n",
    "my.plot_confusion_matrix(y_test,y_pred)\n"
   ]
  },
  {
   "cell_type": "markdown",
   "id": "3c74ea66-7033-4e98-bb45-aae3117ea712",
   "metadata": {},
   "source": [
    "### lightGBM"
   ]
  },
  {
   "cell_type": "code",
   "execution_count": 100,
   "id": "f0a2a4df-2ecd-4932-aa1d-ef7a0c61f1c7",
   "metadata": {},
   "outputs": [
    {
     "name": "stdout",
     "output_type": "stream",
     "text": [
      "Collecting lightgbm\n",
      "  Downloading lightgbm-3.3.3-py3-none-win_amd64.whl (1.0 MB)\n",
      "     ---------------------------------------- 1.0/1.0 MB 10.8 MB/s eta 0:00:00\n",
      "Requirement already satisfied: scikit-learn!=0.22.0 in c:\\users\\007\\appdata\\roaming\\python\\python38\\site-packages (from lightgbm) (1.2.0)\n",
      "Requirement already satisfied: numpy in c:\\users\\007\\anaconda3\\envs\\flyai\\lib\\site-packages (from lightgbm) (1.21.0)\n",
      "Requirement already satisfied: wheel in c:\\users\\007\\anaconda3\\envs\\flyai\\lib\\site-packages (from lightgbm) (0.37.1)\n",
      "Requirement already satisfied: scipy in c:\\users\\007\\appdata\\roaming\\python\\python38\\site-packages (from lightgbm) (1.9.3)\n",
      "Requirement already satisfied: threadpoolctl>=2.0.0 in c:\\users\\007\\appdata\\roaming\\python\\python38\\site-packages (from scikit-learn!=0.22.0->lightgbm) (3.1.0)\n",
      "Requirement already satisfied: joblib>=1.1.1 in c:\\users\\007\\appdata\\roaming\\python\\python38\\site-packages (from scikit-learn!=0.22.0->lightgbm) (1.2.0)\n",
      "Installing collected packages: lightgbm\n",
      "Successfully installed lightgbm-3.3.3\n"
     ]
    }
   ],
   "source": [
    "# !pip install lightgbm --user"
   ]
  },
  {
   "cell_type": "code",
   "execution_count": 103,
   "id": "0efd4911-dd05-49a0-9d74-577a02972ad2",
   "metadata": {},
   "outputs": [
    {
     "data": {
      "text/html": [
       "<style>#sk-container-id-2 {color: black;background-color: white;}#sk-container-id-2 pre{padding: 0;}#sk-container-id-2 div.sk-toggleable {background-color: white;}#sk-container-id-2 label.sk-toggleable__label {cursor: pointer;display: block;width: 100%;margin-bottom: 0;padding: 0.3em;box-sizing: border-box;text-align: center;}#sk-container-id-2 label.sk-toggleable__label-arrow:before {content: \"▸\";float: left;margin-right: 0.25em;color: #696969;}#sk-container-id-2 label.sk-toggleable__label-arrow:hover:before {color: black;}#sk-container-id-2 div.sk-estimator:hover label.sk-toggleable__label-arrow:before {color: black;}#sk-container-id-2 div.sk-toggleable__content {max-height: 0;max-width: 0;overflow: hidden;text-align: left;background-color: #f0f8ff;}#sk-container-id-2 div.sk-toggleable__content pre {margin: 0.2em;color: black;border-radius: 0.25em;background-color: #f0f8ff;}#sk-container-id-2 input.sk-toggleable__control:checked~div.sk-toggleable__content {max-height: 200px;max-width: 100%;overflow: auto;}#sk-container-id-2 input.sk-toggleable__control:checked~label.sk-toggleable__label-arrow:before {content: \"▾\";}#sk-container-id-2 div.sk-estimator input.sk-toggleable__control:checked~label.sk-toggleable__label {background-color: #d4ebff;}#sk-container-id-2 div.sk-label input.sk-toggleable__control:checked~label.sk-toggleable__label {background-color: #d4ebff;}#sk-container-id-2 input.sk-hidden--visually {border: 0;clip: rect(1px 1px 1px 1px);clip: rect(1px, 1px, 1px, 1px);height: 1px;margin: -1px;overflow: hidden;padding: 0;position: absolute;width: 1px;}#sk-container-id-2 div.sk-estimator {font-family: monospace;background-color: #f0f8ff;border: 1px dotted black;border-radius: 0.25em;box-sizing: border-box;margin-bottom: 0.5em;}#sk-container-id-2 div.sk-estimator:hover {background-color: #d4ebff;}#sk-container-id-2 div.sk-parallel-item::after {content: \"\";width: 100%;border-bottom: 1px solid gray;flex-grow: 1;}#sk-container-id-2 div.sk-label:hover label.sk-toggleable__label {background-color: #d4ebff;}#sk-container-id-2 div.sk-serial::before {content: \"\";position: absolute;border-left: 1px solid gray;box-sizing: border-box;top: 0;bottom: 0;left: 50%;z-index: 0;}#sk-container-id-2 div.sk-serial {display: flex;flex-direction: column;align-items: center;background-color: white;padding-right: 0.2em;padding-left: 0.2em;position: relative;}#sk-container-id-2 div.sk-item {position: relative;z-index: 1;}#sk-container-id-2 div.sk-parallel {display: flex;align-items: stretch;justify-content: center;background-color: white;position: relative;}#sk-container-id-2 div.sk-item::before, #sk-container-id-2 div.sk-parallel-item::before {content: \"\";position: absolute;border-left: 1px solid gray;box-sizing: border-box;top: 0;bottom: 0;left: 50%;z-index: -1;}#sk-container-id-2 div.sk-parallel-item {display: flex;flex-direction: column;z-index: 1;position: relative;background-color: white;}#sk-container-id-2 div.sk-parallel-item:first-child::after {align-self: flex-end;width: 50%;}#sk-container-id-2 div.sk-parallel-item:last-child::after {align-self: flex-start;width: 50%;}#sk-container-id-2 div.sk-parallel-item:only-child::after {width: 0;}#sk-container-id-2 div.sk-dashed-wrapped {border: 1px dashed gray;margin: 0 0.4em 0.5em 0.4em;box-sizing: border-box;padding-bottom: 0.4em;background-color: white;}#sk-container-id-2 div.sk-label label {font-family: monospace;font-weight: bold;display: inline-block;line-height: 1.2em;}#sk-container-id-2 div.sk-label-container {text-align: center;}#sk-container-id-2 div.sk-container {/* jupyter's `normalize.less` sets `[hidden] { display: none; }` but bootstrap.min.css set `[hidden] { display: none !important; }` so we also need the `!important` here to be able to override the default hidden behavior on the sphinx rendered scikit-learn.org. See: https://github.com/scikit-learn/scikit-learn/issues/21755 */display: inline-block !important;position: relative;}#sk-container-id-2 div.sk-text-repr-fallback {display: none;}</style><div id=\"sk-container-id-2\" class=\"sk-top-container\"><div class=\"sk-text-repr-fallback\"><pre>LGBMClassifier(max_depth=4, random_state=2022)</pre><b>In a Jupyter environment, please rerun this cell to show the HTML representation or trust the notebook. <br />On GitHub, the HTML representation is unable to render, please try loading this page with nbviewer.org.</b></div><div class=\"sk-container\" hidden><div class=\"sk-item\"><div class=\"sk-estimator sk-toggleable\"><input class=\"sk-toggleable__control sk-hidden--visually\" id=\"sk-estimator-id-2\" type=\"checkbox\" checked><label for=\"sk-estimator-id-2\" class=\"sk-toggleable__label sk-toggleable__label-arrow\">LGBMClassifier</label><div class=\"sk-toggleable__content\"><pre>LGBMClassifier(max_depth=4, random_state=2022)</pre></div></div></div></div></div>"
      ],
      "text/plain": [
       "LGBMClassifier(max_depth=4, random_state=2022)"
      ]
     },
     "execution_count": 103,
     "metadata": {},
     "output_type": "execute_result"
    }
   ],
   "source": [
    "from lightgbm import LGBMClassifier\n",
    "\n",
    "clf = LGBMClassifier(learning_rate=0.1,\n",
    "                    n_estimators=100,\n",
    "                    max_depth=4,\n",
    "                    random_state=2022)\n",
    "clf.fit(X_train_o,y_train_o)"
   ]
  },
  {
   "cell_type": "code",
   "execution_count": 105,
   "id": "55ae4837-542d-4633-983b-75248be6f43c",
   "metadata": {},
   "outputs": [
    {
     "data": {
      "text/plain": [
       "0.991871774165233"
      ]
     },
     "execution_count": 105,
     "metadata": {},
     "output_type": "execute_result"
    }
   ],
   "source": [
    "clf.score(X_test,y_test)"
   ]
  },
  {
   "cell_type": "code",
   "execution_count": 106,
   "id": "115b7999-50af-41af-a497-6ce457367759",
   "metadata": {},
   "outputs": [],
   "source": [
    "y_pred = clf.predict(X_test)"
   ]
  },
  {
   "cell_type": "code",
   "execution_count": 107,
   "id": "6b53dbd7-80ad-474c-824a-6e5a5d3b48ca",
   "metadata": {},
   "outputs": [
    {
     "name": "stdout",
     "output_type": "stream",
     "text": [
      "accuracy: 0.991871774165233\n",
      "precision: 0.8877551020408163\n",
      "recall: 0.8877551020408163\n"
     ]
    }
   ],
   "source": [
    "my.print_score(y_pred,y_test)"
   ]
  },
  {
   "cell_type": "code",
   "execution_count": 108,
   "id": "f0c04596-7b93-4de0-a42e-7e31ca3c0696",
   "metadata": {},
   "outputs": [
    {
     "data": {
      "image/png": "[encoded data removed]",
      "text/plain": [
       "<Figure size 300x300 with 1 Axes>"
      ]
     },
     "metadata": {},
     "output_type": "display_data"
    }
   ],
   "source": [
    "my.plot_confusion_matrix(y_pred,y_test)"
   ]
  },
  {
   "cell_type": "markdown",
   "id": "36c8c85d-d5af-454f-90af-dc77c972c144",
   "metadata": {},
   "source": [
    "### 랜덤 포레스트"
   ]
  },
  {
   "cell_type": "code",
   "execution_count": 113,
   "id": "5608e7d6-4f26-4ad5-b923-258a33f3c26a",
   "metadata": {},
   "outputs": [
    {
     "data": {
      "text/html": [
       "<style>#sk-container-id-4 {color: black;background-color: white;}#sk-container-id-4 pre{padding: 0;}#sk-container-id-4 div.sk-toggleable {background-color: white;}#sk-container-id-4 label.sk-toggleable__label {cursor: pointer;display: block;width: 100%;margin-bottom: 0;padding: 0.3em;box-sizing: border-box;text-align: center;}#sk-container-id-4 label.sk-toggleable__label-arrow:before {content: \"▸\";float: left;margin-right: 0.25em;color: #696969;}#sk-container-id-4 label.sk-toggleable__label-arrow:hover:before {color: black;}#sk-container-id-4 div.sk-estimator:hover label.sk-toggleable__label-arrow:before {color: black;}#sk-container-id-4 div.sk-toggleable__content {max-height: 0;max-width: 0;overflow: hidden;text-align: left;background-color: #f0f8ff;}#sk-container-id-4 div.sk-toggleable__content pre {margin: 0.2em;color: black;border-radius: 0.25em;background-color: #f0f8ff;}#sk-container-id-4 input.sk-toggleable__control:checked~div.sk-toggleable__content {max-height: 200px;max-width: 100%;overflow: auto;}#sk-container-id-4 input.sk-toggleable__control:checked~label.sk-toggleable__label-arrow:before {content: \"▾\";}#sk-container-id-4 div.sk-estimator input.sk-toggleable__control:checked~label.sk-toggleable__label {background-color: #d4ebff;}#sk-container-id-4 div.sk-label input.sk-toggleable__control:checked~label.sk-toggleable__label {background-color: #d4ebff;}#sk-container-id-4 input.sk-hidden--visually {border: 0;clip: rect(1px 1px 1px 1px);clip: rect(1px, 1px, 1px, 1px);height: 1px;margin: -1px;overflow: hidden;padding: 0;position: absolute;width: 1px;}#sk-container-id-4 div.sk-estimator {font-family: monospace;background-color: #f0f8ff;border: 1px dotted black;border-radius: 0.25em;box-sizing: border-box;margin-bottom: 0.5em;}#sk-container-id-4 div.sk-estimator:hover {background-color: #d4ebff;}#sk-container-id-4 div.sk-parallel-item::after {content: \"\";width: 100%;border-bottom: 1px solid gray;flex-grow: 1;}#sk-container-id-4 div.sk-label:hover label.sk-toggleable__label {background-color: #d4ebff;}#sk-container-id-4 div.sk-serial::before {content: \"\";position: absolute;border-left: 1px solid gray;box-sizing: border-box;top: 0;bottom: 0;left: 50%;z-index: 0;}#sk-container-id-4 div.sk-serial {display: flex;flex-direction: column;align-items: center;background-color: white;padding-right: 0.2em;padding-left: 0.2em;position: relative;}#sk-container-id-4 div.sk-item {position: relative;z-index: 1;}#sk-container-id-4 div.sk-parallel {display: flex;align-items: stretch;justify-content: center;background-color: white;position: relative;}#sk-container-id-4 div.sk-item::before, #sk-container-id-4 div.sk-parallel-item::before {content: \"\";position: absolute;border-left: 1px solid gray;box-sizing: border-box;top: 0;bottom: 0;left: 50%;z-index: -1;}#sk-container-id-4 div.sk-parallel-item {display: flex;flex-direction: column;z-index: 1;position: relative;background-color: white;}#sk-container-id-4 div.sk-parallel-item:first-child::after {align-self: flex-end;width: 50%;}#sk-container-id-4 div.sk-parallel-item:last-child::after {align-self: flex-start;width: 50%;}#sk-container-id-4 div.sk-parallel-item:only-child::after {width: 0;}#sk-container-id-4 div.sk-dashed-wrapped {border: 1px dashed gray;margin: 0 0.4em 0.5em 0.4em;box-sizing: border-box;padding-bottom: 0.4em;background-color: white;}#sk-container-id-4 div.sk-label label {font-family: monospace;font-weight: bold;display: inline-block;line-height: 1.2em;}#sk-container-id-4 div.sk-label-container {text-align: center;}#sk-container-id-4 div.sk-container {/* jupyter's `normalize.less` sets `[hidden] { display: none; }` but bootstrap.min.css set `[hidden] { display: none !important; }` so we also need the `!important` here to be able to override the default hidden behavior on the sphinx rendered scikit-learn.org. See: https://github.com/scikit-learn/scikit-learn/issues/21755 */display: inline-block !important;position: relative;}#sk-container-id-4 div.sk-text-repr-fallback {display: none;}</style><div id=\"sk-container-id-4\" class=\"sk-top-container\"><div class=\"sk-text-repr-fallback\"><pre>RandomForestClassifier(max_depth=4, random_state=2022)</pre><b>In a Jupyter environment, please rerun this cell to show the HTML representation or trust the notebook. <br />On GitHub, the HTML representation is unable to render, please try loading this page with nbviewer.org.</b></div><div class=\"sk-container\" hidden><div class=\"sk-item\"><div class=\"sk-estimator sk-toggleable\"><input class=\"sk-toggleable__control sk-hidden--visually\" id=\"sk-estimator-id-4\" type=\"checkbox\" checked><label for=\"sk-estimator-id-4\" class=\"sk-toggleable__label sk-toggleable__label-arrow\">RandomForestClassifier</label><div class=\"sk-toggleable__content\"><pre>RandomForestClassifier(max_depth=4, random_state=2022)</pre></div></div></div></div></div>"
      ],
      "text/plain": [
       "RandomForestClassifier(max_depth=4, random_state=2022)"
      ]
     },
     "execution_count": 113,
     "metadata": {},
     "output_type": "execute_result"
    }
   ],
   "source": [
    "from sklearn.ensemble import RandomForestClassifier\n",
    "\n",
    "clf = RandomForestClassifier(random_state=2022,\n",
    "                            n_estimators=100,\n",
    "                            max_depth=4)\n",
    "clf.fit(X_train_o,y_train_o)"
   ]
  },
  {
   "cell_type": "code",
   "execution_count": 112,
   "id": "1703a132-3b6f-4472-ac18-a367d6c147b0",
   "metadata": {},
   "outputs": [
    {
     "name": "stdout",
     "output_type": "stream",
     "text": [
      "accuracy: 0.9993328885923949\n",
      "precision: 0.6530612244897959\n",
      "recall: 0.6530612244897959\n"
     ]
    }
   ],
   "source": [
    "# not upsampling X_trian 으로만 한것\n",
    "y_pred = clf.predict(X_test)\n",
    "my.print_score(y_pred,y_test)"
   ]
  },
  {
   "cell_type": "code",
   "execution_count": 114,
   "id": "e9659b25-3839-4114-b13a-9dce4ffbd2b3",
   "metadata": {},
   "outputs": [
    {
     "name": "stdout",
     "output_type": "stream",
     "text": [
      "accuracy: 0.9946806643025174\n",
      "precision: 0.8877551020408163\n",
      "recall: 0.8877551020408163\n"
     ]
    }
   ],
   "source": [
    "# upsampling 정확도\n",
    "y_pred = clf.predict(X_test)\n",
    "my.print_score(y_pred,y_test)"
   ]
  },
  {
   "cell_type": "code",
   "execution_count": 119,
   "id": "01d17a0f-3d1c-4226-b668-26aff0bd4454",
   "metadata": {},
   "outputs": [
    {
     "name": "stdout",
     "output_type": "stream",
     "text": [
      "1\n",
      "CPU times: total: 0 ns\n",
      "Wall time: 0 ns\n"
     ]
    }
   ],
   "source": [
    "%%time\n",
    "print(1)"
   ]
  },
  {
   "cell_type": "code",
   "execution_count": null,
   "id": "d9b83925-284e-43a8-95e9-402e4767f64d",
   "metadata": {},
   "outputs": [],
   "source": []
  }
 ],
 "metadata": {
  "kernelspec": {
   "display_name": "flyai",
   "language": "python",
   "name": "flyai"
  },
  "language_info": {
   "codemirror_mode": {
    "name": "ipython",
    "version": 3
   },
   "file_extension": ".py",
   "mimetype": "text/x-python",
   "name": "python",
   "nbconvert_exporter": "python",
   "pygments_lexer": "ipython3",
   "version": "3.8.0"
  }
 },
 "nbformat": 4,
 "nbformat_minor": 5
}
