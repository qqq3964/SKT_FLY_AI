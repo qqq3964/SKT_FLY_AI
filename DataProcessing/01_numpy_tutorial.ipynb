{
 "cells": [
  {
   "cell_type": "markdown",
   "id": "3e6a7476-6aa8-471a-a20c-21bb32816a99",
   "metadata": {},
   "source": [
    "## 01_numpy_tutorial"
   ]
  },
  {
   "cell_type": "markdown",
   "id": "0c3ecbc3-0bce-43d8-b837-196508db355e",
   "metadata": {},
   "source": [
    "# 넘파이\n",
    "---"
   ]
  },
  {
   "cell_type": "markdown",
   "id": "c6816275-fb28-43c8-95ff-d726da9ab41d",
   "metadata": {},
   "source": [
    "### Numpy\n",
    "[NumPy](https://numpy.org/)\n",
    "- 다차원 배열을 다룬다.\n",
    "- 차원: 몇 개의 축이 필요한가, 가로의 개수\n",
    "- **ndarray 객체**\n",
    "- 넘파이는 메모리를 효율적으로 쓰기 위해서 하나의 타입만 들어갈 수 있음\n",
    "    - cf) 리스트에는 여러가지 데이터 타입이 들어갈 수 있음(숫자, 문자 등)\n"
   ]
  },
  {
   "cell_type": "code",
   "execution_count": 5,
   "id": "fbfe6dc9",
   "metadata": {},
   "outputs": [
    {
     "data": {
      "text/plain": [
       "'1.21.0'"
      ]
     },
     "execution_count": 5,
     "metadata": {},
     "output_type": "execute_result"
    }
   ],
   "source": [
    "import numpy as np\n",
    "\n",
    "np.__version__ # 버전 확인"
   ]
  },
  {
   "cell_type": "code",
   "execution_count": 6,
   "id": "890e2846-46c6-400c-838e-573e9d0fcd0c",
   "metadata": {},
   "outputs": [
    {
     "name": "stdout",
     "output_type": "stream",
     "text": [
      "<class 'numpy.ndarray'>\n"
     ]
    }
   ],
   "source": [
    "john = [10, 8, 6, 7]\n",
    "x = np.array(john)\n",
    "\n",
    "print(type(x)) # 객체의 타입, 그 객체에 맞는 함수를 사용할 수 있음"
   ]
  },
  {
   "cell_type": "code",
   "execution_count": 12,
   "id": "47945520-c6dc-43c9-bfcc-732e19e1fc85",
   "metadata": {},
   "outputs": [
    {
     "data": {
      "text/plain": [
       "numpy.ndarray"
      ]
     },
     "execution_count": 12,
     "metadata": {},
     "output_type": "execute_result"
    }
   ],
   "source": [
    "john = [10, 8, 6, 7]\n",
    "x = np.array(john)\n",
    "\n",
    "# print(x)\n",
    "type(x)"
   ]
  },
  {
   "cell_type": "code",
   "execution_count": 7,
   "id": "6415e425-6bbd-4ec1-bdc6-e34c722f69aa",
   "metadata": {},
   "outputs": [
    {
     "data": {
      "text/plain": [
       "array([10,  8,  6,  7])"
      ]
     },
     "execution_count": 7,
     "metadata": {},
     "output_type": "execute_result"
    }
   ],
   "source": [
    "# 네모 박스: commend cell\n",
    "# 제일 마지막 라인의 출력만 나옴\n",
    "x"
   ]
  },
  {
   "cell_type": "code",
   "execution_count": 8,
   "id": "c3ba2cf8-b7f8-4be8-b705-64e46bfbfb96",
   "metadata": {},
   "outputs": [
    {
     "name": "stdout",
     "output_type": "stream",
     "text": [
      "[10  8  6  7]\n"
     ]
    }
   ],
   "source": [
    "print(x) # ndarray type인지 list인지 헷갈린다."
   ]
  },
  {
   "cell_type": "code",
   "execution_count": 10,
   "id": "a6654c9d-92c3-4d54-99a3-0bb27dfcc8f8",
   "metadata": {},
   "outputs": [
    {
     "data": {
      "text/plain": [
       "[10, 8, 6, 7]"
      ]
     },
     "execution_count": 10,
     "metadata": {},
     "output_type": "execute_result"
    }
   ],
   "source": [
    "john"
   ]
  },
  {
   "cell_type": "code",
   "execution_count": 16,
   "id": "2299f888-e60f-47c8-afec-6c616c93e4d0",
   "metadata": {},
   "outputs": [
    {
     "name": "stdout",
     "output_type": "stream",
     "text": [
      "[11, 9, 7, 8]\n"
     ]
    }
   ],
   "source": [
    "john = [10, 8, 6, 7]\n",
    "x = []\n",
    "\n",
    "for c in john:\n",
    "    x.append(c+1)\n",
    "\n",
    "print(x)"
   ]
  },
  {
   "cell_type": "code",
   "execution_count": 18,
   "id": "3ddbdb3b-b46b-4dde-a490-3a2ef7e088e6",
   "metadata": {},
   "outputs": [
    {
     "data": {
      "text/plain": [
       "[11, 9, 7, 8]"
      ]
     },
     "execution_count": 18,
     "metadata": {},
     "output_type": "execute_result"
    }
   ],
   "source": [
    "# 리스트 내포(전처리할 때 자주 사용됨)\n",
    "x = [c+1 for c in john]\n",
    "x"
   ]
  },
  {
   "cell_type": "code",
   "execution_count": 19,
   "id": "26e882b6-a7f7-4166-abc6-e2830b0d7552",
   "metadata": {},
   "outputs": [
    {
     "data": {
      "text/plain": [
       "array([10,  8,  6,  7])"
      ]
     },
     "execution_count": 19,
     "metadata": {},
     "output_type": "execute_result"
    }
   ],
   "source": [
    "john = np.array(john)\n",
    "john"
   ]
  },
  {
   "cell_type": "code",
   "execution_count": 20,
   "id": "4d6f3e34-510e-40fb-aab6-a9998c555359",
   "metadata": {},
   "outputs": [
    {
     "data": {
      "text/plain": [
       "array([11,  9,  7,  8])"
      ]
     },
     "execution_count": 20,
     "metadata": {},
     "output_type": "execute_result"
    }
   ],
   "source": [
    "# numpy의 broadcasting 기능\n",
    "john + 1"
   ]
  },
  {
   "cell_type": "code",
   "execution_count": null,
   "id": "7d6c93c8-8af8-4a2f-8dfb-da811a9d201c",
   "metadata": {},
   "outputs": [],
   "source": [
    "# 데이터의 양이 많으면, python의 list보다 numpy 배열이 훨씬 빠르다"
   ]
  },
  {
   "cell_type": "markdown",
   "id": "83ac4dc7-2f50-401c-a91e-a1ab51aa6fd8",
   "metadata": {},
   "source": [
    "- [markdown 문법](https://gist.github.com/ihoneymon/652be052a0727ad59601)"
   ]
  },
  {
   "cell_type": "markdown",
   "id": "b8f27808-97ab-462a-9500-546935f2d263",
   "metadata": {},
   "source": [
    "### 다차원 배열"
   ]
  },
  {
   "cell_type": "code",
   "execution_count": null,
   "id": "351cc65a-b4c2-464a-a356-b3cddd483eae",
   "metadata": {},
   "outputs": [],
   "source": [
    "# 데이터를 다룰 때, 차원을 알아야 함\n",
    "# 4차원: 컬러 이미지(3차원)가 여러 개 있는 타입"
   ]
  },
  {
   "cell_type": "code",
   "execution_count": 22,
   "id": "020a1f48-e972-43bd-8c6e-36e7e81e5764",
   "metadata": {},
   "outputs": [
    {
     "data": {
      "text/plain": [
       "array([[1, 2, 3, 4],\n",
       "       [5, 6, 7, 8]])"
      ]
     },
     "execution_count": 22,
     "metadata": {},
     "output_type": "execute_result"
    }
   ],
   "source": [
    "scores = [[1, 2, 3, 4],\n",
    "         [5, 6, 7, 8]] #  2차원 배열\n",
    "X = np.array(scores)\n",
    "X"
   ]
  },
  {
   "cell_type": "code",
   "execution_count": 23,
   "id": "cb4fce79-4203-40ca-96c4-155989951269",
   "metadata": {},
   "outputs": [
    {
     "data": {
      "text/plain": [
       "(2, 4)"
      ]
     },
     "execution_count": 23,
     "metadata": {},
     "output_type": "execute_result"
    }
   ],
   "source": [
    "X.shape # 모델에 입력하기 전에 데이터의 모양을 맞추기 위해.."
   ]
  },
  {
   "cell_type": "code",
   "execution_count": 24,
   "id": "09a78eb3-7e64-42cf-9109-f8d800cdeaa3",
   "metadata": {},
   "outputs": [
    {
     "data": {
      "text/plain": [
       "dtype('int32')"
      ]
     },
     "execution_count": 24,
     "metadata": {},
     "output_type": "execute_result"
    }
   ],
   "source": [
    "X.dtype"
   ]
  },
  {
   "cell_type": "code",
   "execution_count": null,
   "id": "a8c978a5-a24d-431d-9482-15b9567ce5af",
   "metadata": {},
   "outputs": [],
   "source": [
    "# 여러 개의 데이터를 넘겨주고 싶을 때, 리스트나 튜플로\n",
    "# 딥러닝의 경우, 튜플로"
   ]
  },
  {
   "cell_type": "code",
   "execution_count": 26,
   "id": "c16d8c55-208e-47b7-a949-99f4760f03d2",
   "metadata": {},
   "outputs": [
    {
     "data": {
      "text/plain": [
       "(4,)"
      ]
     },
     "execution_count": 26,
     "metadata": {},
     "output_type": "execute_result"
    }
   ],
   "source": [
    "y = np.array([1., 2., 3., 4.])\n",
    "y.shape # 1차원 배열"
   ]
  },
  {
   "cell_type": "code",
   "execution_count": 28,
   "id": "8a95157d-2d1f-4081-91cf-0b1ca94d7acd",
   "metadata": {},
   "outputs": [
    {
     "data": {
      "text/plain": [
       "list"
      ]
     },
     "execution_count": 28,
     "metadata": {},
     "output_type": "execute_result"
    }
   ],
   "source": [
    "x = []\n",
    "type(x)"
   ]
  },
  {
   "cell_type": "code",
   "execution_count": 29,
   "id": "6654c550-172e-4b98-a378-9278a0ba8034",
   "metadata": {},
   "outputs": [
    {
     "data": {
      "text/plain": [
       "tuple"
      ]
     },
     "execution_count": 29,
     "metadata": {},
     "output_type": "execute_result"
    }
   ],
   "source": [
    "x = ()\n",
    "type(x)"
   ]
  },
  {
   "cell_type": "code",
   "execution_count": 31,
   "id": "f4a09856-b1eb-49e8-8bca-c2828848fc86",
   "metadata": {},
   "outputs": [
    {
     "data": {
      "text/plain": [
       "int"
      ]
     },
     "execution_count": 31,
     "metadata": {},
     "output_type": "execute_result"
    }
   ],
   "source": [
    "x = (4)\n",
    "type(x)"
   ]
  },
  {
   "cell_type": "code",
   "execution_count": 32,
   "id": "9f3e47aa-c1e2-4e9b-a7f6-72e0bc4fc5a3",
   "metadata": {},
   "outputs": [
    {
     "data": {
      "text/plain": [
       "tuple"
      ]
     },
     "execution_count": 32,
     "metadata": {},
     "output_type": "execute_result"
    }
   ],
   "source": [
    "x = (4,)\n",
    "type(x)"
   ]
  },
  {
   "cell_type": "code",
   "execution_count": 27,
   "id": "4c851372-f690-4cdb-8365-bab5d504a4c2",
   "metadata": {},
   "outputs": [
    {
     "data": {
      "text/plain": [
       "(tuple, int)"
      ]
     },
     "execution_count": 27,
     "metadata": {},
     "output_type": "execute_result"
    }
   ],
   "source": [
    "type((4,)), type((4))"
   ]
  },
  {
   "cell_type": "code",
   "execution_count": 33,
   "id": "0e4bf559-73b6-4ef4-ae1e-0e68bf92cbab",
   "metadata": {},
   "outputs": [
    {
     "data": {
      "text/plain": [
       "dtype('float64')"
      ]
     },
     "execution_count": 33,
     "metadata": {},
     "output_type": "execute_result"
    }
   ],
   "source": [
    "y.dtype"
   ]
  },
  {
   "cell_type": "code",
   "execution_count": null,
   "id": "3cf1e273-266e-49da-a5c8-557afdf69fb2",
   "metadata": {},
   "outputs": [],
   "source": [
    "#### 함수 연산과 축(axis)\n",
    "# 1D array: 1차원 array는 axis 0\n",
    "# 2D array: 2차원 array는 axis 0, axis 1 => 더하는 방법(3가지): 1. 다 더하는 방법, 2. axis=0, 3. axis=1\n",
    "# 3D array: 3차원 array는 axis 0, axis 1, axis 2"
   ]
  },
  {
   "cell_type": "code",
   "execution_count": 38,
   "id": "9ec296a0-b991-4d50-9c68-82ed359ac0a2",
   "metadata": {},
   "outputs": [
    {
     "data": {
      "text/plain": [
       "36"
      ]
     },
     "execution_count": 38,
     "metadata": {},
     "output_type": "execute_result"
    }
   ],
   "source": [
    "np.sum(scores)"
   ]
  },
  {
   "cell_type": "code",
   "execution_count": 36,
   "id": "9d6a4680-d3d9-44a0-acb4-a4a9b0b4e5d2",
   "metadata": {},
   "outputs": [
    {
     "data": {
      "text/plain": [
       "array([ 6,  8, 10, 12])"
      ]
     },
     "execution_count": 36,
     "metadata": {},
     "output_type": "execute_result"
    }
   ],
   "source": [
    "np.sum(scores, axis=0)"
   ]
  },
  {
   "cell_type": "code",
   "execution_count": 37,
   "id": "1c1b1b3d-c9d8-4c03-b8b3-efa201c7f722",
   "metadata": {},
   "outputs": [
    {
     "data": {
      "text/plain": [
       "array([10, 26])"
      ]
     },
     "execution_count": 37,
     "metadata": {},
     "output_type": "execute_result"
    }
   ],
   "source": [
    "np.sum(scores, axis=1)"
   ]
  },
  {
   "cell_type": "markdown",
   "id": "16493fe2-be58-44c9-80e6-e7b6ac3deb8a",
   "metadata": {},
   "source": [
    "### 1차원"
   ]
  },
  {
   "cell_type": "code",
   "execution_count": 58,
   "id": "3072e75d-13ca-41cc-8690-5c77b0999cfc",
   "metadata": {},
   "outputs": [
    {
     "data": {
      "text/plain": [
       "[1, 2, 3, 4, 5, 6, 7, 8, 9]"
      ]
     },
     "execution_count": 58,
     "metadata": {},
     "output_type": "execute_result"
    }
   ],
   "source": [
    "list(range(1, 10))"
   ]
  },
  {
   "cell_type": "code",
   "execution_count": 59,
   "id": "06137567-afe3-40ab-93b0-56fdcf93185e",
   "metadata": {},
   "outputs": [
    {
     "data": {
      "text/plain": [
       "array([0, 1, 2, 3, 4, 5, 6, 7, 8])"
      ]
     },
     "execution_count": 59,
     "metadata": {},
     "output_type": "execute_result"
    }
   ],
   "source": [
    "X = np.arange(0, 9)\n",
    "X"
   ]
  },
  {
   "cell_type": "code",
   "execution_count": 60,
   "id": "a182d0ed-7801-49b5-8787-c56c1e5ce229",
   "metadata": {},
   "outputs": [
    {
     "data": {
      "text/plain": [
       "(9,)"
      ]
     },
     "execution_count": 60,
     "metadata": {},
     "output_type": "execute_result"
    }
   ],
   "source": [
    "X.shape # 1차원 데이터"
   ]
  },
  {
   "cell_type": "code",
   "execution_count": 61,
   "id": "9b015a20-b788-4050-825c-97abc76d0b3a",
   "metadata": {},
   "outputs": [
    {
     "data": {
      "text/plain": [
       "(3, 3)"
      ]
     },
     "execution_count": 61,
     "metadata": {},
     "output_type": "execute_result"
    }
   ],
   "source": [
    "y = X.reshape((3, 3)) # ndarray이므로 점(.)을 찍을 수 있다.\n",
    "y.shape"
   ]
  },
  {
   "cell_type": "code",
   "execution_count": 62,
   "id": "22d16825-e72d-4a18-8560-2096b53e69b9",
   "metadata": {},
   "outputs": [
    {
     "data": {
      "text/plain": [
       "array([[0, 1, 2],\n",
       "       [3, 4, 5],\n",
       "       [6, 7, 8]])"
      ]
     },
     "execution_count": 62,
     "metadata": {},
     "output_type": "execute_result"
    }
   ],
   "source": [
    "y"
   ]
  },
  {
   "cell_type": "code",
   "execution_count": 67,
   "id": "792cfb88-04e8-4093-bbe3-f7c8f30342c5",
   "metadata": {},
   "outputs": [
    {
     "data": {
      "text/plain": [
       "array([[[0, 1, 2],\n",
       "        [3, 4, 5],\n",
       "        [6, 7, 8]]])"
      ]
     },
     "execution_count": 67,
     "metadata": {},
     "output_type": "execute_result"
    }
   ],
   "source": [
    "X.reshape(-1, 3, 3)"
   ]
  },
  {
   "cell_type": "code",
   "execution_count": 68,
   "id": "560d82a6-c49b-4543-9470-3038901901ad",
   "metadata": {},
   "outputs": [
    {
     "data": {
      "text/plain": [
       "array([[[0, 1, 2],\n",
       "        [3, 4, 5],\n",
       "        [6, 7, 8]]])"
      ]
     },
     "execution_count": 68,
     "metadata": {},
     "output_type": "execute_result"
    }
   ],
   "source": [
    "X.reshape(1, 3, 3) # 3차원"
   ]
  },
  {
   "cell_type": "code",
   "execution_count": 73,
   "id": "eaac199b-6f64-4e39-9aad-f960070a4c9f",
   "metadata": {},
   "outputs": [
    {
     "data": {
      "text/plain": [
       "array([[ 0,  1,  2,  3],\n",
       "       [ 4,  5,  6,  7],\n",
       "       [ 8,  9, 10, 11],\n",
       "       [12, 13, 14, 15]])"
      ]
     },
     "execution_count": 73,
     "metadata": {},
     "output_type": "execute_result"
    }
   ],
   "source": [
    "X = np.arange(0, 16)\n",
    "X = X.reshape(4, 4)\n",
    "X"
   ]
  },
  {
   "cell_type": "code",
   "execution_count": 74,
   "id": "dba54cf5-ba0f-47ce-8c28-33ab9092e84d",
   "metadata": {},
   "outputs": [
    {
     "data": {
      "text/plain": [
       "(2, 4, 2)"
      ]
     },
     "execution_count": 74,
     "metadata": {},
     "output_type": "execute_result"
    }
   ],
   "source": [
    "X = X.reshape(2, 4, 2)\n",
    "X.shape # 요소2개->4개->2"
   ]
  },
  {
   "cell_type": "code",
   "execution_count": 75,
   "id": "b4359322-8b48-4df4-8f58-8903aab87392",
   "metadata": {},
   "outputs": [
    {
     "data": {
      "text/plain": [
       "array([[[ 0,  1],\n",
       "        [ 2,  3],\n",
       "        [ 4,  5],\n",
       "        [ 6,  7]],\n",
       "\n",
       "       [[ 8,  9],\n",
       "        [10, 11],\n",
       "        [12, 13],\n",
       "        [14, 15]]])"
      ]
     },
     "execution_count": 75,
     "metadata": {},
     "output_type": "execute_result"
    }
   ],
   "source": [
    "X"
   ]
  },
  {
   "cell_type": "code",
   "execution_count": 76,
   "id": "42e603a7-74e2-4f6e-8eb8-3dbb5af8706d",
   "metadata": {},
   "outputs": [],
   "source": [
    "X = np.array([1, 2, 3]) # 1차원\n",
    "y = np.array([[1], [2], [3]]) # 2차원"
   ]
  },
  {
   "cell_type": "code",
   "execution_count": 77,
   "id": "d0bdab97-c769-4ff9-95b5-abe52ab5716c",
   "metadata": {},
   "outputs": [
    {
     "data": {
      "text/plain": [
       "(3,)"
      ]
     },
     "execution_count": 77,
     "metadata": {},
     "output_type": "execute_result"
    }
   ],
   "source": [
    "X.shape"
   ]
  },
  {
   "cell_type": "code",
   "execution_count": 78,
   "id": "67a4cb0e-30e7-4f21-8be0-0099630515ba",
   "metadata": {},
   "outputs": [
    {
     "data": {
      "text/plain": [
       "(3, 1)"
      ]
     },
     "execution_count": 78,
     "metadata": {},
     "output_type": "execute_result"
    }
   ],
   "source": [
    "y.shape # 요소1개->3개"
   ]
  },
  {
   "cell_type": "code",
   "execution_count": 80,
   "id": "4875e5ad-4456-4717-94d6-f41f73afac2b",
   "metadata": {},
   "outputs": [
    {
     "data": {
      "text/plain": [
       "array([1, 2, 3])"
      ]
     },
     "execution_count": 80,
     "metadata": {},
     "output_type": "execute_result"
    }
   ],
   "source": [
    "y.reshape(3)"
   ]
  },
  {
   "cell_type": "code",
   "execution_count": 81,
   "id": "cf99df3a-4911-42d4-8aed-f8e924cb3ddc",
   "metadata": {},
   "outputs": [
    {
     "data": {
      "text/plain": [
       "array([1, 2, 3])"
      ]
     },
     "execution_count": 81,
     "metadata": {},
     "output_type": "execute_result"
    }
   ],
   "source": [
    "y.reshape(-1)"
   ]
  },
  {
   "cell_type": "code",
   "execution_count": 87,
   "id": "cbbc4c05-58aa-4bd1-bb6a-0bdb7450b22f",
   "metadata": {},
   "outputs": [
    {
     "data": {
      "text/plain": [
       "array([1, 2, 3])"
      ]
     },
     "execution_count": 87,
     "metadata": {},
     "output_type": "execute_result"
    }
   ],
   "source": [
    "y.reshape(y.shape[0])"
   ]
  },
  {
   "cell_type": "code",
   "execution_count": 84,
   "id": "c75451a0-5724-41ba-b027-012c7dd9a502",
   "metadata": {},
   "outputs": [
    {
     "data": {
      "text/plain": [
       "array([1, 2, 3])"
      ]
     },
     "execution_count": 84,
     "metadata": {},
     "output_type": "execute_result"
    }
   ],
   "source": [
    "y.reshape(len(y))"
   ]
  },
  {
   "cell_type": "code",
   "execution_count": 89,
   "id": "28ad3d44-f2bd-452b-bef0-361e6c28c995",
   "metadata": {},
   "outputs": [],
   "source": [
    "X = np.arange(0, 16)\n",
    "X = X.reshape(-1, 4, 2)"
   ]
  },
  {
   "cell_type": "code",
   "execution_count": 90,
   "id": "e2b53a66-53da-4a9a-a986-fb2c90207c72",
   "metadata": {},
   "outputs": [
    {
     "data": {
      "text/plain": [
       "array([[[ 0,  1],\n",
       "        [ 2,  3],\n",
       "        [ 4,  5],\n",
       "        [ 6,  7]],\n",
       "\n",
       "       [[ 8,  9],\n",
       "        [10, 11],\n",
       "        [12, 13],\n",
       "        [14, 15]]])"
      ]
     },
     "execution_count": 90,
     "metadata": {},
     "output_type": "execute_result"
    }
   ],
   "source": [
    "X"
   ]
  },
  {
   "cell_type": "code",
   "execution_count": null,
   "id": "59b54ae0-101b-437a-ad38-e80d8c4bde6d",
   "metadata": {},
   "outputs": [],
   "source": [
    "# 컬러 이미지 데이터=>(-1, 224, 224, 3)"
   ]
  },
  {
   "cell_type": "markdown",
   "id": "6fbfdbae-f346-4fdc-8f91-836752065c67",
   "metadata": {},
   "source": [
    "### 슬라이싱, 인덱싱\n",
    "- 슬라이싱: 범위 지정\n",
    "- 인덱싱: 포인트 지정"
   ]
  },
  {
   "cell_type": "code",
   "execution_count": 94,
   "id": "e560d1dd-4b45-439d-ad20-ad54f1c4828d",
   "metadata": {},
   "outputs": [
    {
     "data": {
      "text/plain": [
       "6"
      ]
     },
     "execution_count": 94,
     "metadata": {},
     "output_type": "execute_result"
    }
   ],
   "source": [
    "# 인덱싱\n",
    "X = np.array([4, 5, 6, 7, 8, 9, 0])\n",
    "X[2]"
   ]
  },
  {
   "cell_type": "code",
   "execution_count": 95,
   "id": "b88b633d-8b61-4a39-bad2-4a6d4191bde7",
   "metadata": {},
   "outputs": [
    {
     "data": {
      "text/plain": [
       "0"
      ]
     },
     "execution_count": 95,
     "metadata": {},
     "output_type": "execute_result"
    }
   ],
   "source": [
    "# 맨 마지막 인덱싱\n",
    "X[-1]"
   ]
  },
  {
   "cell_type": "code",
   "execution_count": 96,
   "id": "b5444684-92b1-492f-bf2d-739b253564b5",
   "metadata": {},
   "outputs": [
    {
     "data": {
      "text/plain": [
       "array([5, 6, 7])"
      ]
     },
     "execution_count": 96,
     "metadata": {},
     "output_type": "execute_result"
    }
   ],
   "source": [
    "# 슬라이싱\n",
    "X[1:4]"
   ]
  },
  {
   "cell_type": "code",
   "execution_count": 97,
   "id": "5933d52f-5b75-4bf1-8bb7-3d28d11966fd",
   "metadata": {},
   "outputs": [
    {
     "data": {
      "text/plain": [
       "array([4, 5, 6, 7])"
      ]
     },
     "execution_count": 97,
     "metadata": {},
     "output_type": "execute_result"
    }
   ],
   "source": [
    "# 슬라이싱\n",
    "X[:4]\n",
    "X[0:4]"
   ]
  },
  {
   "cell_type": "code",
   "execution_count": 98,
   "id": "4bff9767-cbb5-443b-838a-85b6cca3df6b",
   "metadata": {},
   "outputs": [
    {
     "data": {
      "text/plain": [
       "array([4, 5, 6, 7, 8, 9])"
      ]
     },
     "execution_count": 98,
     "metadata": {},
     "output_type": "execute_result"
    }
   ],
   "source": [
    "X[:-1] # 맨 마지막 제거"
   ]
  },
  {
   "cell_type": "code",
   "execution_count": 99,
   "id": "8a5d9ae6-5a29-4686-93d4-420138390a6a",
   "metadata": {},
   "outputs": [
    {
     "data": {
      "text/plain": [
       "array([4, 5, 6, 7, 8, 9, 0])"
      ]
     },
     "execution_count": 99,
     "metadata": {},
     "output_type": "execute_result"
    }
   ],
   "source": [
    "X[:] # 전체"
   ]
  },
  {
   "cell_type": "code",
   "execution_count": 100,
   "id": "f1ab8bc0-f27e-4111-bfce-af3e4883d841",
   "metadata": {},
   "outputs": [
    {
     "data": {
      "text/plain": [
       "0"
      ]
     },
     "execution_count": 100,
     "metadata": {},
     "output_type": "execute_result"
    }
   ],
   "source": [
    "X[:-1] # 속성\n",
    "X[-1] # 타겟"
   ]
  },
  {
   "cell_type": "code",
   "execution_count": 103,
   "id": "170a40d2-6606-46c3-bd30-61c8442a6522",
   "metadata": {},
   "outputs": [
    {
     "data": {
      "text/plain": [
       "array([[4, 5, 6],\n",
       "       [8, 9, 0]])"
      ]
     },
     "execution_count": 103,
     "metadata": {},
     "output_type": "execute_result"
    }
   ],
   "source": [
    "# 인덱싱\n",
    "X = np.array([[4, 5, 6], \n",
    "              [8, 9, 0]])\n",
    "X"
   ]
  },
  {
   "cell_type": "code",
   "execution_count": 106,
   "id": "84e1d618-283b-4668-86ba-b71371e28f2b",
   "metadata": {},
   "outputs": [
    {
     "data": {
      "text/plain": [
       "4"
      ]
     },
     "execution_count": 106,
     "metadata": {},
     "output_type": "execute_result"
    }
   ],
   "source": [
    "X[0, 0]"
   ]
  },
  {
   "cell_type": "code",
   "execution_count": 109,
   "id": "83af2683-6faa-4785-b90b-afff1fc85e97",
   "metadata": {},
   "outputs": [
    {
     "data": {
      "text/plain": [
       "array([5, 6])"
      ]
     },
     "execution_count": 109,
     "metadata": {},
     "output_type": "execute_result"
    }
   ],
   "source": [
    "# fancy indexing\n",
    "X[0, [1, 2]]"
   ]
  },
  {
   "cell_type": "code",
   "execution_count": 108,
   "id": "f136f513-0fca-465f-b4cd-949fb4e33e32",
   "metadata": {},
   "outputs": [
    {
     "data": {
      "text/plain": [
       "array([5, 6])"
      ]
     },
     "execution_count": 108,
     "metadata": {},
     "output_type": "execute_result"
    }
   ],
   "source": [
    "X[0, 1:] # indexing, slicing"
   ]
  },
  {
   "cell_type": "code",
   "execution_count": 110,
   "id": "26c4b0dd-650e-40af-a53c-02d8397b643f",
   "metadata": {},
   "outputs": [
    {
     "data": {
      "text/plain": [
       "array([], dtype=int32)"
      ]
     },
     "execution_count": 110,
     "metadata": {},
     "output_type": "execute_result"
    }
   ],
   "source": [
    "X = np.array([1, 2, 3, 4, 5])\n",
    "idx = [False, False, False, False, False]\n",
    "X[idx]"
   ]
  },
  {
   "cell_type": "code",
   "execution_count": 111,
   "id": "77b6ea88-0b46-47b0-a397-3868c1ede207",
   "metadata": {},
   "outputs": [
    {
     "data": {
      "text/plain": [
       "array([2, 4])"
      ]
     },
     "execution_count": 111,
     "metadata": {},
     "output_type": "execute_result"
    }
   ],
   "source": [
    "# boolean indexing\n",
    "X = np.array([1, 2, 3, 4, 5])\n",
    "idx = [False, True, False, True, False]\n",
    "X[idx]"
   ]
  },
  {
   "cell_type": "code",
   "execution_count": 114,
   "id": "d877d058-5d62-4841-bbd6-34acb5fa5971",
   "metadata": {},
   "outputs": [
    {
     "data": {
      "text/plain": [
       "array([7])"
      ]
     },
     "execution_count": 114,
     "metadata": {},
     "output_type": "execute_result"
    }
   ],
   "source": [
    "X = np.array([1, 5, 3, 7, 6])\n",
    "X[X > 6] # X > 6 boolean indexing"
   ]
  },
  {
   "cell_type": "code",
   "execution_count": 115,
   "id": "ea2a2f44-c6f1-4dd0-942c-5ead891bd325",
   "metadata": {},
   "outputs": [
    {
     "data": {
      "text/plain": [
       "array([7, 6])"
      ]
     },
     "execution_count": 115,
     "metadata": {},
     "output_type": "execute_result"
    }
   ],
   "source": [
    "X = np.array([1, 5, 3, 7, 6])\n",
    "X[X > 5] # X > 5 boolean indexing"
   ]
  },
  {
   "cell_type": "code",
   "execution_count": 116,
   "id": "47c027bf-c63d-457f-9f63-03b9c1f58330",
   "metadata": {},
   "outputs": [
    {
     "data": {
      "text/plain": [
       "array([[1, 2, 3],\n",
       "       [3, 4, 5]])"
      ]
     },
     "execution_count": 116,
     "metadata": {},
     "output_type": "execute_result"
    }
   ],
   "source": [
    "# 축 지정하기\n",
    "X = np.array([[1, 2, 3], \n",
    "              [3, 4, 5]])\n",
    "X"
   ]
  },
  {
   "cell_type": "code",
   "execution_count": null,
   "id": "19025343-9d30-4ae6-b44a-d193f2bb1149",
   "metadata": {},
   "outputs": [],
   "source": [
    "# 넘파이의 수학적인 연산"
   ]
  },
  {
   "cell_type": "code",
   "execution_count": 117,
   "id": "bca508c5-9c3e-44f6-bdeb-92c88527ed0e",
   "metadata": {},
   "outputs": [
    {
     "data": {
      "text/plain": [
       "18"
      ]
     },
     "execution_count": 117,
     "metadata": {},
     "output_type": "execute_result"
    }
   ],
   "source": [
    "np.sum(X) # 다 더해라"
   ]
  },
  {
   "cell_type": "code",
   "execution_count": 118,
   "id": "6577e4b0-768c-4ab8-8758-2731e5833623",
   "metadata": {},
   "outputs": [
    {
     "data": {
      "text/plain": [
       "array([4, 6, 8])"
      ]
     },
     "execution_count": 118,
     "metadata": {},
     "output_type": "execute_result"
    }
   ],
   "source": [
    "np.sum(X, axis=0)"
   ]
  },
  {
   "cell_type": "code",
   "execution_count": 119,
   "id": "e81fdc10-d087-453e-b23f-04b94573b59e",
   "metadata": {},
   "outputs": [
    {
     "data": {
      "text/plain": [
       "array([ 6, 12])"
      ]
     },
     "execution_count": 119,
     "metadata": {},
     "output_type": "execute_result"
    }
   ],
   "source": [
    "np.sum(X, axis=1)"
   ]
  },
  {
   "cell_type": "code",
   "execution_count": 121,
   "id": "92915876-0390-412a-bdff-bfc866819892",
   "metadata": {},
   "outputs": [
    {
     "data": {
      "text/plain": [
       "3.0"
      ]
     },
     "execution_count": 121,
     "metadata": {},
     "output_type": "execute_result"
    }
   ],
   "source": [
    "np.mean(X)"
   ]
  },
  {
   "cell_type": "code",
   "execution_count": 120,
   "id": "d6f54868-db3a-4c61-b045-42df8e5fc52b",
   "metadata": {},
   "outputs": [
    {
     "data": {
      "text/plain": [
       "array([2., 3., 4.])"
      ]
     },
     "execution_count": 120,
     "metadata": {},
     "output_type": "execute_result"
    }
   ],
   "source": [
    "np.mean(X, axis=0)"
   ]
  },
  {
   "cell_type": "code",
   "execution_count": 122,
   "id": "a8a3517d-d039-45a4-9b02-d144fe263eff",
   "metadata": {},
   "outputs": [
    {
     "data": {
      "text/plain": [
       "array([2., 4.])"
      ]
     },
     "execution_count": 122,
     "metadata": {},
     "output_type": "execute_result"
    }
   ],
   "source": [
    "np.mean(X, axis=1)"
   ]
  },
  {
   "cell_type": "code",
   "execution_count": 123,
   "id": "2951f2a1-5736-483a-bbbf-5ae6cc6b8353",
   "metadata": {},
   "outputs": [
    {
     "data": {
      "text/plain": [
       "array([2., 4.])"
      ]
     },
     "execution_count": 123,
     "metadata": {},
     "output_type": "execute_result"
    }
   ],
   "source": [
    "np.mean(X, axis=-1)"
   ]
  },
  {
   "cell_type": "code",
   "execution_count": 124,
   "id": "f5c0794d-e337-4830-9b02-dfbef00d84f3",
   "metadata": {},
   "outputs": [
    {
     "data": {
      "text/plain": [
       "array([1, 2, 3])"
      ]
     },
     "execution_count": 124,
     "metadata": {},
     "output_type": "execute_result"
    }
   ],
   "source": [
    "# numpy broadcasting=>모든게 되는 것이 아님\n",
    "\n",
    "X = np.array([1, 2, 3])\n",
    "X"
   ]
  },
  {
   "cell_type": "code",
   "execution_count": 125,
   "id": "54c70b47-c8f6-4506-afcc-d165d953cce8",
   "metadata": {},
   "outputs": [
    {
     "data": {
      "text/plain": [
       "array([2, 3, 4])"
      ]
     },
     "execution_count": 125,
     "metadata": {},
     "output_type": "execute_result"
    }
   ],
   "source": [
    "X + 1"
   ]
  },
  {
   "cell_type": "code",
   "execution_count": 127,
   "id": "beed2e71-69ab-45ad-8fba-6a977001b353",
   "metadata": {},
   "outputs": [
    {
     "data": {
      "text/plain": [
       "array([2, 3, 4])"
      ]
     },
     "execution_count": 127,
     "metadata": {},
     "output_type": "execute_result"
    }
   ],
   "source": [
    "X + [1, 1, 1]"
   ]
  },
  {
   "cell_type": "code",
   "execution_count": 131,
   "id": "7899f766-eb5b-4274-9943-b838aa11ec97",
   "metadata": {},
   "outputs": [
    {
     "data": {
      "text/plain": [
       "array([[0],\n",
       "       [1],\n",
       "       [2]])"
      ]
     },
     "execution_count": 131,
     "metadata": {},
     "output_type": "execute_result"
    }
   ],
   "source": [
    "X = np.array([[0], [1], [2]]) # 2차원\n",
    "X"
   ]
  },
  {
   "cell_type": "code",
   "execution_count": 134,
   "id": "4d928fe3-42de-4e20-9ad2-ff594757cae8",
   "metadata": {},
   "outputs": [
    {
     "data": {
      "text/plain": [
       "(3, 1)"
      ]
     },
     "execution_count": 134,
     "metadata": {},
     "output_type": "execute_result"
    }
   ],
   "source": [
    "X.shape"
   ]
  },
  {
   "cell_type": "code",
   "execution_count": 132,
   "id": "07a95064-43ab-44a4-a3a0-3bc1cf8fd41b",
   "metadata": {},
   "outputs": [
    {
     "data": {
      "text/plain": [
       "array([0, 1, 2])"
      ]
     },
     "execution_count": 132,
     "metadata": {},
     "output_type": "execute_result"
    }
   ],
   "source": [
    "y = np.array([0, 1, 2])\n",
    "y"
   ]
  },
  {
   "cell_type": "code",
   "execution_count": 133,
   "id": "864f482a-c678-45cc-a79d-cf111278dcc2",
   "metadata": {},
   "outputs": [
    {
     "data": {
      "text/plain": [
       "array([[0, 1, 2],\n",
       "       [1, 2, 3],\n",
       "       [2, 3, 4]])"
      ]
     },
     "execution_count": 133,
     "metadata": {},
     "output_type": "execute_result"
    }
   ],
   "source": [
    "X + y"
   ]
  },
  {
   "cell_type": "code",
   "execution_count": 138,
   "id": "c1e66bda-50a2-49a5-8947-dffb325f6032",
   "metadata": {},
   "outputs": [
    {
     "data": {
      "text/plain": [
       "array(['1', '2', '3'], dtype='<U11')"
      ]
     },
     "execution_count": 138,
     "metadata": {},
     "output_type": "execute_result"
    }
   ],
   "source": [
    "X = np.array([1, 2, '3'])\n",
    "X # 실행이 되고, 모두 문자열로 바뀐다"
   ]
  },
  {
   "cell_type": "code",
   "execution_count": 141,
   "id": "89a2161b-fe48-4c2a-8438-2dc2a92abbdc",
   "metadata": {},
   "outputs": [
    {
     "data": {
      "text/plain": [
       "array([1, 2, 3])"
      ]
     },
     "execution_count": 141,
     "metadata": {},
     "output_type": "execute_result"
    }
   ],
   "source": [
    "X.astype(np.int32)  # np.int62, 메모리를 줄이기 위한 시도"
   ]
  },
  {
   "cell_type": "code",
   "execution_count": null,
   "id": "5810690e-f608-40f0-8227-a187437ed071",
   "metadata": {},
   "outputs": [],
   "source": [
    "# np.int, np.float"
   ]
  },
  {
   "cell_type": "markdown",
   "id": "9680a406-e6e3-4de4-8737-4f4b9525a46f",
   "metadata": {},
   "source": [
    "### random 함수: 난수 생성기\n",
    "  - ML, DL에서 난수로 초기화, 난수를 이용하여 데이터를 섞음\n",
    "  - 표준화 작업 시, 균등분포(uniform distribution), 정규분포(standard distribution)"
   ]
  },
  {
   "cell_type": "markdown",
   "id": "938ed89d-530b-48f4-a9f6-3ef4cb62aa50",
   "metadata": {},
   "source": [
    "- tool: [cmder](https://cmder.app/)"
   ]
  },
  {
   "cell_type": "markdown",
   "id": "92c77204-df33-4261-8181-375d43cc0a03",
   "metadata": {},
   "source": [
    "### 난수 생성 함수"
   ]
  },
  {
   "cell_type": "code",
   "execution_count": 1,
   "id": "636a0dd1-7b5d-433b-bc49-787c2926f907",
   "metadata": {},
   "outputs": [
    {
     "data": {
      "text/plain": [
       "'1.21.0'"
      ]
     },
     "execution_count": 1,
     "metadata": {},
     "output_type": "execute_result"
    }
   ],
   "source": [
    "import numpy as np\n",
    "np.__version__ # 버전 확인"
   ]
  },
  {
   "cell_type": "markdown",
   "id": "1a6468e2-d92d-4cd7-8d9d-17935be9f219",
   "metadata": {},
   "source": [
    "#### np.random.random()\n",
    "- [0.0, 1.0) 사이의 값을 반환하는 함수\n",
    "- uniform distribution"
   ]
  },
  {
   "cell_type": "code",
   "execution_count": 5,
   "id": "d8ad1d9a-b829-4633-996b-4684ea51d3f9",
   "metadata": {},
   "outputs": [
    {
     "data": {
      "text/plain": [
       "array([0.80386188, 0.46259659, 0.56377531])"
      ]
     },
     "execution_count": 5,
     "metadata": {},
     "output_type": "execute_result"
    }
   ],
   "source": [
    "np.random.random(3)"
   ]
  },
  {
   "cell_type": "code",
   "execution_count": 6,
   "id": "c2e4afd6-e118-4aa5-8e85-3b758463af6e",
   "metadata": {},
   "outputs": [
    {
     "data": {
      "text/plain": [
       "array([[0.67552176, 0.43613186],\n",
       "       [0.83174698, 0.68654841]])"
      ]
     },
     "execution_count": 6,
     "metadata": {},
     "output_type": "execute_result"
    }
   ],
   "source": [
    "np.random.random((2, 2)) # uniform distribution로 원하는 다차원 배열 생성"
   ]
  },
  {
   "cell_type": "code",
   "execution_count": null,
   "id": "85c7da66-1f8e-4acd-a050-679319a8a08f",
   "metadata": {},
   "outputs": [],
   "source": [
    "# random(), random_sample(), rand()"
   ]
  },
  {
   "cell_type": "code",
   "execution_count": 8,
   "id": "b4f85dd0-d80f-41d6-bf53-b4b4f71b6b46",
   "metadata": {},
   "outputs": [
    {
     "data": {
      "text/plain": [
       "array([[0.92901135, 0.7087254 ],\n",
       "       [0.93462534, 0.42281408],\n",
       "       [0.95552157, 0.68289357]])"
      ]
     },
     "execution_count": 8,
     "metadata": {},
     "output_type": "execute_result"
    }
   ],
   "source": [
    "np.random.random((3, 2)) # size=None"
   ]
  },
  {
   "cell_type": "code",
   "execution_count": 9,
   "id": "ad4027bf-7188-47f4-ba24-5d89f3fbc0fb",
   "metadata": {},
   "outputs": [
    {
     "data": {
      "text/plain": [
       "array([[0.03949329, 0.97080591],\n",
       "       [0.28511123, 0.79234228],\n",
       "       [0.80347918, 0.45630884]])"
      ]
     },
     "execution_count": 9,
     "metadata": {},
     "output_type": "execute_result"
    }
   ],
   "source": [
    "np.random.random_sample((3, 2)) # size=None"
   ]
  },
  {
   "cell_type": "code",
   "execution_count": 7,
   "id": "4497d044-dfd5-47a5-9b99-06168ee02e5a",
   "metadata": {},
   "outputs": [
    {
     "data": {
      "text/plain": [
       "array([[0.98944592, 0.42864381],\n",
       "       [0.08662706, 0.93070126],\n",
       "       [0.07770708, 0.68754683]])"
      ]
     },
     "execution_count": 7,
     "metadata": {},
     "output_type": "execute_result"
    }
   ],
   "source": [
    "np.random.rand(3, 2) # d0, d1, ..."
   ]
  },
  {
   "cell_type": "markdown",
   "id": "15da7d89-d298-48a7-994b-c18444479974",
   "metadata": {},
   "source": [
    "#### randn()\n",
    "- 표준정규분포 추출\n",
    "- n: standard normal distribution(표준정규분포: 평균이 0, 표준편차가 1인 정규분포)"
   ]
  },
  {
   "cell_type": "code",
   "execution_count": 11,
   "id": "96c0e6be-b13c-41e5-927c-b6237a915079",
   "metadata": {},
   "outputs": [
    {
     "data": {
      "text/plain": [
       "array([[-0.64529594,  1.84600478],\n",
       "       [ 0.05178288,  0.32456144],\n",
       "       [-0.44459786, -1.3397876 ]])"
      ]
     },
     "execution_count": 11,
     "metadata": {},
     "output_type": "execute_result"
    }
   ],
   "source": [
    "np.random.randn(3, 2)"
   ]
  },
  {
   "cell_type": "markdown",
   "id": "711a4bd0-5ffe-4aa1-b279-d72e0ec05739",
   "metadata": {},
   "source": [
    "#### randint()\n"
   ]
  },
  {
   "cell_type": "code",
   "execution_count": 14,
   "id": "4d81b9a2-2c1e-41f2-a1b4-430b37eb80b8",
   "metadata": {},
   "outputs": [
    {
     "data": {
      "text/plain": [
       "50"
      ]
     },
     "execution_count": 14,
     "metadata": {},
     "output_type": "execute_result"
    }
   ],
   "source": [
    "np.random.randint(1, 100) # 1부터 100 사이의 숫자 1개 추출"
   ]
  },
  {
   "cell_type": "code",
   "execution_count": 15,
   "id": "65bc56b8-24ca-4983-ac19-ee5e7a8f3162",
   "metadata": {},
   "outputs": [
    {
     "data": {
      "text/plain": [
       "array([62, 15, 97])"
      ]
     },
     "execution_count": 15,
     "metadata": {},
     "output_type": "execute_result"
    }
   ],
   "source": [
    "np.random.randint(1, 100, 3) # 1부터 100 사이의 숫자 3개 추출"
   ]
  },
  {
   "cell_type": "code",
   "execution_count": 16,
   "id": "819a34db-21e7-4440-ac39-8f66a3a84e53",
   "metadata": {},
   "outputs": [
    {
     "data": {
      "text/plain": [
       "array([[55, 77],\n",
       "       [19, 85],\n",
       "       [18, 96]])"
      ]
     },
     "execution_count": 16,
     "metadata": {},
     "output_type": "execute_result"
    }
   ],
   "source": [
    "np.random.randint(1, 100, (3, 2)) # 1부터 100 사이의 (3, 2) 배열 추출"
   ]
  },
  {
   "cell_type": "code",
   "execution_count": 20,
   "id": "bfaf4cc9-879c-4bba-b012-31ca3f80a131",
   "metadata": {},
   "outputs": [
    {
     "data": {
      "text/plain": [
       "array([-0.0005279 , -0.27490142, -0.13928556])"
      ]
     },
     "execution_count": 20,
     "metadata": {},
     "output_type": "execute_result"
    }
   ],
   "source": [
    "np.random.seed(2022) # ML, DL에서는 seed 고정하기\n",
    "np.random.randn(3)"
   ]
  },
  {
   "cell_type": "markdown",
   "id": "92c5dfa0-b8a9-43ab-883f-2f96203e5272",
   "metadata": {},
   "source": [
    "### 연산"
   ]
  },
  {
   "cell_type": "code",
   "execution_count": 44,
   "id": "3f54ee11-fdcd-4ec3-a9cd-b8e10909dae5",
   "metadata": {},
   "outputs": [],
   "source": [
    "x = np.array([[1, 2], \n",
    "              [3, 4]])\n",
    "y = np.array([[5, 6], \n",
    "              [7, 8]])"
   ]
  },
  {
   "cell_type": "code",
   "execution_count": 45,
   "id": "1ce6c2e0-c776-4e36-ae0f-2bb1804f22e4",
   "metadata": {},
   "outputs": [
    {
     "data": {
      "text/plain": [
       "array([[ 6,  8],\n",
       "       [10, 12]])"
      ]
     },
     "execution_count": 45,
     "metadata": {},
     "output_type": "execute_result"
    }
   ],
   "source": [
    "x + y"
   ]
  },
  {
   "cell_type": "code",
   "execution_count": 46,
   "id": "d818fa10-c39b-4b2b-b2ea-10ecaf563af8",
   "metadata": {},
   "outputs": [
    {
     "data": {
      "text/plain": [
       "array([[ 6,  8],\n",
       "       [10, 12]])"
      ]
     },
     "execution_count": 46,
     "metadata": {},
     "output_type": "execute_result"
    }
   ],
   "source": [
    "np.add(x, y)"
   ]
  },
  {
   "cell_type": "code",
   "execution_count": 47,
   "id": "d1b41787-f803-4853-98ed-0213472042b4",
   "metadata": {},
   "outputs": [
    {
     "data": {
      "text/plain": [
       "(array([[-4, -4],\n",
       "        [-4, -4]]),\n",
       " array([[-4, -4],\n",
       "        [-4, -4]]))"
      ]
     },
     "execution_count": 47,
     "metadata": {},
     "output_type": "execute_result"
    }
   ],
   "source": [
    "x-y, np.subtract(x, y)"
   ]
  },
  {
   "cell_type": "code",
   "execution_count": 48,
   "id": "1af58a62-4a62-4a16-9523-6f3aa81b4462",
   "metadata": {},
   "outputs": [
    {
     "data": {
      "text/plain": [
       "(array([[0.2       , 0.33333333],\n",
       "        [0.42857143, 0.5       ]]),\n",
       " array([[0.2       , 0.33333333],\n",
       "        [0.42857143, 0.5       ]]))"
      ]
     },
     "execution_count": 48,
     "metadata": {},
     "output_type": "execute_result"
    }
   ],
   "source": [
    "x/y, np.divide(x, y)"
   ]
  },
  {
   "cell_type": "code",
   "execution_count": 49,
   "id": "34707ce5-0a75-4a81-a3d8-2e83567abee7",
   "metadata": {},
   "outputs": [
    {
     "data": {
      "text/plain": [
       "(array([[ 5, 12],\n",
       "        [21, 32]]),\n",
       " array([[ 5, 12],\n",
       "        [21, 32]]))"
      ]
     },
     "execution_count": 49,
     "metadata": {},
     "output_type": "execute_result"
    }
   ],
   "source": [
    "x * y, np.multiply(x, y)"
   ]
  },
  {
   "cell_type": "markdown",
   "id": "8d1d9375-803d-432e-9e9e-d2dd923763f9",
   "metadata": {},
   "source": [
    "- np.dot(), np.matmul()\n",
    "  - 2차원 계산은 동일함\n",
    "  - 3차원 이상은 계산 방식이 달라짐"
   ]
  },
  {
   "cell_type": "code",
   "execution_count": 50,
   "id": "801f19b1-2c38-4ccd-858b-03ae0040ec1f",
   "metadata": {},
   "outputs": [
    {
     "data": {
      "text/plain": [
       "(array([[19, 22],\n",
       "        [43, 50]]),\n",
       " array([[19, 22],\n",
       "        [43, 50]]))"
      ]
     },
     "execution_count": 50,
     "metadata": {},
     "output_type": "execute_result"
    }
   ],
   "source": [
    "x@y, np.dot(x, y) # 행렬 곱"
   ]
  },
  {
   "cell_type": "code",
   "execution_count": 51,
   "id": "5b8a33ac-c794-4de2-adb2-b016cc8d77f8",
   "metadata": {},
   "outputs": [
    {
     "data": {
      "text/plain": [
       "array([[19, 22],\n",
       "       [43, 50]])"
      ]
     },
     "execution_count": 51,
     "metadata": {},
     "output_type": "execute_result"
    }
   ],
   "source": [
    "np.matmul(x, y)"
   ]
  },
  {
   "cell_type": "code",
   "execution_count": 52,
   "id": "c6d3058a-2442-4407-b461-70d5ca2c1ce4",
   "metadata": {},
   "outputs": [
    {
     "data": {
      "text/plain": [
       "32"
      ]
     },
     "execution_count": 52,
     "metadata": {},
     "output_type": "execute_result"
    }
   ],
   "source": [
    "x = np.array([1, 2, 3])\n",
    "y = np.array([4, 5, 6])\n",
    "\n",
    "np.matmul(x, y)"
   ]
  },
  {
   "cell_type": "code",
   "execution_count": 53,
   "id": "9c2ef6c7-fef5-4e6d-9d9b-dcb46b6f0b95",
   "metadata": {},
   "outputs": [
    {
     "data": {
      "text/plain": [
       "array([[19, 22],\n",
       "       [43, 50]])"
      ]
     },
     "execution_count": 53,
     "metadata": {},
     "output_type": "execute_result"
    }
   ],
   "source": [
    "x = np.array([[1, 2], \n",
    "              [3, 4]])\n",
    "y = np.array([[5, 6], \n",
    "              [7, 8]])\n",
    "\n",
    "np.matmul(x, y)"
   ]
  },
  {
   "cell_type": "markdown",
   "id": "132d8207-2543-486b-83b1-2f8bbf0e084a",
   "metadata": {},
   "source": [
    "#### np.argmax()"
   ]
  },
  {
   "cell_type": "code",
   "execution_count": 67,
   "id": "1e710c27-fb73-444f-9743-56f151f215bb",
   "metadata": {},
   "outputs": [
    {
     "data": {
      "text/plain": [
       "array([[ 0.3212673 , -1.36955373, -0.21316804, -0.11474626],\n",
       "       [ 0.62236932,  0.5552443 , -2.95743224, -0.7404756 ],\n",
       "       [ 0.9445802 ,  1.097988  ,  0.49495839,  1.26100215],\n",
       "       [ 0.63515109,  0.65740002, -0.78092801, -0.51890806],\n",
       "       [-0.78217171, -1.40580514, -0.65157147,  0.62651708]])"
      ]
     },
     "execution_count": 67,
     "metadata": {},
     "output_type": "execute_result"
    }
   ],
   "source": [
    "x = np.random.randn(5, 4)\n",
    "x"
   ]
  },
  {
   "cell_type": "code",
   "execution_count": 68,
   "id": "e8766559-c601-44fd-871f-c1fa86d186e6",
   "metadata": {},
   "outputs": [
    {
     "data": {
      "text/plain": [
       "array([0, 0, 3, 1, 3], dtype=int64)"
      ]
     },
     "execution_count": 68,
     "metadata": {},
     "output_type": "execute_result"
    }
   ],
   "source": [
    "np.argmax(x, axis=1)"
   ]
  },
  {
   "cell_type": "markdown",
   "id": "c5ce9cbb-bda6-485a-9c3f-4b2be07bffed",
   "metadata": {},
   "source": [
    "### 저장 savez()\n",
    "- 넘파이 배열을 여러 개 저장할 수 있음"
   ]
  },
  {
   "cell_type": "code",
   "execution_count": 70,
   "id": "1f6a15e6-c06d-47a4-bfc4-fa869beabd03",
   "metadata": {},
   "outputs": [
    {
     "data": {
      "text/plain": [
       "array([[-0.26220762, -1.492324  , -0.51367482,  0.30232325],\n",
       "       [-1.68503559,  1.81021357, -0.23144082, -0.48362959],\n",
       "       [-1.21067889, -1.73535342, -0.92426992,  0.95416358],\n",
       "       [ 1.12984836, -0.59711258, -0.67519295,  2.32168905],\n",
       "       [ 1.58295323, -1.54052915,  1.44616767,  0.18427423]])"
      ]
     },
     "execution_count": 70,
     "metadata": {},
     "output_type": "execute_result"
    }
   ],
   "source": [
    "x = np.random.randn(5, 4)\n",
    "y = np.random.randn(3, 3)\n",
    "x"
   ]
  },
  {
   "cell_type": "code",
   "execution_count": 71,
   "id": "2003e699-5c6e-489b-9b2f-fc1d9028d851",
   "metadata": {},
   "outputs": [
    {
     "data": {
      "text/plain": [
       "array([[ 0.21413282, -0.87147387, -1.25398238],\n",
       "       [ 1.14069901,  0.20168216,  1.97784089],\n",
       "       [ 0.00610091,  0.63417783,  0.70990048]])"
      ]
     },
     "execution_count": 71,
     "metadata": {},
     "output_type": "execute_result"
    }
   ],
   "source": [
    "y"
   ]
  },
  {
   "cell_type": "code",
   "execution_count": 72,
   "id": "468f5d5d-ccd1-48ac-819d-24cbf5ecb459",
   "metadata": {},
   "outputs": [],
   "source": [
    "np.savez('mydata.npz', xvar=x, yvar=y)"
   ]
  },
  {
   "cell_type": "code",
   "execution_count": 73,
   "id": "5c9fb95b-05ab-4303-97e2-fbf0a41517d2",
   "metadata": {},
   "outputs": [],
   "source": [
    "# 파일 로딩\n",
    "mydata = np.load('mydata.npz')"
   ]
  },
  {
   "cell_type": "code",
   "execution_count": 75,
   "id": "63552319-957a-43a4-9c94-880250ac1e8f",
   "metadata": {},
   "outputs": [
    {
     "data": {
      "text/plain": [
       "array([[-0.26220762, -1.492324  , -0.51367482,  0.30232325],\n",
       "       [-1.68503559,  1.81021357, -0.23144082, -0.48362959],\n",
       "       [-1.21067889, -1.73535342, -0.92426992,  0.95416358],\n",
       "       [ 1.12984836, -0.59711258, -0.67519295,  2.32168905],\n",
       "       [ 1.58295323, -1.54052915,  1.44616767,  0.18427423]])"
      ]
     },
     "execution_count": 75,
     "metadata": {},
     "output_type": "execute_result"
    }
   ],
   "source": [
    "x = mydata['xvar']\n",
    "x"
   ]
  },
  {
   "cell_type": "code",
   "execution_count": 76,
   "id": "10470cc1-fdd6-4f2a-8b24-dd8e4e8f8421",
   "metadata": {},
   "outputs": [
    {
     "data": {
      "text/plain": [
       "array([[ 0.21413282, -0.87147387, -1.25398238],\n",
       "       [ 1.14069901,  0.20168216,  1.97784089],\n",
       "       [ 0.00610091,  0.63417783,  0.70990048]])"
      ]
     },
     "execution_count": 76,
     "metadata": {},
     "output_type": "execute_result"
    }
   ],
   "source": [
    "y = mydata['yvar']\n",
    "y"
   ]
  }
 ],
 "metadata": {
  "kernelspec": {
   "display_name": "flyai",
   "language": "python",
   "name": "flyai"
  },
  "language_info": {
   "codemirror_mode": {
    "name": "ipython",
    "version": 3
   },
   "file_extension": ".py",
   "mimetype": "text/x-python",
   "name": "python",
   "nbconvert_exporter": "python",
   "pygments_lexer": "ipython3",
   "version": "3.8.0"
  }
 },
 "nbformat": 4,
 "nbformat_minor": 5
}
